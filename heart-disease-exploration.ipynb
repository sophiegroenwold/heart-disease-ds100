{
 "cells": [
  {
   "cell_type": "markdown",
   "metadata": {
    "hideCode": true,
    "hidePrompt": true
   },
   "source": [
    "# Heart Disease Exploration\n",
    "\n",
    "Authors: Sophie Groenwold, Priyanka Banerjee"
   ]
  },
  {
   "cell_type": "code",
   "execution_count": 3,
   "metadata": {},
   "outputs": [],
   "source": [
    "import numpy as np\n",
    "import altair as alt\n",
    "import pandas as pd"
   ]
  },
  {
   "cell_type": "markdown",
   "metadata": {},
   "source": [
    "## Trying to use 1-4 target values\n",
    "\n",
    "Scratch work."
   ]
  },
  {
   "cell_type": "code",
   "execution_count": 4,
   "metadata": {
    "scrolled": true
   },
   "outputs": [
    {
     "data": {
      "text/html": [
       "<div>\n",
       "<style scoped>\n",
       "    .dataframe tbody tr th:only-of-type {\n",
       "        vertical-align: middle;\n",
       "    }\n",
       "\n",
       "    .dataframe tbody tr th {\n",
       "        vertical-align: top;\n",
       "    }\n",
       "\n",
       "    .dataframe thead th {\n",
       "        text-align: right;\n",
       "    }\n",
       "</style>\n",
       "<table border=\"1\" class=\"dataframe\">\n",
       "  <thead>\n",
       "    <tr style=\"text-align: right;\">\n",
       "      <th></th>\n",
       "      <th>age</th>\n",
       "      <th>sex</th>\n",
       "      <th>cp</th>\n",
       "      <th>trestbps</th>\n",
       "      <th>chol</th>\n",
       "      <th>fbs</th>\n",
       "      <th>restecg</th>\n",
       "      <th>thalach</th>\n",
       "      <th>exang</th>\n",
       "      <th>oldpeak</th>\n",
       "      <th>slope</th>\n",
       "      <th>ca</th>\n",
       "      <th>thal</th>\n",
       "      <th>target</th>\n",
       "    </tr>\n",
       "  </thead>\n",
       "  <tbody>\n",
       "    <tr>\n",
       "      <th>0</th>\n",
       "      <td>29</td>\n",
       "      <td>1</td>\n",
       "      <td>1</td>\n",
       "      <td>130</td>\n",
       "      <td>204</td>\n",
       "      <td>0</td>\n",
       "      <td>0</td>\n",
       "      <td>202</td>\n",
       "      <td>0</td>\n",
       "      <td>0.0</td>\n",
       "      <td>2</td>\n",
       "      <td>0</td>\n",
       "      <td>2</td>\n",
       "      <td>1</td>\n",
       "    </tr>\n",
       "    <tr>\n",
       "      <th>1</th>\n",
       "      <td>34</td>\n",
       "      <td>1</td>\n",
       "      <td>3</td>\n",
       "      <td>118</td>\n",
       "      <td>182</td>\n",
       "      <td>0</td>\n",
       "      <td>0</td>\n",
       "      <td>174</td>\n",
       "      <td>0</td>\n",
       "      <td>0.0</td>\n",
       "      <td>2</td>\n",
       "      <td>0</td>\n",
       "      <td>2</td>\n",
       "      <td>1</td>\n",
       "    </tr>\n",
       "    <tr>\n",
       "      <th>2</th>\n",
       "      <td>34</td>\n",
       "      <td>0</td>\n",
       "      <td>1</td>\n",
       "      <td>118</td>\n",
       "      <td>210</td>\n",
       "      <td>0</td>\n",
       "      <td>1</td>\n",
       "      <td>192</td>\n",
       "      <td>0</td>\n",
       "      <td>0.7</td>\n",
       "      <td>2</td>\n",
       "      <td>0</td>\n",
       "      <td>2</td>\n",
       "      <td>1</td>\n",
       "    </tr>\n",
       "    <tr>\n",
       "      <th>3</th>\n",
       "      <td>35</td>\n",
       "      <td>1</td>\n",
       "      <td>0</td>\n",
       "      <td>126</td>\n",
       "      <td>282</td>\n",
       "      <td>0</td>\n",
       "      <td>0</td>\n",
       "      <td>156</td>\n",
       "      <td>1</td>\n",
       "      <td>0.0</td>\n",
       "      <td>2</td>\n",
       "      <td>0</td>\n",
       "      <td>3</td>\n",
       "      <td>0</td>\n",
       "    </tr>\n",
       "    <tr>\n",
       "      <th>4</th>\n",
       "      <td>35</td>\n",
       "      <td>0</td>\n",
       "      <td>0</td>\n",
       "      <td>138</td>\n",
       "      <td>183</td>\n",
       "      <td>0</td>\n",
       "      <td>1</td>\n",
       "      <td>182</td>\n",
       "      <td>0</td>\n",
       "      <td>1.4</td>\n",
       "      <td>2</td>\n",
       "      <td>0</td>\n",
       "      <td>2</td>\n",
       "      <td>1</td>\n",
       "    </tr>\n",
       "    <tr>\n",
       "      <th>...</th>\n",
       "      <td>...</td>\n",
       "      <td>...</td>\n",
       "      <td>...</td>\n",
       "      <td>...</td>\n",
       "      <td>...</td>\n",
       "      <td>...</td>\n",
       "      <td>...</td>\n",
       "      <td>...</td>\n",
       "      <td>...</td>\n",
       "      <td>...</td>\n",
       "      <td>...</td>\n",
       "      <td>...</td>\n",
       "      <td>...</td>\n",
       "      <td>...</td>\n",
       "    </tr>\n",
       "    <tr>\n",
       "      <th>298</th>\n",
       "      <td>71</td>\n",
       "      <td>0</td>\n",
       "      <td>2</td>\n",
       "      <td>110</td>\n",
       "      <td>265</td>\n",
       "      <td>1</td>\n",
       "      <td>0</td>\n",
       "      <td>130</td>\n",
       "      <td>0</td>\n",
       "      <td>0.0</td>\n",
       "      <td>2</td>\n",
       "      <td>1</td>\n",
       "      <td>2</td>\n",
       "      <td>1</td>\n",
       "    </tr>\n",
       "    <tr>\n",
       "      <th>299</th>\n",
       "      <td>71</td>\n",
       "      <td>0</td>\n",
       "      <td>0</td>\n",
       "      <td>112</td>\n",
       "      <td>149</td>\n",
       "      <td>0</td>\n",
       "      <td>1</td>\n",
       "      <td>125</td>\n",
       "      <td>0</td>\n",
       "      <td>1.6</td>\n",
       "      <td>1</td>\n",
       "      <td>0</td>\n",
       "      <td>2</td>\n",
       "      <td>1</td>\n",
       "    </tr>\n",
       "    <tr>\n",
       "      <th>300</th>\n",
       "      <td>74</td>\n",
       "      <td>0</td>\n",
       "      <td>1</td>\n",
       "      <td>120</td>\n",
       "      <td>269</td>\n",
       "      <td>0</td>\n",
       "      <td>0</td>\n",
       "      <td>121</td>\n",
       "      <td>1</td>\n",
       "      <td>0.2</td>\n",
       "      <td>2</td>\n",
       "      <td>1</td>\n",
       "      <td>2</td>\n",
       "      <td>1</td>\n",
       "    </tr>\n",
       "    <tr>\n",
       "      <th>301</th>\n",
       "      <td>76</td>\n",
       "      <td>0</td>\n",
       "      <td>2</td>\n",
       "      <td>140</td>\n",
       "      <td>197</td>\n",
       "      <td>0</td>\n",
       "      <td>2</td>\n",
       "      <td>116</td>\n",
       "      <td>0</td>\n",
       "      <td>1.1</td>\n",
       "      <td>1</td>\n",
       "      <td>0</td>\n",
       "      <td>2</td>\n",
       "      <td>1</td>\n",
       "    </tr>\n",
       "    <tr>\n",
       "      <th>302</th>\n",
       "      <td>77</td>\n",
       "      <td>1</td>\n",
       "      <td>0</td>\n",
       "      <td>125</td>\n",
       "      <td>304</td>\n",
       "      <td>0</td>\n",
       "      <td>0</td>\n",
       "      <td>162</td>\n",
       "      <td>1</td>\n",
       "      <td>0.0</td>\n",
       "      <td>2</td>\n",
       "      <td>3</td>\n",
       "      <td>2</td>\n",
       "      <td>0</td>\n",
       "    </tr>\n",
       "  </tbody>\n",
       "</table>\n",
       "<p>303 rows × 14 columns</p>\n",
       "</div>"
      ],
      "text/plain": [
       "     age  sex  cp  trestbps  chol  fbs  restecg  thalach  exang  oldpeak  \\\n",
       "0     29    1   1       130   204    0        0      202      0      0.0   \n",
       "1     34    1   3       118   182    0        0      174      0      0.0   \n",
       "2     34    0   1       118   210    0        1      192      0      0.7   \n",
       "3     35    1   0       126   282    0        0      156      1      0.0   \n",
       "4     35    0   0       138   183    0        1      182      0      1.4   \n",
       "..   ...  ...  ..       ...   ...  ...      ...      ...    ...      ...   \n",
       "298   71    0   2       110   265    1        0      130      0      0.0   \n",
       "299   71    0   0       112   149    0        1      125      0      1.6   \n",
       "300   74    0   1       120   269    0        0      121      1      0.2   \n",
       "301   76    0   2       140   197    0        2      116      0      1.1   \n",
       "302   77    1   0       125   304    0        0      162      1      0.0   \n",
       "\n",
       "     slope  ca  thal  target  \n",
       "0        2   0     2       1  \n",
       "1        2   0     2       1  \n",
       "2        2   0     2       1  \n",
       "3        2   0     3       0  \n",
       "4        2   0     2       1  \n",
       "..     ...  ..   ...     ...  \n",
       "298      2   1     2       1  \n",
       "299      1   0     2       1  \n",
       "300      2   1     2       1  \n",
       "301      1   0     2       1  \n",
       "302      2   3     2       0  \n",
       "\n",
       "[303 rows x 14 columns]"
      ]
     },
     "execution_count": 4,
     "metadata": {},
     "output_type": "execute_result"
    }
   ],
   "source": [
    "kaggle_df = pd.read_csv('heart.csv')\n",
    "# kaggle_df.head(10)\n",
    "kaggle_df = kaggle_df.sort_values(by=['age'])\n",
    "kaggle_df = kaggle_df.reset_index().drop('index', axis=1)\n",
    "# print(kaggle_df['trestbps'].shape)\n",
    "# print(kaggle_df.shape)\n",
    "\n",
    "kaggle_df"
   ]
  },
  {
   "cell_type": "code",
   "execution_count": null,
   "metadata": {},
   "outputs": [],
   "source": [
    "cleveland_df = pd.read_csv('processed_cleveland.csv')\n",
    "# cleveland_df.head(10)\n",
    "cleveland_df = cleveland_df.sort_values(by=['a'])\n",
    "cleveland_df"
   ]
  },
  {
   "cell_type": "code",
   "execution_count": null,
   "metadata": {},
   "outputs": [],
   "source": [
    "# to view all the range of values for each feature\n",
    "\n",
    "# for col in kaggle_df:\n",
    "#     print(kaggle_df[col].unique())\n",
    "\n",
    "# for col in cleveland_df:\n",
    "#     print(cleveland_df[col].unique())"
   ]
  },
  {
   "cell_type": "code",
   "execution_count": null,
   "metadata": {},
   "outputs": [],
   "source": [
    "# age = a\n",
    "# sex = b\n",
    "# trestbps = d (but weird -- cleveland has an extra row)\n",
    "# chol = e\n",
    "# fbs = f\n",
    "# thalach = h\n",
    "# oldpeak = j\n",
    "\n",
    "# kaggle values missing their counterpart:\n",
    "# - cp\n",
    "# - restecg\n",
    "# - exang\n",
    "# - slope\n",
    "# - ca\n",
    "# - thal\n",
    "# - target (which is what we would've replaced)\n",
    "\n",
    "# cleveland values missing their counterpart:\n",
    "# - c\n",
    "# - g\n",
    "# - i\n",
    "# - k\n",
    "# - l\n",
    "# - m\n",
    "# - n (which is what we would've used in place of target)"
   ]
  },
  {
   "cell_type": "code",
   "execution_count": null,
   "metadata": {},
   "outputs": [],
   "source": [
    "# I used this to compare the different columns from each dataframe\n",
    "\n",
    "# kaggle_df = kaggle_df.sort_values(by=['ca'])\n",
    "# cleveland_df = cleveland_df.sort_values(by=['l'])\n",
    "# print(kaggle_df['restecg'].unique().shape)\n",
    "# print(cleveland_df['j'].unique().shape)\n",
    "# print(kaggle_df['ca'].unique() == cleveland_df['l'].unique())"
   ]
  },
  {
   "cell_type": "markdown",
   "metadata": {},
   "source": [
    "## Exploration\n"
   ]
  },
  {
   "cell_type": "code",
   "execution_count": 9,
   "metadata": {},
   "outputs": [
    {
     "data": {
      "text/plain": [
       "(207, 14)"
      ]
     },
     "execution_count": 9,
     "metadata": {},
     "output_type": "execute_result"
    }
   ],
   "source": [
    "kaggle_df[kaggle_df['sex'] == 0].shape #96 women\n",
    "kaggle_df[kaggle_df['sex'] != 0].shape #207 men"
   ]
  },
  {
   "cell_type": "code",
   "execution_count": null,
   "metadata": {},
   "outputs": [],
   "source": []
  },
  {
   "cell_type": "code",
   "execution_count": null,
   "metadata": {},
   "outputs": [],
   "source": []
  },
  {
   "cell_type": "markdown",
   "metadata": {},
   "source": [
    "---\n",
    "\n",
    "## PCA\n",
    "\n",
    "Following similar procedures as from lab06."
   ]
  },
  {
   "cell_type": "code",
   "execution_count": 145,
   "metadata": {},
   "outputs": [
    {
     "data": {
      "text/plain": [
       "array([[-2.7976235 ,  0.68100522,  0.03203122, ...,  0.97635214,\n",
       "        -0.71442887, -0.51292188],\n",
       "       [-2.24617937,  0.68100522,  1.97312292, ...,  0.97635214,\n",
       "        -0.71442887, -0.51292188],\n",
       "       [-2.24617937, -1.46841752,  0.03203122, ...,  0.97635214,\n",
       "        -0.71442887, -0.51292188],\n",
       "       ...,\n",
       "       [ 2.16537369, -1.46841752,  0.03203122, ...,  0.97635214,\n",
       "         0.26508221, -0.51292188],\n",
       "       [ 2.38595135, -1.46841752,  1.00257707, ..., -0.64911323,\n",
       "        -0.71442887, -0.51292188],\n",
       "       [ 2.49624017,  0.68100522, -0.93851463, ...,  0.97635214,\n",
       "         2.22410436, -0.51292188]])"
      ]
     },
     "execution_count": 145,
     "metadata": {},
     "output_type": "execute_result"
    }
   ],
   "source": [
    "# normalizing the data\n",
    "kaggle_val = kaggle_df.drop('target', axis = 1).values\n",
    "n = kaggle_val.shape[0]\n",
    "\n",
    "kaggle_mean = np.mean(kaggle_val, axis = 0)\n",
    "kaggle_mean\n",
    "kaggle_sd = np.std(kaggle_val, axis = 0)\n",
    "kaggle_sd\n",
    "kaggle_centered = (kaggle_val - kaggle_mean) / (kaggle_sd)\n",
    "kaggle_centered"
   ]
  },
  {
   "cell_type": "code",
   "execution_count": 134,
   "metadata": {},
   "outputs": [
    {
     "data": {
      "text/plain": [
       "0.9999999999999999"
      ]
     },
     "execution_count": 134,
     "metadata": {},
     "output_type": "execute_result"
    }
   ],
   "source": [
    "# -0.05 < np.sum(kaggle_centered[0]) < 0.05 # make sure scaling was done correctly\n",
    "# np.sum(kaggle_centered[0])\n",
    "np.mean(kaggle_centered) # should equal 0\n",
    "np.var(kaggle_centered) # should equal 1.0"
   ]
  },
  {
   "cell_type": "code",
   "execution_count": 135,
   "metadata": {},
   "outputs": [
    {
     "data": {
      "text/plain": [
       "((303, 13),\n",
       " array([28.93435938, 21.57817595, 19.24886471, 18.91790396, 17.59704127,\n",
       "        17.14394376, 16.16846585, 15.33334437, 14.75921501, 13.72354787,\n",
       "        12.67366339, 11.32308003, 10.61479163]),\n",
       " (13, 13))"
      ]
     },
     "execution_count": 135,
     "metadata": {},
     "output_type": "execute_result"
    }
   ],
   "source": [
    "u, s, vt = np.linalg.svd(kaggle_centered, full_matrices=False)\n",
    "u.shape, s, vt.shape"
   ]
  },
  {
   "cell_type": "code",
   "execution_count": 136,
   "metadata": {},
   "outputs": [
    {
     "name": "stdout",
     "output_type": "stream",
     "text": [
      "3594.5453800825626\n",
      "12.999999999999986\n"
     ]
    }
   ],
   "source": [
    "# find and compare total variance found from:\n",
    "\n",
    "# (1) data\n",
    "total_variance_data = sum(np.var(kaggle_df, axis=0))\n",
    "\n",
    "# (2) singular values\n",
    "total_variance_singular_values = sum(np.square(s)) / len(kaggle_df)\n",
    "\n",
    "print(total_variance_data)\n",
    "print(total_variance_singular_values)"
   ]
  },
  {
   "cell_type": "code",
   "execution_count": 137,
   "metadata": {},
   "outputs": [
    {
     "data": {
      "text/plain": [
       "0.21254053121851954"
      ]
     },
     "execution_count": 137,
     "metadata": {},
     "output_type": "execute_result"
    }
   ],
   "source": [
    "# variance explained by first singular value\n",
    "variance_explained_by_1st_pc = (s[0]**2 / len(kaggle_centered)) / (total_variance_singular_values)\n",
    "variance_explained_by_1st_pc"
   ]
  },
  {
   "cell_type": "code",
   "execution_count": 138,
   "metadata": {
    "scrolled": true
   },
   "outputs": [
    {
     "name": "stdout",
     "output_type": "stream",
     "text": [
      "    PC #  Fraction of Variance Explained\n",
      "0      1                        0.212541\n",
      "1      2                        0.118207\n",
      "2      3                        0.094064\n",
      "3      4                        0.090857\n",
      "4      5                        0.078613\n",
      "5      6                        0.074617\n",
      "6      7                        0.066367\n",
      "7      8                        0.059688\n",
      "8      9                        0.055302\n",
      "9     10                        0.047813\n",
      "10    11                        0.040777\n",
      "11    12                        0.032549\n",
      "12    13                        0.028605\n"
     ]
    },
    {
     "data": {
      "text/html": [
       "\n",
       "<div id=\"altair-viz-0d54ce13c5774b08b6826821c1895972\"></div>\n",
       "<script type=\"text/javascript\">\n",
       "  (function(spec, embedOpt){\n",
       "    let outputDiv = document.currentScript.previousElementSibling;\n",
       "    if (outputDiv.id !== \"altair-viz-0d54ce13c5774b08b6826821c1895972\") {\n",
       "      outputDiv = document.getElementById(\"altair-viz-0d54ce13c5774b08b6826821c1895972\");\n",
       "    }\n",
       "    const paths = {\n",
       "      \"vega\": \"https://cdn.jsdelivr.net/npm//vega@5?noext\",\n",
       "      \"vega-lib\": \"https://cdn.jsdelivr.net/npm//vega-lib?noext\",\n",
       "      \"vega-lite\": \"https://cdn.jsdelivr.net/npm//vega-lite@4.8.1?noext\",\n",
       "      \"vega-embed\": \"https://cdn.jsdelivr.net/npm//vega-embed@6?noext\",\n",
       "    };\n",
       "\n",
       "    function loadScript(lib) {\n",
       "      return new Promise(function(resolve, reject) {\n",
       "        var s = document.createElement('script');\n",
       "        s.src = paths[lib];\n",
       "        s.async = true;\n",
       "        s.onload = () => resolve(paths[lib]);\n",
       "        s.onerror = () => reject(`Error loading script: ${paths[lib]}`);\n",
       "        document.getElementsByTagName(\"head\")[0].appendChild(s);\n",
       "      });\n",
       "    }\n",
       "\n",
       "    function showError(err) {\n",
       "      outputDiv.innerHTML = `<div class=\"error\" style=\"color:red;\">${err}</div>`;\n",
       "      throw err;\n",
       "    }\n",
       "\n",
       "    function displayChart(vegaEmbed) {\n",
       "      vegaEmbed(outputDiv, spec, embedOpt)\n",
       "        .catch(err => showError(`Javascript Error: ${err.message}<br>This usually means there's a typo in your chart specification. See the javascript console for the full traceback.`));\n",
       "    }\n",
       "\n",
       "    if(typeof define === \"function\" && define.amd) {\n",
       "      requirejs.config({paths});\n",
       "      require([\"vega-embed\"], displayChart, err => showError(`Error loading script: ${err.message}`));\n",
       "    } else if (typeof vegaEmbed === \"function\") {\n",
       "      displayChart(vegaEmbed);\n",
       "    } else {\n",
       "      loadScript(\"vega\")\n",
       "        .then(() => loadScript(\"vega-lite\"))\n",
       "        .then(() => loadScript(\"vega-embed\"))\n",
       "        .catch(showError)\n",
       "        .then(() => displayChart(vegaEmbed));\n",
       "    }\n",
       "  })({\"config\": {\"view\": {\"continuousWidth\": 400, \"continuousHeight\": 300}, \"axisX\": {\"labelAngle\": 0}}, \"data\": {\"name\": \"data-d4601225db250915a935ae1508714b67\"}, \"mark\": {\"type\": \"bar\", \"size\": 30}, \"encoding\": {\"x\": {\"type\": \"ordinal\", \"field\": \"PC #\"}, \"y\": {\"type\": \"quantitative\", \"field\": \"Fraction of Variance Explained\"}}, \"title\": \"Variance Explained by Principal Components\", \"width\": 500, \"$schema\": \"https://vega.github.io/schema/vega-lite/v4.8.1.json\", \"datasets\": {\"data-d4601225db250915a935ae1508714b67\": [{\"PC #\": 1, \"Fraction of Variance Explained\": 0.21254053121851954}, {\"PC #\": 2, \"Fraction of Variance Explained\": 0.11820707724327448}, {\"PC #\": 3, \"Fraction of Variance Explained\": 0.09406417688208986}, {\"PC #\": 4, \"Fraction of Variance Explained\": 0.09085734711607003}, {\"PC #\": 5, \"Fraction of Variance Explained\": 0.07861281076657599}, {\"PC #\": 6, \"Fraction of Variance Explained\": 0.07461660513679606}, {\"PC #\": 7, \"Fraction of Variance Explained\": 0.06636691747007141}, {\"PC #\": 8, \"Fraction of Variance Explained\": 0.05968810602359247}, {\"PC #\": 9, \"Fraction of Variance Explained\": 0.055301961870284494}, {\"PC #\": 10, \"Fraction of Variance Explained\": 0.04781309120525297}, {\"PC #\": 11, \"Fraction of Variance Explained\": 0.040777289585737654}, {\"PC #\": 12, \"Fraction of Variance Explained\": 0.03254941390637681}, {\"PC #\": 13, \"Fraction of Variance Explained\": 0.028604671575358172}]}}, {\"mode\": \"vega-lite\"});\n",
       "</script>"
      ],
      "text/plain": [
       "alt.Chart(...)"
      ]
     },
     "execution_count": 138,
     "metadata": {},
     "output_type": "execute_result"
    }
   ],
   "source": [
    "PC_num = []\n",
    "i = 1\n",
    "n = len(s)\n",
    "while i <= n:\n",
    "    PC_num.append(i)\n",
    "    i += 1\n",
    "\n",
    "explained_var = pd.DataFrame({\n",
    "    'PC #': PC_num, \n",
    "    'Fraction of Variance Explained' : (s**2 / len(kaggle_centered)) / (total_variance_singular_values)\n",
    "})\n",
    "\n",
    "print(explained_var)\n",
    "\n",
    "# scree plot of variance explained by each PC\n",
    "alt.Chart(explained_var, \n",
    "          title=\"Variance Explained by Principal Components\"\n",
    ").mark_bar(size=30).encode(\n",
    "    alt.X('PC #:O'),\n",
    "    alt.Y('Fraction of Variance Explained:Q')\n",
    ").configure_axisX(labelAngle=0).properties(width=500)\n"
   ]
  },
  {
   "cell_type": "code",
   "execution_count": null,
   "metadata": {},
   "outputs": [],
   "source": []
  },
  {
   "cell_type": "code",
   "execution_count": 139,
   "metadata": {
    "scrolled": true
   },
   "outputs": [
    {
     "data": {
      "text/html": [
       "\n",
       "<div id=\"altair-viz-1f235e384b874ed087e2c06d23f7053e\"></div>\n",
       "<script type=\"text/javascript\">\n",
       "  (function(spec, embedOpt){\n",
       "    let outputDiv = document.currentScript.previousElementSibling;\n",
       "    if (outputDiv.id !== \"altair-viz-1f235e384b874ed087e2c06d23f7053e\") {\n",
       "      outputDiv = document.getElementById(\"altair-viz-1f235e384b874ed087e2c06d23f7053e\");\n",
       "    }\n",
       "    const paths = {\n",
       "      \"vega\": \"https://cdn.jsdelivr.net/npm//vega@5?noext\",\n",
       "      \"vega-lib\": \"https://cdn.jsdelivr.net/npm//vega-lib?noext\",\n",
       "      \"vega-lite\": \"https://cdn.jsdelivr.net/npm//vega-lite@4.8.1?noext\",\n",
       "      \"vega-embed\": \"https://cdn.jsdelivr.net/npm//vega-embed@6?noext\",\n",
       "    };\n",
       "\n",
       "    function loadScript(lib) {\n",
       "      return new Promise(function(resolve, reject) {\n",
       "        var s = document.createElement('script');\n",
       "        s.src = paths[lib];\n",
       "        s.async = true;\n",
       "        s.onload = () => resolve(paths[lib]);\n",
       "        s.onerror = () => reject(`Error loading script: ${paths[lib]}`);\n",
       "        document.getElementsByTagName(\"head\")[0].appendChild(s);\n",
       "      });\n",
       "    }\n",
       "\n",
       "    function showError(err) {\n",
       "      outputDiv.innerHTML = `<div class=\"error\" style=\"color:red;\">${err}</div>`;\n",
       "      throw err;\n",
       "    }\n",
       "\n",
       "    function displayChart(vegaEmbed) {\n",
       "      vegaEmbed(outputDiv, spec, embedOpt)\n",
       "        .catch(err => showError(`Javascript Error: ${err.message}<br>This usually means there's a typo in your chart specification. See the javascript console for the full traceback.`));\n",
       "    }\n",
       "\n",
       "    if(typeof define === \"function\" && define.amd) {\n",
       "      requirejs.config({paths});\n",
       "      require([\"vega-embed\"], displayChart, err => showError(`Error loading script: ${err.message}`));\n",
       "    } else if (typeof vegaEmbed === \"function\") {\n",
       "      displayChart(vegaEmbed);\n",
       "    } else {\n",
       "      loadScript(\"vega\")\n",
       "        .then(() => loadScript(\"vega-lite\"))\n",
       "        .then(() => loadScript(\"vega-embed\"))\n",
       "        .catch(showError)\n",
       "        .then(() => displayChart(vegaEmbed));\n",
       "    }\n",
       "  })({\"config\": {\"view\": {\"continuousWidth\": 400, \"continuousHeight\": 300}}, \"data\": {\"name\": \"data-5433c28a509fc4ed0bc9ad713f9590bb\"}, \"mark\": \"circle\", \"encoding\": {\"color\": {\"type\": \"nominal\", \"field\": \"target\", \"scale\": {\"scheme\": \"set1\"}}, \"x\": {\"type\": \"quantitative\", \"field\": \"PC1\"}, \"y\": {\"type\": \"quantitative\", \"field\": \"PC2\"}}, \"$schema\": \"https://vega.github.io/schema/vega-lite/v4.8.1.json\", \"datasets\": {\"data-5433c28a509fc4ed0bc9ad713f9590bb\": [{\"PC1\": -3.1026314852217953, \"PC2\": 1.1413941718540745, \"PC3\": -0.9392320348759361, \"PC4\": -0.7506548959299385, \"PC5\": -1.5047725746303844, \"PC6\": 1.1021939431276608, \"PC7\": -0.1114179391918759, \"PC8\": -0.13849854316799504, \"PC9\": -1.5731728982840105, \"PC10\": -0.06776564530915907, \"PC11\": -0.09268203777466746, \"PC12\": -0.18408009905077938, \"PC13\": -0.06145119272204966, \"target\": 1}, {\"PC1\": -3.1283756724781515, \"PC2\": 0.8910513354310338, \"PC3\": -1.4201795775816692, \"PC4\": 0.1527600687884769, \"PC5\": -0.9912731424752373, \"PC6\": 0.971677432777931, \"PC7\": 0.8033301452970747, \"PC8\": -0.11613320299155011, \"PC9\": -0.051783076082348965, \"PC10\": -0.05524100414298705, \"PC11\": 1.1134190999760365, \"PC12\": -0.5605768110217545, \"PC13\": -0.34726730128002253, \"target\": 1}, {\"PC1\": -3.0448000433459863, \"PC2\": 0.8497848248019454, \"PC3\": 0.6647103073144975, \"PC4\": 0.515830631175885, \"PC5\": -0.39467348657987955, \"PC6\": -0.295799413115183, \"PC7\": -0.7584570118308448, \"PC8\": 0.7898158127148742, \"PC9\": -1.4391641216253814, \"PC10\": -0.6518440168433587, \"PC11\": 0.30233613013100535, \"PC12\": 0.23233608880883655, \"PC13\": -0.47466232333648417, \"target\": 1}, {\"PC1\": -0.5219699101655958, \"PC2\": 1.7578045471651855, \"PC3\": 0.5140416355539602, \"PC4\": -2.07818640244963, \"PC5\": -1.5489990725380816, \"PC6\": 0.9909251335308186, \"PC7\": -1.016152830090596, \"PC8\": -0.13388321810225018, \"PC9\": -0.01323534724298111, \"PC10\": -0.014947015022844208, \"PC11\": 0.5379783719543332, \"PC12\": -0.7787925312149224, \"PC13\": -0.2574265459228042, \"target\": 0}, {\"PC1\": -2.1592372059436222, \"PC2\": 0.8487899676359479, \"PC3\": 0.5784703516894684, \"PC4\": 0.7166994756132226, \"PC5\": -0.2602677461907772, \"PC6\": -0.32237930316322894, \"PC7\": -1.18464372912391, \"PC8\": -0.10659355010640413, \"PC9\": -2.19739893242567, \"PC10\": -0.9360844328362744, \"PC11\": -0.3013773393558893, \"PC12\": 0.12706278278948846, \"PC13\": -0.9435170187451899, \"target\": 1}, {\"PC1\": 0.6512649495751351, \"PC2\": 3.1597294139868004, \"PC3\": -0.0006142276232117941, \"PC4\": 0.4424966806364644, \"PC5\": -0.594603652406082, \"PC6\": -0.04077088247107222, \"PC7\": -1.217392471994163, \"PC8\": 0.1837100024621952, \"PC9\": -0.015922812244127053, \"PC10\": -0.3012640234483599, \"PC11\": 0.2962468612835721, \"PC12\": -0.8358914829692029, \"PC13\": -0.27011987493075545, \"target\": 0}, {\"PC1\": -2.73927954373634, \"PC2\": 1.673464220881662, \"PC3\": -0.5147494880337149, \"PC4\": 0.037295070138647995, \"PC5\": 0.004368896450621007, \"PC6\": 0.0015770193543144938, \"PC7\": -0.43164427886127954, \"PC8\": -0.11202120106429804, \"PC9\": -0.669475231537067, \"PC10\": 0.2501565549379258, \"PC11\": -0.2733246633142557, \"PC12\": -0.4111783658471661, \"PC13\": -0.19458726014381164, \"target\": 1}, {\"PC1\": -0.45598797511382616, \"PC2\": 0.9573509816169332, \"PC3\": -1.139594803992536, \"PC4\": 2.4268383314483644, \"PC5\": -2.273767105057066, \"PC6\": -0.7878606392455443, \"PC7\": 0.08151335613680724, \"PC8\": 1.5353840496544444, \"PC9\": -1.2418243506960878, \"PC10\": 1.1656806504550346, \"PC11\": -0.49213270232201295, \"PC12\": 0.23225951397746034, \"PC13\": 0.27427359436449095, \"target\": 1}, {\"PC1\": -3.0277237279454243, \"PC2\": 0.3849855078493092, \"PC3\": 0.584386863758627, \"PC4\": 0.7379095599611593, \"PC5\": -0.041493363588676994, \"PC6\": -0.33747677448147195, \"PC7\": -0.4887110433201005, \"PC8\": 0.4633267763500047, \"PC9\": -0.4988269796195191, \"PC10\": -0.5387568939443877, \"PC11\": 0.8552472153154204, \"PC12\": -0.5195685896520326, \"PC13\": -0.3403104921055678, \"target\": 1}, {\"PC1\": -1.6834685627209445, \"PC2\": 0.6044425618168171, \"PC3\": -1.8626577074743624, \"PC4\": -0.8337767623176404, \"PC5\": 1.6007705156001666, \"PC6\": -1.066385204629831, \"PC7\": 0.8907437826428407, \"PC8\": 0.1924697020831276, \"PC9\": -2.460921091362467, \"PC10\": 0.4438711114295602, \"PC11\": 1.3981795610408516, \"PC12\": -1.0989523940923844, \"PC13\": 0.49097487729166484, \"target\": 1}, {\"PC1\": -1.683468562720946, \"PC2\": 0.6044425618168168, \"PC3\": -1.8626577074743622, \"PC4\": -0.8337767623176422, \"PC5\": 1.6007705156001675, \"PC6\": -1.0663852046298308, \"PC7\": 0.8907437826428405, \"PC8\": 0.19246970208312664, \"PC9\": -2.460921091362467, \"PC10\": 0.44387111142956037, \"PC11\": 1.398179561040852, \"PC12\": -1.0989523940923844, \"PC13\": 0.4909748772916639, \"target\": 1}, {\"PC1\": -0.12014405806299626, \"PC2\": 1.8494387258242189, \"PC3\": -1.3180740566522247, \"PC4\": 1.2555039135704549, \"PC5\": -2.3829420600230122, \"PC6\": -1.3110699684325753, \"PC7\": -0.5641847683451462, \"PC8\": 1.1652052141977622, \"PC9\": -0.05847056159692685, \"PC10\": 0.7689916106545536, \"PC11\": 1.8078034639327818, \"PC12\": 0.9767876064637121, \"PC13\": -0.6424957337423729, \"target\": 0}, {\"PC1\": -1.8128474327743014, \"PC2\": -0.050363314798797465, \"PC3\": 0.43956275284017315, \"PC4\": 1.6726977590898133, \"PC5\": -0.34481038044873724, \"PC6\": -0.3610109603771631, \"PC7\": -0.616882798125817, \"PC8\": 0.1420228002171549, \"PC9\": -0.5140427472445529, \"PC10\": -0.5362416738192687, \"PC11\": 0.49901096150912666, \"PC12\": -1.3787842271246393, \"PC13\": 0.5191743018996564, \"target\": 1}, {\"PC1\": -2.287910243155667, \"PC2\": -0.6013986200739354, \"PC3\": -0.23782307410230513, \"PC4\": -1.096553543663614, \"PC5\": -1.8727904111059874, \"PC6\": 0.5395006353846227, \"PC7\": 0.13153740078853543, \"PC8\": -0.004946418740910852, \"PC9\": -0.34067134091447643, \"PC10\": 1.206821805734458, \"PC11\": 0.07472555076536183, \"PC12\": -0.7696717011739184, \"PC13\": -0.13710793707090338, \"target\": 1}, {\"PC1\": -0.28070401445446874, \"PC2\": 2.2695899520055, \"PC3\": -0.07085149959204376, \"PC4\": 0.3436283129520973, \"PC5\": -0.5487759931490277, \"PC6\": -0.6054659960883794, \"PC7\": -0.22475509213129016, \"PC8\": 0.5235039199642977, \"PC9\": 0.04697283232241362, \"PC10\": -0.5645340488947107, \"PC11\": -1.12474017588806, \"PC12\": -1.0001468277939773, \"PC13\": -0.16177160474169971, \"target\": 0}, {\"PC1\": -3.4317436150307916, \"PC2\": 1.028137703867064, \"PC3\": 0.7194532408774418, \"PC4\": 0.7335088569821541, \"PC5\": 0.27736129732634124, \"PC6\": -0.11452298905282075, \"PC7\": 0.030086916772515848, \"PC8\": 1.2307822895682183, \"PC9\": -0.08895634304628099, \"PC10\": -0.7896376822238659, \"PC11\": 0.9403465928779464, \"PC12\": 0.2820258662370011, \"PC13\": -0.2031518500019789, \"target\": 1}, {\"PC1\": -1.326641769479766, \"PC2\": 1.311549566933699, \"PC3\": -1.4062434721757213, \"PC4\": 0.04139449699760248, \"PC5\": -1.3555909394533525, \"PC6\": -1.2104268497730604, \"PC7\": -1.169873741712783, \"PC8\": -0.6518542165199955, \"PC9\": 0.1247498401059525, \"PC10\": 0.39569247326842427, \"PC11\": 2.0824971301627233, \"PC12\": 0.3207596925997744, \"PC13\": -0.4064181167619173, \"target\": 1}, {\"PC1\": 1.328692142529914, \"PC2\": 3.056185669245202, \"PC3\": -0.17387358626332503, \"PC4\": 0.3584988642916612, \"PC5\": -0.7361523573340037, \"PC6\": 1.349820849398507, \"PC7\": -0.008454960808785801, \"PC8\": -0.06829626526926728, \"PC9\": 0.40769049826324616, \"PC10\": -1.1453384432047735, \"PC11\": 0.520074734243399, \"PC12\": -0.5790019652049286, \"PC13\": -0.752352124162853, \"target\": 0}, {\"PC1\": -1.6783263217321214, \"PC2\": 1.0733758210878703, \"PC3\": -0.47431662359851173, \"PC4\": -1.1135895964549434, \"PC5\": -0.8239986862205162, \"PC6\": -1.121182572380932, \"PC7\": -1.2383292689461938, \"PC8\": -1.000139839350396, \"PC9\": -0.958619604121087, \"PC10\": -0.35835707989328863, \"PC11\": -1.0413168528463963, \"PC12\": -0.5002721048691764, \"PC13\": 0.052143652679572106, \"target\": 0}, {\"PC1\": -2.1773866911168627, \"PC2\": 1.4736229031062393, \"PC3\": 0.17144629407687784, \"PC4\": -0.10814952702116479, \"PC5\": 0.36747463727884666, \"PC6\": 0.0637479895941523, \"PC7\": -0.003339722455127576, \"PC8\": 0.30000420716158077, \"PC9\": 0.29108073881231794, \"PC10\": 0.573258809385801, \"PC11\": -0.3829962036230494, \"PC12\": -0.5829942596843527, \"PC13\": -0.38509740501558987, \"target\": 1}, {\"PC1\": -2.2256534944540616, \"PC2\": -0.2730377808378559, \"PC3\": 1.668147443354943, \"PC4\": -0.09044491166603694, \"PC5\": -0.2760023153008743, \"PC6\": -0.41500215419101383, \"PC7\": -0.7687766365864758, \"PC8\": 0.7079484608264169, \"PC9\": -0.40811001879731934, \"PC10\": 0.18024806043194563, \"PC11\": 0.012973556120590842, \"PC12\": -0.7816380704060449, \"PC13\": -0.3694201039725289, \"target\": 1}, {\"PC1\": -0.9700181791798957, \"PC2\": 0.5294957031059188, \"PC3\": -1.1574446795646356, \"PC4\": 1.0761673064424908, \"PC5\": -1.671371402633672, \"PC6\": 0.7150169106336421, \"PC7\": 0.8193048770840059, \"PC8\": 0.17671120660496262, \"PC9\": -0.5969615841818408, \"PC10\": 0.22075686145743398, \"PC11\": 0.024711737450608628, \"PC12\": -0.12276246700612219, \"PC13\": -0.29866835144055587, \"target\": 1}, {\"PC1\": -2.51462706656253, \"PC2\": 0.904060837718175, \"PC3\": 0.8470345019275783, \"PC4\": 0.23764149180132807, \"PC5\": 0.973430991094152, \"PC6\": -0.18600656971758847, \"PC7\": 0.041789514479336064, \"PC8\": 0.9304857578236894, \"PC9\": -0.8664331527990277, \"PC10\": -0.8976924157108944, \"PC11\": 0.6006773433355116, \"PC12\": -0.09763480592968982, \"PC13\": -0.15569937544684465, \"target\": 1}, {\"PC1\": -2.7774707125212115, \"PC2\": 1.674064270819832, \"PC3\": -0.7604252180328522, \"PC4\": 0.18890529744597764, \"PC5\": 0.33250389544126946, \"PC6\": -0.034309281880279825, \"PC7\": -0.24771809835479908, \"PC8\": -0.4193946086612809, \"PC9\": -0.6129596052169008, \"PC10\": -0.09322839011743266, \"PC11\": -0.29673279629578714, \"PC12\": 0.318497910011234, \"PC13\": 0.03925760551436269, \"target\": 1}, {\"PC1\": -1.3507940382506296, \"PC2\": 0.8951696947212893, \"PC3\": -0.1419645136730353, \"PC4\": 1.746638255913939, \"PC5\": 0.7355189617891302, \"PC6\": 0.9199893178375778, \"PC7\": -0.17506505114012494, \"PC8\": -0.5426937248213762, \"PC9\": -0.47404605575312186, \"PC10\": 1.1183611734793806, \"PC11\": -0.723101874158114, \"PC12\": -1.4962796703524905, \"PC13\": 0.38044602507044517, \"target\": 1}, {\"PC1\": -1.875793314105854, \"PC2\": 0.16611733258302636, \"PC3\": 1.2224176033367151, \"PC4\": -0.40154338717791466, \"PC5\": -0.9996225238009677, \"PC6\": 1.3320882608493403, \"PC7\": -0.5006428589125923, \"PC8\": 0.5832358201855824, \"PC9\": 0.005403066402146383, \"PC10\": -0.15945139552222784, \"PC11\": 2.203353444620426, \"PC12\": 0.2203818865276307, \"PC13\": -0.07393176779850069, \"target\": 1}, {\"PC1\": -2.8624279749990715, \"PC2\": 0.9408494731791089, \"PC3\": -0.2600124595463331, \"PC4\": -0.13504506496540897, \"PC5\": -0.2727424137618471, \"PC6\": -0.31238308949947774, \"PC7\": 0.03802219745529896, \"PC8\": 0.549600318635787, \"PC9\": 0.21376081425611057, \"PC10\": 0.9195139477377987, \"PC11\": 0.11793756215561604, \"PC12\": -0.06784162780607296, \"PC13\": -0.018718640376346504, \"target\": 1}, {\"PC1\": -1.828804911702197, \"PC2\": -0.042884773695524375, \"PC3\": 0.45222878130145927, \"PC4\": 0.4064149123715296, \"PC5\": -0.8678021784707104, \"PC6\": 0.7675506552967647, \"PC7\": 0.10485189594835177, \"PC8\": -0.06352322259228785, \"PC9\": -1.2932020303715839, \"PC10\": -1.147065650094965, \"PC11\": 0.36372499245471956, \"PC12\": 0.17797716728001237, \"PC13\": -1.1095533426481086, \"target\": 1}, {\"PC1\": -1.5383253080899528, \"PC2\": 2.0965375911512707, \"PC3\": -0.38762802972144395, \"PC4\": -1.1532814346228515, \"PC5\": -0.4480660008583697, \"PC6\": 0.7901955860833297, \"PC7\": 0.49124436991287124, \"PC8\": -0.3025237478657499, \"PC9\": 0.07316253801210239, \"PC10\": -1.5650293410889402, \"PC11\": -0.5809908065210417, \"PC12\": -0.24536991427535937, \"PC13\": -0.4290708762873144, \"target\": 0}, {\"PC1\": -2.0368447948531334, \"PC2\": 0.9448166396709529, \"PC3\": -0.06493826210495642, \"PC4\": -0.49269289030217445, \"PC5\": -0.060395709719507626, \"PC6\": -0.1842236097204185, \"PC7\": -0.8602190916766008, \"PC8\": -0.7034460526670769, \"PC9\": -1.0420808937368562, \"PC10\": 0.4820145147452701, \"PC11\": -1.1017585047428176, \"PC12\": -0.17380835162272334, \"PC13\": 0.010804167915908278, \"target\": 1}, {\"PC1\": -0.4450090184323894, \"PC2\": 0.6846989018972232, \"PC3\": 1.9180123401670082, \"PC4\": 0.6655020800348977, \"PC5\": -0.27339601416040066, \"PC6\": 1.5906994662195582, \"PC7\": 0.6278960224043515, \"PC8\": 1.2311515590659936, \"PC9\": 0.0777374471910749, \"PC10\": -1.0742295386873435, \"PC11\": -0.4471250855367718, \"PC12\": -1.2538731616848153, \"PC13\": -0.356251883938544, \"target\": 1}, {\"PC1\": -1.6433009337893774, \"PC2\": -0.8168295128119809, \"PC3\": -1.661252462136646, \"PC4\": -0.6878160453358352, \"PC5\": -0.8027180072580236, \"PC6\": -0.06978579059011877, \"PC7\": 1.0930098837345972, \"PC8\": -0.25503490377992183, \"PC9\": -1.311264764473253, \"PC10\": 0.797320666137948, \"PC11\": 1.314199402081039, \"PC12\": -0.6847041173447719, \"PC13\": -0.2239261703867362, \"target\": 1}, {\"PC1\": -0.9450989261069027, \"PC2\": 0.34425592707549524, \"PC3\": -2.4007207961437635, \"PC4\": 0.8228836026186074, \"PC5\": -1.3369759760962454, \"PC6\": -0.5072789690173423, \"PC7\": -1.4162420292366082, \"PC8\": 2.5280670025764835, \"PC9\": 0.5304620803964807, \"PC10\": -0.5307142830692677, \"PC11\": -0.814673631784918, \"PC12\": 0.0611468697379686, \"PC13\": 1.5610015741107168, \"target\": 1}, {\"PC1\": -2.0655148062621063, \"PC2\": 0.7252534201024348, \"PC3\": 0.47599724749617284, \"PC4\": -0.5681808778462359, \"PC5\": -0.20446400761391398, \"PC6\": -0.22194972775029784, \"PC7\": -0.26585145541348304, \"PC8\": 0.41929215919095214, \"PC9\": 0.16487276906225665, \"PC10\": 1.198554952476472, \"PC11\": -0.574159255754225, \"PC12\": -0.6437517545465518, \"PC13\": -0.23754936354070186, \"target\": 1}, {\"PC1\": -2.30540298940819, \"PC2\": 0.27169744996017386, \"PC3\": 0.4482253901498994, \"PC4\": 1.5465392171419954, \"PC5\": -0.2786169130219144, \"PC6\": -0.3078108582454742, \"PC7\": -0.2834665067049944, \"PC8\": 0.7197858393761318, \"PC9\": -0.4028258519392086, \"PC10\": -0.6922706757011644, \"PC11\": 0.5117299371722716, \"PC12\": -0.3331594214375825, \"PC13\": 0.8510508643988143, \"target\": 1}, {\"PC1\": -2.269285587899453, \"PC2\": 1.0374557173760637, \"PC3\": -0.810202597115784, \"PC4\": 0.5839749743713591, \"PC5\": 0.4106863500108253, \"PC6\": -0.2159161163573372, \"PC7\": -0.08397633812323549, \"PC8\": -0.7770560808699646, \"PC9\": 0.15887219276485234, \"PC10\": 0.28226504324180196, \"PC11\": 0.22501612380058136, \"PC12\": -0.7969345964119638, \"PC13\": -0.3695143008690816, \"target\": 1}, {\"PC1\": 0.7643307366146573, \"PC2\": 0.9908663768113686, \"PC3\": 1.2324502202084011, \"PC4\": 1.0406749296805748, \"PC5\": -0.13953185278079783, \"PC6\": 1.1214247595149267, \"PC7\": -1.2381282411501042, \"PC8\": 0.16846389473829246, \"PC9\": -0.5842013549894445, \"PC10\": 2.620113196415893, \"PC11\": -0.2552437273509502, \"PC12\": -0.901443869364662, \"PC13\": -0.35483442172545804, \"target\": 0}, {\"PC1\": 1.6321049877290097, \"PC2\": 2.6032060812106983, \"PC3\": -0.26947656886399474, \"PC4\": 0.3906407307762013, \"PC5\": -0.996742370502956, \"PC6\": 1.0795299189201002, \"PC7\": -0.11194487763071402, \"PC8\": -0.3025892880045282, \"PC9\": 0.16434423117555846, \"PC10\": -0.9581977513175547, \"PC11\": 0.40080271415671, \"PC12\": -0.27410567757668813, \"PC13\": -0.8641419604054376, \"target\": 0}, {\"PC1\": 2.031585235984131, \"PC2\": -0.589018929257342, \"PC3\": 0.5629689133262296, \"PC4\": -0.3145054950297373, \"PC5\": -1.7089408367271102, \"PC6\": 1.05037418207765, \"PC7\": -2.304408284658211, \"PC8\": 2.248470389603897, \"PC9\": 0.12130288316806212, \"PC10\": -0.8536679601286268, \"PC11\": 0.20104103499744022, \"PC12\": -0.3676384676305952, \"PC13\": -1.406062338467399, \"target\": 0}, {\"PC1\": 1.9069070160996948, \"PC2\": 0.36174536254395667, \"PC3\": -1.8621085532071502, \"PC4\": -2.3973138016974094, \"PC5\": 0.9972274040863156, \"PC6\": 1.0337449484798318, \"PC7\": -0.8562324660254436, \"PC8\": 1.7739136867519962, \"PC9\": -1.1637084037642753, \"PC10\": -0.7327453297824011, \"PC11\": 0.9714658776775731, \"PC12\": -1.2959020164299753, \"PC13\": 0.9852070735124956, \"target\": 0}, {\"PC1\": -1.1914700046218736, \"PC2\": -0.005765956783511511, \"PC3\": -0.1795566882473999, \"PC4\": -0.19731906054159656, \"PC5\": -0.5444064655854394, \"PC6\": -1.023945306658769, \"PC7\": 0.2744775416528162, \"PC8\": 0.8103965655132379, \"PC9\": -0.4516109317662709, \"PC10\": 1.8056320701196396, \"PC11\": 0.17408894009705053, \"PC12\": -0.48080506356026076, \"PC13\": -1.0570197099638803, \"target\": 1}, {\"PC1\": -1.1789879491220427, \"PC2\": 0.5932883567172438, \"PC3\": -0.09982162410699283, \"PC4\": -0.14282692312883255, \"PC5\": -0.4891643145050614, \"PC6\": -0.5264265984582696, \"PC7\": -0.8684706803922096, \"PC8\": -0.716322585043491, \"PC9\": -1.3263162670288657, \"PC10\": 0.8566809036293274, \"PC11\": -1.2078431776376253, \"PC12\": -0.08103992942304676, \"PC13\": -0.8529031707419568, \"target\": 1}, {\"PC1\": -1.6784908148511617, \"PC2\": 2.14273597753891, \"PC3\": 0.08962675145316955, \"PC4\": -0.9339632837176282, \"PC5\": 0.08589575801912695, \"PC6\": -0.6030520529515161, \"PC7\": -0.2659022983173888, \"PC8\": 0.12923760528322956, \"PC9\": 0.29696449355593085, \"PC10\": -0.677240044240807, \"PC11\": -0.8803066677125538, \"PC12\": -0.18821148843867186, \"PC13\": -0.21124038732928052, \"target\": 1}, {\"PC1\": -1.0930454241729228, \"PC2\": 1.1057663772007595, \"PC3\": 0.588385107053838, \"PC4\": 0.07973995622884393, \"PC5\": -0.937193816468162, \"PC6\": -0.18578273946840665, \"PC7\": -0.24080693889074795, \"PC8\": 1.3152408980654104, \"PC9\": -0.6078357590747848, \"PC10\": 1.1433225964306024, \"PC11\": -1.482121171586934, \"PC12\": 0.19819131741767526, \"PC13\": 0.44503250563466495, \"target\": 1}, {\"PC1\": -2.0225546929612634, \"PC2\": 0.18493445716491255, \"PC3\": 0.5031680006912874, \"PC4\": 1.641009816680875, \"PC5\": -0.22110898886602334, \"PC6\": -0.3375749660204035, \"PC7\": -0.24563782664682315, \"PC8\": 0.6346149803324759, \"PC9\": -0.29929566228989046, \"PC10\": -0.6392289640350601, \"PC11\": 0.48923054730008797, \"PC12\": -0.4706722799516379, \"PC13\": 0.6559947055998748, \"target\": 1}, {\"PC1\": -1.150183646603808, \"PC2\": 0.677304925052705, \"PC3\": 0.6095275961555405, \"PC4\": -1.5849884188129872, \"PC5\": -0.057625266589510386, \"PC6\": 1.1689632343838017, \"PC7\": 0.8578910049741995, \"PC8\": 0.558604628455658, \"PC9\": -0.3497819382422204, \"PC10\": 0.46307424661598573, \"PC11\": -0.6566715965188792, \"PC12\": -0.670066538950774, \"PC13\": -0.3254632681294099, \"target\": 0}, {\"PC1\": -2.273294067156452, \"PC2\": -0.2127366188194886, \"PC3\": -0.8499055506105139, \"PC4\": -0.5210993875685185, \"PC5\": -1.1431897223456027, \"PC6\": 0.6533935602785353, \"PC7\": 0.3457719683442755, \"PC8\": -0.7811284401531451, \"PC9\": -0.35503995797777504, \"PC10\": 0.3719373370480217, \"PC11\": 0.18101363556607744, \"PC12\": -0.21514846371855254, \"PC13\": -0.05216060080692463, \"target\": 1}, {\"PC1\": -2.2938197146461534, \"PC2\": 0.41150095933684855, \"PC3\": -0.5684886586283703, \"PC4\": -0.7716582440206843, \"PC5\": -0.891497455706308, \"PC6\": 0.9336601827186555, \"PC7\": 0.30653073470682995, \"PC8\": -0.5526074649336645, \"PC9\": -0.6737701083867413, \"PC10\": 0.02924651978600668, \"PC11\": -0.3368470157913827, \"PC12\": 0.29681338001412466, \"PC13\": 0.04327654076578197, \"target\": 1}, {\"PC1\": -2.3120428197335543, \"PC2\": 1.1367522673607087, \"PC3\": -0.1497223063631323, \"PC4\": -0.13941155031684221, \"PC5\": 0.2140962702234505, \"PC6\": -0.1407784641760326, \"PC7\": -0.18050264841021035, \"PC8\": -0.12814784766522025, \"PC9\": -0.10485916699328685, \"PC10\": 0.48794125761271395, \"PC11\": -0.45872973810754597, \"PC12\": -0.04341137182688256, \"PC13\": -0.07585059569775254, \"target\": 1}, {\"PC1\": -1.8192748362749291, \"PC2\": 1.3007536689253842, \"PC3\": -0.2662531061052799, \"PC4\": -1.1636154326907926, \"PC5\": 0.1998139236226048, \"PC6\": 1.2507124179119595, \"PC7\": 0.8780605525149385, \"PC8\": 0.10790606976459571, \"PC9\": -0.9769657797540459, \"PC10\": -0.4027106656429628, \"PC11\": -0.4877879171615891, \"PC12\": 0.32887920483841093, \"PC13\": 0.01801088385919936, \"target\": 0}, {\"PC1\": -1.6928837685632463, \"PC2\": 1.0547821086779225, \"PC3\": -0.3411049841764105, \"PC4\": -0.13854029564029322, \"PC5\": -0.41947860620667926, \"PC6\": -0.07172984749231659, \"PC7\": -1.1341596517847876, \"PC8\": -0.4453295387553543, \"PC9\": -0.02752300778852693, \"PC10\": 1.2869853509279274, \"PC11\": 1.3491875419141148, \"PC12\": 0.5353144837506052, \"PC13\": 0.16960436065451623, \"target\": 1}, {\"PC1\": -2.33560884306477, \"PC2\": 0.9816803144163041, \"PC3\": 0.001792948990974775, \"PC4\": 2.13057072335656, \"PC5\": 0.18070675758523655, \"PC6\": -0.17410559075316237, \"PC7\": 0.10832746252940427, \"PC8\": 0.6926438037105588, \"PC9\": -0.43488433716597963, \"PC10\": -1.3353484399572213, \"PC11\": 0.657023059808487, \"PC12\": 0.43628692726322443, \"PC13\": 0.5967360089420417, \"target\": 1}, {\"PC1\": 0.9676607765404766, \"PC2\": 2.389185596165833, \"PC3\": -0.05787893165048727, \"PC4\": 2.9172701149707847, \"PC5\": 0.11722999907450135, \"PC6\": 1.4095055494724094, \"PC7\": -0.6429746890338053, \"PC8\": 0.3145816600989851, \"PC9\": -1.1718420503654066, \"PC10\": 1.1847073498907656, \"PC11\": -0.2349858428905879, \"PC12\": 0.5573343119676034, \"PC13\": 0.46953613067664063, \"target\": 0}, {\"PC1\": -1.9059257443644255, \"PC2\": 1.1519947039026739, \"PC3\": -0.03609530006055836, \"PC4\": -1.0856372914932226, \"PC5\": -0.6373446345216258, \"PC6\": -1.0761447121293757, \"PC7\": -0.32505440208598047, \"PC8\": 0.25631260505685666, \"PC9\": 0.43922349384259646, \"PC10\": 0.03505379535437914, \"PC11\": -0.48212243329215543, \"PC12\": -0.23501536550563487, \"PC13\": -0.014829229156628312, \"target\": 1}, {\"PC1\": -1.3688532707743075, \"PC2\": 0.002736210858908013, \"PC3\": 0.7100762267695097, \"PC4\": 1.2767916871181377, \"PC5\": 0.30739496805731725, \"PC6\": -0.477818892173611, \"PC7\": 0.23883813422516345, \"PC8\": 1.1209394714260117, \"PC9\": -0.32684737135698716, \"PC10\": -0.3572495844635001, \"PC11\": 0.7394531264523564, \"PC12\": -0.9937889957410054, \"PC13\": 0.5457284753556749, \"target\": 1}, {\"PC1\": -2.5467383349657196, \"PC2\": 0.8093810059239037, \"PC3\": -0.44197317402014874, \"PC4\": 0.10824153214946734, \"PC5\": 0.03274786010426621, \"PC6\": -0.3353458551665504, \"PC7\": 0.027260386991706295, \"PC8\": -0.04470527511321065, \"PC9\": 0.2703456066220899, \"PC10\": 0.7035206921092119, \"PC11\": 0.1068472114489156, \"PC12\": -0.18569550799649306, \"PC13\": -0.08440033858734385, \"target\": 1}, {\"PC1\": 0.05036439634073632, \"PC2\": 0.2944632782640334, \"PC3\": 1.4013155305152156, \"PC4\": 0.2981280096414283, \"PC5\": -0.7905016014022691, \"PC6\": 1.6298099816408411, \"PC7\": -1.0859712531091512, \"PC8\": -0.4066819450825735, \"PC9\": -0.8863363998866098, \"PC10\": -0.7845105589108748, \"PC11\": 0.7113183347412102, \"PC12\": -0.31045677139550115, \"PC13\": 0.694119399790088, \"target\": 1}, {\"PC1\": -1.3490939028325368, \"PC2\": -0.4010420077985007, \"PC3\": 0.6655764916582545, \"PC4\": 0.7532118956929129, \"PC5\": -1.188538350896163, \"PC6\": 0.8558857161391724, \"PC7\": 0.1731919496715414, \"PC8\": 0.34822263627004535, \"PC9\": -0.9706545942764407, \"PC10\": -1.0311093714956558, \"PC11\": -0.02951789544715014, \"PC12\": -0.05917191775099855, \"PC13\": 0.480724258033558, \"target\": 1}, {\"PC1\": -1.4926280567039873, \"PC2\": 1.0904065890910652, \"PC3\": 0.7749826590894385, \"PC4\": 1.8569637137527237, \"PC5\": 0.8652390355385218, \"PC6\": 0.2037988386796247, \"PC7\": -0.0644234154564362, \"PC8\": 0.286210850350773, \"PC9\": -0.03478078163183567, \"PC10\": -1.4060550029938428, \"PC11\": 0.0706020329635562, \"PC12\": -0.6971508978040952, \"PC13\": 0.41818460454854023, \"target\": 1}, {\"PC1\": -2.0025682534041054, \"PC2\": 0.752005344379837, \"PC3\": 0.30688300434495414, \"PC4\": -1.3206630024024617, \"PC5\": -0.7492630924661543, \"PC6\": 1.1938572288783293, \"PC7\": 0.3814629102805833, \"PC8\": 0.15815813084353658, \"PC9\": -0.5020629086524363, \"PC10\": 0.1949202235842165, \"PC11\": -0.9561877817279693, \"PC12\": 0.4477582273858169, \"PC13\": -0.007532923563452616, \"target\": 1}, {\"PC1\": -1.7504477151052793, \"PC2\": -0.14889273054755958, \"PC3\": 0.291188184024132, \"PC4\": -1.2222383735739595, \"PC5\": -1.1321631813667101, \"PC6\": 0.8551107847621896, \"PC7\": 0.3642450093939426, \"PC8\": 0.014003840612057563, \"PC9\": -0.0342599421396333, \"PC10\": 0.846654430951864, \"PC11\": -0.5066934965977095, \"PC12\": -0.40858747761313535, \"PC13\": -0.20107385157288318, \"target\": 1}, {\"PC1\": -0.7085928728333939, \"PC2\": 1.0457518907880448, \"PC3\": -0.5448099952578054, \"PC4\": 0.9236608317280569, \"PC5\": -0.8999270174129912, \"PC6\": -1.2202632691956687, \"PC7\": 0.6950720759792092, \"PC8\": 1.035087293009671, \"PC9\": 1.7451701400850483, \"PC10\": 0.290095244438826, \"PC11\": 0.4585883971677893, \"PC12\": -1.1750430275794816, \"PC13\": -0.14944229716727947, \"target\": 0}, {\"PC1\": 1.6380910044560189, \"PC2\": 0.5518768513370625, \"PC3\": 0.04718842401881869, \"PC4\": -2.34656820103245, \"PC5\": -0.5438026621767806, \"PC6\": 0.2474206217215693, \"PC7\": 0.022241615964224217, \"PC8\": 0.3590864334113462, \"PC9\": -1.1625586746874286, \"PC10\": 0.29110129868372453, \"PC11\": 0.877960467265873, \"PC12\": -1.392345484400448, \"PC13\": 1.3408326786548161, \"target\": 0}, {\"PC1\": 0.9114693567382104, \"PC2\": 2.294475469268647, \"PC3\": 0.1450168332693929, \"PC4\": 0.7116887627921761, \"PC5\": -0.9096971373395663, \"PC6\": 1.7634405758319989, \"PC7\": 0.22662582206809154, \"PC8\": 0.6090504499864831, \"PC9\": -0.3608760312546354, \"PC10\": 0.22359344899688088, \"PC11\": 0.24545656124322915, \"PC12\": 0.9844972632454628, \"PC13\": -0.7498869431934954, \"target\": 1}, {\"PC1\": 0.366186581730482, \"PC2\": 0.09364669888576373, \"PC3\": -0.08238659704218086, \"PC4\": 2.329148187796532, \"PC5\": -1.5251208795207993, \"PC6\": 1.2043909540642102, \"PC7\": -0.49215210625822964, \"PC8\": -0.22830256505786645, \"PC9\": -0.8363099229353834, \"PC10\": -0.9804182891981933, \"PC11\": 1.6573384974654224, \"PC12\": 0.060529287372692676, \"PC13\": 1.2628492067088144, \"target\": 1}, {\"PC1\": -2.6682695252955515, \"PC2\": 0.7164220288443423, \"PC3\": 1.098326850325316, \"PC4\": 0.4755163331087878, \"PC5\": 0.6227015840524068, \"PC6\": -0.11168495989724873, \"PC7\": -0.18899429116080776, \"PC8\": 0.5996596075765801, \"PC9\": -0.22880583685666991, \"PC10\": -0.8787089050586983, \"PC11\": 0.21420538313100645, \"PC12\": 0.43292555609266, \"PC13\": -0.1539710479546426, \"target\": 1}, {\"PC1\": 0.02849159019088283, \"PC2\": 0.19134272108176756, \"PC3\": 1.485899496499345, \"PC4\": 0.1930945045152509, \"PC5\": -0.7566894234832136, \"PC6\": 1.630838127480964, \"PC7\": -1.0874470725170509, \"PC8\": -0.41843849014620277, \"PC9\": -0.7834017454715289, \"PC10\": -0.7385872067225692, \"PC11\": 0.6837195033134098, \"PC12\": -0.33366239962453903, \"PC13\": 0.8192011602355589, \"target\": 1}, {\"PC1\": -1.6691960892728404, \"PC2\": 1.168083812214217, \"PC3\": -1.5513386832052203, \"PC4\": -0.7327481475318088, \"PC5\": 0.9395938401406145, \"PC6\": 0.01575039433156298, \"PC7\": -1.2127105069852273, \"PC8\": 1.4800654517592977, \"PC9\": 1.4809897783995432, \"PC10\": -1.1329393749082888, \"PC11\": -0.6801031388631463, \"PC12\": 0.017950169292991914, \"PC13\": -0.580100225209606, \"target\": 1}, {\"PC1\": 2.2887204006811914, \"PC2\": 1.2290937002201126, \"PC3\": 0.46181964795804525, \"PC4\": -0.8124583178953957, \"PC5\": -0.18480075243273003, \"PC6\": -0.963303485425549, \"PC7\": -0.7085645005450879, \"PC8\": 0.47761321292100783, \"PC9\": -0.4494365541164867, \"PC10\": 0.9164356688114693, \"PC11\": 0.40763786831395676, \"PC12\": -1.3612195449360176, \"PC13\": 0.018761593068176537, \"target\": 0}, {\"PC1\": -0.5407486924374014, \"PC2\": 1.1636305864823322, \"PC3\": 0.17542892987360204, \"PC4\": -1.3248604971073643, \"PC5\": -0.8374339669679723, \"PC6\": 0.41779685924104143, \"PC7\": 0.49119764829424384, \"PC8\": -0.1882501395102767, \"PC9\": 0.37771887364436185, \"PC10\": -0.738549552026946, \"PC11\": -0.8477479232222672, \"PC12\": -0.5018680359069394, \"PC13\": -0.9464469503026632, \"target\": 0}, {\"PC1\": 0.17031772854557925, \"PC2\": 0.24962951253507137, \"PC3\": -1.041516444791796, \"PC4\": 2.1041057375726417, \"PC5\": -1.1211859926431595, \"PC6\": -0.9889284872264478, \"PC7\": 0.03937359405865517, \"PC8\": -0.20181978296922745, \"PC9\": -0.6454357142086999, \"PC10\": 1.0955918703406342, \"PC11\": -0.33499156752970966, \"PC12\": -0.27021393168656077, \"PC13\": -1.1752054189126684, \"target\": 0}, {\"PC1\": -1.703312029689317, \"PC2\": -0.37030882860156655, \"PC3\": -0.45600877229018044, \"PC4\": -0.48327612570043377, \"PC5\": -0.8168553111892318, \"PC6\": 0.7138937848988527, \"PC7\": 0.543332830915586, \"PC8\": -0.7922165589510568, \"PC9\": 0.26631913824467884, \"PC10\": 0.5364223877425077, \"PC11\": 0.1296659251503696, \"PC12\": -0.7214156499919581, \"PC13\": -0.3298518020163229, \"target\": 1}, {\"PC1\": 1.2858104464628513, \"PC2\": 1.5025444527293146, \"PC3\": 0.8421622181441341, \"PC4\": -0.3725003488944654, \"PC5\": -0.037927589981964424, \"PC6\": 1.8118391305187433, \"PC7\": 0.3671098701861768, \"PC8\": 0.563623398794564, \"PC9\": 0.21731231942100634, \"PC10\": 0.6875605235016486, \"PC11\": 0.41111325901008117, \"PC12\": -0.7511534905284828, \"PC13\": 0.08543666826767486, \"target\": 0}, {\"PC1\": -1.5339203375429926, \"PC2\": 1.700259395170287, \"PC3\": 0.3722377342077052, \"PC4\": -0.08425930801751509, \"PC5\": 1.0191161370348958, \"PC6\": 0.24704249719615218, \"PC7\": -0.018679719886144436, \"PC8\": -0.25745983438960496, \"PC9\": 0.2110718207538768, \"PC10\": 0.11033569191687136, \"PC11\": -0.9819780052906091, \"PC12\": -0.28218608422547214, \"PC13\": -0.45569641730599736, \"target\": 1}, {\"PC1\": -2.220635814418284, \"PC2\": 0.9134530664394848, \"PC3\": -0.01950329930897041, \"PC4\": 0.10997621808864085, \"PC5\": 0.3984989109967746, \"PC6\": -0.19926614678594842, \"PC7\": 0.38857648313987914, \"PC8\": 0.29215231902068445, \"PC9\": 0.9630575512331959, \"PC10\": 0.788741341572273, \"PC11\": 0.09269562457040006, \"PC12\": -0.34004418518380125, \"PC13\": -0.2759243157285119, \"target\": 0}, {\"PC1\": -2.458628929787072, \"PC2\": 0.20048413379416047, \"PC3\": -0.3836782819971344, \"PC4\": -0.14539275396744517, \"PC5\": -0.28145742501962295, \"PC6\": -0.5878432118742851, \"PC7\": -0.1588795667487391, \"PC8\": -0.21452258346533465, \"PC9\": 0.11327064521696958, \"PC10\": 1.010685617191418, \"PC11\": -0.047305024093358995, \"PC12\": 0.01831411575310201, \"PC13\": 0.12185335530052185, \"target\": 1}, {\"PC1\": -1.667203091854621, \"PC2\": -0.7717012624634931, \"PC3\": -1.9742966109595348, \"PC4\": -0.9719963020855729, \"PC5\": 1.3704128408674634, \"PC6\": -0.17820203246990576, \"PC7\": -0.7794111867465701, \"PC8\": 1.675792639224577, \"PC9\": -0.10778881700984438, \"PC10\": 0.6350794322430376, \"PC11\": 0.1423647766411527, \"PC12\": -0.16271472526153524, \"PC13\": 0.027844768192243973, \"target\": 1}, {\"PC1\": -0.26177674723888245, \"PC2\": 1.681960108868617, \"PC3\": -0.44670461071247447, \"PC4\": 1.0484557833844992, \"PC5\": -1.1319765708746605, \"PC6\": -0.8734227855910794, \"PC7\": 0.29460850417172624, \"PC8\": 1.221517846917947, \"PC9\": 0.49252192107279363, \"PC10\": -0.4310156469453664, \"PC11\": -0.9907512543417077, \"PC12\": 0.002048310052236498, \"PC13\": 1.5567239054397242, \"target\": 0}, {\"PC1\": 0.7632485508239288, \"PC2\": 0.2018885787266244, \"PC3\": -1.2753321961352795, \"PC4\": -2.7172995542963645, \"PC5\": 0.6033939444859596, \"PC6\": 1.1955280303409965, \"PC7\": -1.4950683092645476, \"PC8\": 0.8549925452470597, \"PC9\": 0.01640151649228069, \"PC10\": -0.6424731687414234, \"PC11\": 0.5667727228598537, \"PC12\": -0.33581871894221255, \"PC13\": -0.12298329757909117, \"target\": 0}, {\"PC1\": -0.2647179567548219, \"PC2\": 0.7880125945370438, \"PC3\": 0.10296140914797847, \"PC4\": -0.9473989251275621, \"PC5\": -1.6146716342058887, \"PC6\": 0.32966597424384697, \"PC7\": 0.40331643912933346, \"PC8\": 0.3115624226358311, \"PC9\": 0.11185324096013019, \"PC10\": -0.5767649141451342, \"PC11\": -1.2477042770162903, \"PC12\": -0.24834227817495216, \"PC13\": 0.6070830648967843, \"target\": 0}, {\"PC1\": -1.9294898377697698, \"PC2\": 0.7067235121130092, \"PC3\": -0.04990150895910598, \"PC4\": -1.0743262286420006, \"PC5\": -0.5019427464588269, \"PC6\": 1.15128140608802, \"PC7\": 0.3542406296522684, \"PC8\": -0.4338863031192161, \"PC9\": -0.6460918800907036, \"PC10\": -0.14430756077811502, \"PC11\": -0.9497958900432946, \"PC12\": 0.687314429432355, \"PC13\": 0.07999222655667952, \"target\": 1}, {\"PC1\": -1.7683705195463657, \"PC2\": -0.6660820101326099, \"PC3\": 1.250478696613273, \"PC4\": 0.6334652146567389, \"PC5\": 0.24758428853224534, \"PC6\": -0.5823877873087213, \"PC7\": -0.307497849406322, \"PC8\": 0.0753696022208317, \"PC9\": 0.4034420751357718, \"PC10\": 0.03341630954466756, \"PC11\": 0.5633118807600151, \"PC12\": -0.9819970663607274, \"PC13\": -0.652247422108023, \"target\": 1}, {\"PC1\": -1.2608109327552444, \"PC2\": 0.1640627092757638, \"PC3\": -0.4057325135056376, \"PC4\": -0.028250078511685744, \"PC5\": -1.2481542265327774, \"PC6\": 0.9415617431635499, \"PC7\": 0.5248838009944942, \"PC8\": -0.0727409471065545, \"PC9\": -0.3856868527620008, \"PC10\": 0.1881938634722877, \"PC11\": -0.71918590670947, \"PC12\": 0.07499843320658817, \"PC13\": 0.9515987554979771, \"target\": 1}, {\"PC1\": -1.3082667980203162, \"PC2\": -0.5030056483256305, \"PC3\": 1.2690946799686873, \"PC4\": 0.9463427672866502, \"PC5\": -0.26153269086992564, \"PC6\": -0.4299235224922402, \"PC7\": -0.5961520379535401, \"PC8\": 0.37176157140493055, \"PC9\": -0.36802048353582945, \"PC10\": -0.22902124303229843, \"PC11\": -0.33964312615437764, \"PC12\": -0.5355555865610461, \"PC13\": 0.8400742849342554, \"target\": 1}, {\"PC1\": -1.7238214242861234, \"PC2\": -0.18233806062969068, \"PC3\": 1.7594301382923114, \"PC4\": -0.13737961172907479, \"PC5\": 0.33925623516483255, \"PC6\": -0.3065965540010817, \"PC7\": -0.8211703102365456, \"PC8\": 0.027551436047356347, \"PC9\": -0.6049417145923948, \"PC10\": -0.33174464689773203, \"PC11\": -0.6246106511670861, \"PC12\": -0.13126659229382212, \"PC13\": -0.20524210229917578, \"target\": 1}, {\"PC1\": -1.730393636834351, \"PC2\": 0.3621224517605163, \"PC3\": 0.08424051436637174, \"PC4\": -0.2823345004246869, \"PC5\": -0.15234901993646363, \"PC6\": -0.5004499976282947, \"PC7\": -0.23703594970840375, \"PC8\": -0.17604242107068907, \"PC9\": -0.09628758124479757, \"PC10\": 1.0187634240716064, \"PC11\": -0.6789550299418715, \"PC12\": 0.15081057554423177, \"PC13\": -0.27498689584237185, \"target\": 1}, {\"PC1\": 0.5942970328207403, \"PC2\": 1.1757719834341598, \"PC3\": -1.536281969657253, \"PC4\": 0.3573570508149737, \"PC5\": 0.7640252904362891, \"PC6\": -1.7273675402446267, \"PC7\": 1.506041967268147, \"PC8\": 0.9255369864115517, \"PC9\": -0.5576557252701426, \"PC10\": -0.3731087213193313, \"PC11\": 0.7945959141828199, \"PC12\": -0.7241559288227859, \"PC13\": 0.0790217106380075, \"target\": 0}, {\"PC1\": -0.45005447087768, \"PC2\": 0.6629987510278619, \"PC3\": -1.4615627740259198, \"PC4\": -0.29403604687646484, \"PC5\": 1.664343597295968, \"PC6\": 0.6153812088455655, \"PC7\": 2.2788424027447296, \"PC8\": -0.23970567059167505, \"PC9\": -0.6719097157580216, \"PC10\": -0.44220766663543337, \"PC11\": 1.3032600307681335, \"PC12\": -0.9140892310269724, \"PC13\": -0.6776247509416556, \"target\": 0}, {\"PC1\": -1.6171275860618999, \"PC2\": -0.028055346251612476, \"PC3\": 1.7422251952069416, \"PC4\": -0.5405758223421813, \"PC5\": -0.012489853718213982, \"PC6\": 1.2059075401363533, \"PC7\": 0.37166071843325005, \"PC8\": 0.3554108085973633, \"PC9\": -0.21542216139102915, \"PC10\": -1.0784479491039094, \"PC11\": -0.34761785763099173, \"PC12\": 0.17662207069799196, \"PC13\": -0.4032166095657851, \"target\": 1}, {\"PC1\": -1.70100151919413, \"PC2\": -0.03627697458881727, \"PC3\": 1.2449437152477028, \"PC4\": 0.6104634629647007, \"PC5\": 0.2531922713422322, \"PC6\": -0.5114762597360433, \"PC7\": -0.26200220498460447, \"PC8\": 0.3814767260254607, \"PC9\": -0.3017445656478524, \"PC10\": -0.34981069035700074, \"PC11\": 0.012853730191578802, \"PC12\": 0.368222072384625, \"PC13\": -0.7839823150857562, \"target\": 1}, {\"PC1\": -2.2030500615677333, \"PC2\": 0.5471496213804123, \"PC3\": -0.6794203388558928, \"PC4\": 0.3535944193232898, \"PC5\": 0.4096828096887559, \"PC6\": -0.4200261338810863, \"PC7\": 0.05948839787389297, \"PC8\": -0.7779410802359988, \"PC9\": 0.3493843447791999, \"PC10\": 0.4340529390270402, \"PC11\": 0.0525310495339286, \"PC12\": -0.009110069496301908, \"PC13\": -0.032516685741173126, \"target\": 1}, {\"PC1\": -0.5381736764247504, \"PC2\": 0.35304826811121615, \"PC3\": -1.0772995795699238, \"PC4\": 0.1375032882912209, \"PC5\": -0.5848905353439733, \"PC6\": -1.6023908079003057, \"PC7\": 0.2034968013110156, \"PC8\": -0.05002794404733649, \"PC9\": 0.0611863192637338, \"PC10\": -0.03402141926055971, \"PC11\": 0.014133079827980668, \"PC12\": -0.6055510746050211, \"PC13\": 0.8841066702877146, \"target\": 0}, {\"PC1\": 1.4597425278261553, \"PC2\": 0.49020263423783766, \"PC3\": -0.3602360102381022, \"PC4\": 0.18444761530714973, \"PC5\": -1.551288629766705, \"PC6\": -0.009457040446973253, \"PC7\": 0.36122441953631723, \"PC8\": -0.7434296742820434, \"PC9\": -0.22206290710234988, \"PC10\": -0.6203087417424823, \"PC11\": -1.282304034567329, \"PC12\": -0.7958824107278254, \"PC13\": -0.9581249718290226, \"target\": 0}, {\"PC1\": 1.4904338011758531, \"PC2\": 1.4344405808849263, \"PC3\": -0.1842088322800595, \"PC4\": -0.2456739782526121, \"PC5\": -0.8987078928107186, \"PC6\": 0.8909634724040357, \"PC7\": -0.5997136627054352, \"PC8\": -1.3835636790714458, \"PC9\": 0.26992210332612704, \"PC10\": -0.798632989703052, \"PC11\": 0.1685122705532705, \"PC12\": -0.5978681535689387, \"PC13\": 0.2318999660787464, \"target\": 0}, {\"PC1\": -1.1530572820588225, \"PC2\": -0.03388427916586312, \"PC3\": 0.561545356522983, \"PC4\": 2.0331124605050257, \"PC5\": -0.20328388495300725, \"PC6\": -0.5966501322230133, \"PC7\": 0.1267821154596924, \"PC8\": 0.7315254259776035, \"PC9\": -0.11707321332921282, \"PC10\": -0.4777978652702347, \"PC11\": 0.3669709679597227, \"PC12\": 0.18607146399043656, \"PC13\": -0.046018655771221204, \"target\": 1}, {\"PC1\": 0.9948455201712066, \"PC2\": 0.5680848732820664, \"PC3\": 2.0399177430800024, \"PC4\": 0.04837857882657227, \"PC5\": -0.7960822938582981, \"PC6\": -0.7091710594979826, \"PC7\": -1.5561491880592324, \"PC8\": 0.5377411907220094, \"PC9\": 0.22894481381222834, \"PC10\": -0.4395363439761955, \"PC11\": 0.3928575554649089, \"PC12\": -0.17067417236304847, \"PC13\": 0.29407625552183114, \"target\": 0}, {\"PC1\": -1.5377448297018146, \"PC2\": -1.1078852110724002, \"PC3\": 0.8642049095733415, \"PC4\": 0.24979560012125027, \"PC5\": -0.48934665515055376, \"PC6\": 0.5868353230354522, \"PC7\": 0.5254867463028269, \"PC8\": -0.22587244390556746, \"PC9\": 0.17618600950699354, \"PC10\": -0.6258624702344827, \"PC11\": 0.7206203354330614, \"PC12\": -0.3734968367220347, \"PC13\": -0.7517193385346004, \"target\": 1}, {\"PC1\": 3.5325824509783694, \"PC2\": 1.1058656537420049, \"PC3\": -0.010871706460156878, \"PC4\": -0.39939047581609166, \"PC5\": -0.05565866929679544, \"PC6\": -1.5488431195171448, \"PC7\": -0.01725204470087334, \"PC8\": 0.904422401791697, \"PC9\": -1.2711843488726986, \"PC10\": 1.0507256459272443, \"PC11\": 0.6137471079632354, \"PC12\": -0.39682352724014314, \"PC13\": -0.9708065126689561, \"target\": 0}, {\"PC1\": 0.24440444124429422, \"PC2\": 1.0059532819367532, \"PC3\": 0.5509738261008793, \"PC4\": -1.3890313155466982, \"PC5\": -1.0989325268125358, \"PC6\": -1.0082164042457775, \"PC7\": -1.5792523681415878, \"PC8\": -0.38843996378886203, \"PC9\": -0.10009203257347166, \"PC10\": 0.866294180580018, \"PC11\": -0.024271738495476203, \"PC12\": 0.8393842255935247, \"PC13\": -0.3940273115122251, \"target\": 0}, {\"PC1\": -0.21737416222929237, \"PC2\": -0.8794892786867523, \"PC3\": -2.1300657201558995, \"PC4\": 0.7769705009171013, \"PC5\": -0.8723782889670094, \"PC6\": 1.215847746002025, \"PC7\": -0.2571008842412533, \"PC8\": 1.5513852903713201, \"PC9\": 0.4630150336417191, \"PC10\": 0.08207822603617242, \"PC11\": -0.57922364476453, \"PC12\": 0.579553517763259, \"PC13\": -0.7057420795008612, \"target\": 1}, {\"PC1\": -0.22777531872051526, \"PC2\": 1.8067934331094129, \"PC3\": 0.047099341861652044, \"PC4\": 1.1992095366471318, \"PC5\": 0.14284871756996506, \"PC6\": 0.3361967307613248, \"PC7\": -0.053675462579296215, \"PC8\": 0.6253494197210507, \"PC9\": 1.2108511182525312, \"PC10\": 0.983709084452658, \"PC11\": 1.1399905190396382, \"PC12\": 0.5004370375939364, \"PC13\": 0.40303168238837755, \"target\": 1}, {\"PC1\": -1.6638294673132623, \"PC2\": -1.1550925006646497, \"PC3\": 1.223120423251057, \"PC4\": -0.05820412089335726, \"PC5\": -0.7578442711712664, \"PC6\": 0.5533976039790385, \"PC7\": 0.6525975121330075, \"PC8\": 0.4615815938079263, \"PC9\": 0.3420447236060201, \"PC10\": -0.27311691852514935, \"PC11\": 0.6625024778413441, \"PC12\": -0.12182779721867829, \"PC13\": -0.7110597090420222, \"target\": 1}, {\"PC1\": -0.5575702713681681, \"PC2\": -1.7477548163671865, \"PC3\": 0.931057758281036, \"PC4\": -0.0658356981898565, \"PC5\": -0.609207761733931, \"PC6\": 0.09102678145160584, \"PC7\": 0.7450024104865258, \"PC8\": 0.18468833952215907, \"PC9\": -0.4326944976861744, \"PC10\": 0.0338553824100802, \"PC11\": 0.8620451123108385, \"PC12\": -0.7413554161183037, \"PC13\": -1.2217853584371317, \"target\": 1}, {\"PC1\": 0.04179787705000523, \"PC2\": 0.43476288173126343, \"PC3\": -0.785531065025595, \"PC4\": 0.13934967986765645, \"PC5\": 0.06054671962944328, \"PC6\": 0.963971854951989, \"PC7\": 0.7854059357800608, \"PC8\": -0.6840307692886402, \"PC9\": 0.7749197919809256, \"PC10\": 0.765473376832998, \"PC11\": 2.4141251072496934, \"PC12\": -0.27264607895614484, \"PC13\": -0.9535150797755169, \"target\": 1}, {\"PC1\": -0.7777274742360836, \"PC2\": 0.40813717401963945, \"PC3\": 0.34844210562064876, \"PC4\": -1.5620664739892436, \"PC5\": -0.9085943191765544, \"PC6\": 1.3372843222046953, \"PC7\": -0.9102819096435865, \"PC8\": -1.092182458557268, \"PC9\": -0.6401282895891769, \"PC10\": 0.7206137841343244, \"PC11\": 0.16888775786495797, \"PC12\": 0.9739536082179502, \"PC13\": 0.472325874425132, \"target\": 1}, {\"PC1\": -0.9006579702810504, \"PC2\": 1.9876907091864717, \"PC3\": -0.06986569230503542, \"PC4\": -1.030435272327169, \"PC5\": 0.5648814191657159, \"PC6\": -0.6095345693820727, \"PC7\": 0.040890731214846314, \"PC8\": 0.620241815736225, \"PC9\": 1.4440855915279553, \"PC10\": 0.16366515296559223, \"PC11\": 1.787968230664481, \"PC12\": 0.4667117197332675, \"PC13\": 0.31402196648987435, \"target\": 1}, {\"PC1\": -1.469852731453825, \"PC2\": 1.2890554603908528, \"PC3\": -0.3936404000890455, \"PC4\": 0.9571303211664515, \"PC5\": 1.2134010905733719, \"PC6\": -0.0733406976357361, \"PC7\": 0.7012101241219014, \"PC8\": -0.46338640020555844, \"PC9\": 1.2387920480843762, \"PC10\": 0.1573933778247424, \"PC11\": 0.19977822652367766, \"PC12\": -0.4820060528447727, \"PC13\": -0.9033623976597347, \"target\": 1}, {\"PC1\": -0.4369312505932585, \"PC2\": 1.1939615288886243, \"PC3\": -0.4870006475529004, \"PC4\": -1.359207008832776, \"PC5\": 0.761168302120449, \"PC6\": -1.4266794728288092, \"PC7\": 0.39784594213487706, \"PC8\": 0.08442802015443862, \"PC9\": -0.8911683835438978, \"PC10\": -0.4482697430407127, \"PC11\": -0.5186349875750256, \"PC12\": 0.32512355535877596, \"PC13\": -0.14079734457051246, \"target\": 0}, {\"PC1\": -1.7606672440270654, \"PC2\": 0.04094486688217069, \"PC3\": 0.7279513656758769, \"PC4\": -0.814285494701252, \"PC5\": -0.23588031785323446, \"PC6\": -0.5064170640312307, \"PC7\": -0.07259840188521235, \"PC8\": 0.4416217445084831, \"PC9\": 0.46913448130641183, \"PC10\": 1.4998865308728377, \"PC11\": -0.8091294868737148, \"PC12\": 0.17942205061179256, \"PC13\": -0.008900749386412145, \"target\": 1}, {\"PC1\": -0.9057327686949439, \"PC2\": -1.1780250504995973, \"PC3\": -2.7355140809163254, \"PC4\": -0.29619011054084937, \"PC5\": 0.016289042603881705, \"PC6\": -1.0937299929442679, \"PC7\": -2.184813572385013, \"PC8\": -0.9261822006059387, \"PC9\": 0.45959259158478183, \"PC10\": -0.61919374778983, \"PC11\": -0.4756874169601046, \"PC12\": -0.4630475239133943, \"PC13\": -0.5542898566305254, \"target\": 1}, {\"PC1\": -1.1550143199349219, \"PC2\": 0.5465937245555472, \"PC3\": -0.5523734053719375, \"PC4\": -0.012953282277920804, \"PC5\": 0.8753473066361183, \"PC6\": -0.5912825465580199, \"PC7\": 0.23078715698638466, \"PC8\": -0.6606766493094435, \"PC9\": -0.5490079795031924, \"PC10\": 0.4438620491181261, \"PC11\": -0.2968348574275533, \"PC12\": 0.07357202539137077, \"PC13\": -0.33388502930095837, \"target\": 1}, {\"PC1\": -1.3798502651157878, \"PC2\": 1.1385155792683093, \"PC3\": 0.3410936092683124, \"PC4\": -0.754530969997634, \"PC5\": 1.235399185463618, \"PC6\": -0.12997403383414124, \"PC7\": 0.32542222511330576, \"PC8\": 0.12932383487043678, \"PC9\": -0.23485065093066232, \"PC10\": 0.39781734201459173, \"PC11\": -0.8463765459581764, \"PC12\": 0.20802124227863034, \"PC13\": 0.08233327073397609, \"target\": 0}, {\"PC1\": -1.4679413914410722, \"PC2\": -0.8876838678032157, \"PC3\": 0.1115171143262197, \"PC4\": 1.1841795761592828, \"PC5\": -0.7462952856086805, \"PC6\": 0.6896449717656292, \"PC7\": 0.45508821199936333, \"PC8\": -0.4059497803432127, \"PC9\": -0.37174052131042956, \"PC10\": -1.279766272673507, \"PC11\": 0.5118399890961841, \"PC12\": 0.009258951251718522, \"PC13\": 0.8216222266143021, \"target\": 1}, {\"PC1\": -0.03980575833587191, \"PC2\": 1.4479473680758956, \"PC3\": 0.4098228302952814, \"PC4\": -1.7898545449635581, \"PC5\": 0.2780153040854391, \"PC6\": -0.6904429825520748, \"PC7\": -1.0564529475709787, \"PC8\": -0.4124084249491592, \"PC9\": 0.09274852342923504, \"PC10\": 0.25906370117161764, \"PC11\": 0.42551401418124907, \"PC12\": 0.3004153399901229, \"PC13\": 0.4537456596456226, \"target\": 0}, {\"PC1\": -2.032720228270588, \"PC2\": -0.2564631776752292, \"PC3\": -1.729643550201476, \"PC4\": -0.3534164827211573, \"PC5\": 0.9504534691591486, \"PC6\": 0.3222496558507597, \"PC7\": -1.6194262292716517, \"PC8\": 0.5653823556958039, \"PC9\": 0.2947803851976691, \"PC10\": -0.05101356166155324, \"PC11\": -0.9999784286091307, \"PC12\": 0.8177026050923227, \"PC13\": -0.06779446042734794, \"target\": 1}, {\"PC1\": -0.03645563016971902, \"PC2\": 0.5175540303147594, \"PC3\": -1.427049795454742, \"PC4\": -2.1189921733456463, \"PC5\": 2.388282656499278, \"PC6\": -0.5282267119663441, \"PC7\": -0.399318904091363, \"PC8\": 2.0041031618957916, \"PC9\": 0.05645567353090107, \"PC10\": -0.8291371043486928, \"PC11\": -0.5678113670788103, \"PC12\": -0.3955837097337486, \"PC13\": -0.1815651294980819, \"target\": 1}, {\"PC1\": -0.2353366029722792, \"PC2\": 0.1624173372669823, \"PC3\": -0.7340408001229791, \"PC4\": 1.7131897500456819, \"PC5\": 1.9059588381217425, \"PC6\": 2.774348206535012, \"PC7\": -2.2952025088717702, \"PC8\": 0.5749855820171683, \"PC9\": -0.646735664778188, \"PC10\": 1.907896450912128, \"PC11\": -0.6518954370201546, \"PC12\": 0.9942034876167211, \"PC13\": 0.3226781048483791, \"target\": 0}, {\"PC1\": -1.0165916847457686, \"PC2\": -0.3471781396689122, \"PC3\": -1.3114090933782778, \"PC4\": -1.1520267994251912, \"PC5\": 1.8346765848773734, \"PC6\": -1.3404667792110103, \"PC7\": 1.208183674427659, \"PC8\": 0.1075277168452274, \"PC9\": -1.6678184418407493, \"PC10\": 0.8719921766380829, \"PC11\": 1.0858664491935932, \"PC12\": -0.5294538339553793, \"PC13\": 0.7093886813412823, \"target\": 1}, {\"PC1\": -2.532879967651937, \"PC2\": -0.247639537433989, \"PC3\": -1.2280996478463744, \"PC4\": 1.397423469758986, \"PC5\": -0.4906002148526483, \"PC6\": 1.5608436843416487, \"PC7\": 1.3523758342658447, \"PC8\": -0.13867342219257056, \"PC9\": -0.059077093783236584, \"PC10\": 0.7488940708482225, \"PC11\": 0.45753086930093867, \"PC12\": 0.8412714991249151, \"PC13\": 1.25769646780219, \"target\": 1}, {\"PC1\": -0.5784693562923575, \"PC2\": -1.6077120205192539, \"PC3\": -2.3662186847730053, \"PC4\": 0.17297008223676855, \"PC5\": -1.3182622846692704, \"PC6\": -1.3600438266587596, \"PC7\": -1.6034099447438113, \"PC8\": 1.1549050318892409, \"PC9\": 1.0477822707097304, \"PC10\": 0.4038922211327232, \"PC11\": -0.3402776533219905, \"PC12\": -0.19873268105965583, \"PC13\": 0.3137638258778949, \"target\": 1}, {\"PC1\": -0.22686725456465517, \"PC2\": -0.5822511920879372, \"PC3\": 1.5719808044761325, \"PC4\": 0.45782627024834677, \"PC5\": -0.4490929749428136, \"PC6\": 1.0683327618804912, \"PC7\": 0.2554674003818163, \"PC8\": 0.052052024476985516, \"PC9\": -0.3271346722537523, \"PC10\": -0.9806289695174213, \"PC11\": -0.7453027285677186, \"PC12\": -0.4985713144962196, \"PC13\": 0.29352061611955715, \"target\": 1}, {\"PC1\": 2.6518176045567454, \"PC2\": 0.5654308392766388, \"PC3\": -1.9676546205647412, \"PC4\": 0.719635457893313, \"PC5\": -1.4029697044202538, \"PC6\": 1.2132844929409923, \"PC7\": -1.7139568505791483, \"PC8\": 0.8769375544747563, \"PC9\": 0.02052761974374637, \"PC10\": -1.0644438084101333, \"PC11\": -0.6137808778381698, \"PC12\": 0.9034972685399385, \"PC13\": 0.2133154623199377, \"target\": 0}, {\"PC1\": -0.9039420109168363, \"PC2\": -1.588568088943593, \"PC3\": -2.3990631057015066, \"PC4\": -1.7279652781470098, \"PC5\": 1.2358536127645445, \"PC6\": 0.810115851563902, \"PC7\": 0.33408153430769494, \"PC8\": 1.3139101067942012, \"PC9\": -0.5619207624946885, \"PC10\": 0.08192035254860205, \"PC11\": 0.5373188324263278, \"PC12\": -0.10824727795398434, \"PC13\": 0.11986456110376159, \"target\": 1}, {\"PC1\": -1.8683657247611118, \"PC2\": -1.4291322593124824, \"PC3\": 1.28490452273298, \"PC4\": 1.9145322046859687, \"PC5\": 1.5221797215285213, \"PC6\": 2.578169290823807, \"PC7\": 0.9336525388873936, \"PC8\": -0.9122714954554765, \"PC9\": -0.09516134277528508, \"PC10\": 0.6224721879421037, \"PC11\": 0.6933222586026345, \"PC12\": -0.8957937783962345, \"PC13\": -0.9652624321321448, \"target\": 1}, {\"PC1\": 2.8146843292225534, \"PC2\": 1.639425060289756, \"PC3\": 0.657785188616407, \"PC4\": -0.40029698389935614, \"PC5\": 0.7245728512521813, \"PC6\": -0.7264930028494264, \"PC7\": -0.054693657500709085, \"PC8\": 0.5206420953616461, \"PC9\": 0.46350505855214613, \"PC10\": 0.5421006145008354, \"PC11\": 0.45532614141828276, \"PC12\": -1.1906621626125342, \"PC13\": -0.308509305238716, \"target\": 0}, {\"PC1\": -1.2826307052128922, \"PC2\": -0.7256850182513404, \"PC3\": 1.2828152046475971, \"PC4\": -0.38659011639648466, \"PC5\": -0.10215485245818831, \"PC6\": 0.9116617268447738, \"PC7\": -0.0718279094680425, \"PC8\": -0.8211239489505415, \"PC9\": -0.7261392676983702, \"PC10\": -1.1596424657138416, \"PC11\": -0.4560146961801102, \"PC12\": 0.041942199441067855, \"PC13\": -0.29414122971490625, \"target\": 1}, {\"PC1\": 0.9624408867226948, \"PC2\": 1.0988380224887015, \"PC3\": 0.38459067678889747, \"PC4\": -1.3645685111622685, \"PC5\": -0.12859363392313175, \"PC6\": 0.9236633977135116, \"PC7\": -0.6230144390241564, \"PC8\": -1.8842863585159606, \"PC9\": 0.9844653357637058, \"PC10\": -0.5793065658872396, \"PC11\": 0.3821636113747332, \"PC12\": -0.9262151083271586, \"PC13\": -0.49324453589157363, \"target\": 1}, {\"PC1\": 0.23344635821122353, \"PC2\": -0.6838632987755544, \"PC3\": -2.454704802003763, \"PC4\": 1.676715381371323, \"PC5\": -0.5053215456883119, \"PC6\": 1.5877357137704882, \"PC7\": -0.2222961389656897, \"PC8\": 1.1166814260390492, \"PC9\": 0.7269997819044143, \"PC10\": -0.5856079662221076, \"PC11\": -0.7662385966577188, \"PC12\": -0.14565203929107917, \"PC13\": 0.8380571646856878, \"target\": 1}, {\"PC1\": 1.0216178116457846, \"PC2\": 1.7747574674413804, \"PC3\": -0.1948171152852325, \"PC4\": 0.47016621260268765, \"PC5\": 0.8945355810538951, \"PC6\": -0.840339509372482, \"PC7\": 0.6068890737291652, \"PC8\": -0.08365960788636402, \"PC9\": 0.46481778321966716, \"PC10\": -0.8632417577801679, \"PC11\": -0.9729351048631453, \"PC12\": -0.8158168040125545, \"PC13\": -0.18113309902380884, \"target\": 0}, {\"PC1\": -1.6550516273397118, \"PC2\": -1.3473090622374173, \"PC3\": 0.05337110861953487, \"PC4\": 0.5787824569735469, \"PC5\": 0.7165895116061283, \"PC6\": -1.1010054028287315, \"PC7\": -0.4543429591412687, \"PC8\": -1.2791518418413559, \"PC9\": -0.992337215851217, \"PC10\": -0.5155140989176763, \"PC11\": 0.7753004293050355, \"PC12\": -0.3624389874433192, \"PC13\": 0.10469005880459363, \"target\": 1}, {\"PC1\": 0.19513872342776178, \"PC2\": -0.370030395375621, \"PC3\": -0.5456259093644561, \"PC4\": 0.8381856449801056, \"PC5\": -0.9665029912381967, \"PC6\": 0.6934142943565473, \"PC7\": 1.52392758171738, \"PC8\": 0.7256423824323295, \"PC9\": 0.2624736475609719, \"PC10\": 0.5189383303715089, \"PC11\": -0.22386522969201877, \"PC12\": -0.6996501183599171, \"PC13\": 1.7232129152783675, \"target\": 1}, {\"PC1\": -0.8292492470602567, \"PC2\": 0.4311116619750737, \"PC3\": 0.17236702742125987, \"PC4\": -0.12358633617539543, \"PC5\": 0.2607648246308313, \"PC6\": -0.46117027684101175, \"PC7\": -0.3797734319978238, \"PC8\": -0.871097827510099, \"PC9\": -0.45078297408152007, \"PC10\": 0.675339719990876, \"PC11\": -1.305306936676073, \"PC12\": 0.37912592443101634, \"PC13\": -0.635961317921379, \"target\": 1}, {\"PC1\": -1.8720967232078776, \"PC2\": -2.271496408069664, \"PC3\": -0.06709569429103136, \"PC4\": -0.06504432635523026, \"PC5\": 0.4791653620311482, \"PC6\": -0.20996243428150985, \"PC7\": -1.8756160666803035, \"PC8\": 1.3189117059459625, \"PC9\": 0.6741675587597354, \"PC10\": -0.08936278802878167, \"PC11\": -0.050061868173189535, \"PC12\": 0.04010558652717314, \"PC13\": -0.3526083339091252, \"target\": 1}, {\"PC1\": 2.072574208535271, \"PC2\": 2.2455903563388717, \"PC3\": 0.369727738068461, \"PC4\": 0.16289791260328118, \"PC5\": 0.12646608112011687, \"PC6\": -0.6233871077712664, \"PC7\": -0.1322996763053881, \"PC8\": 0.6971213291595586, \"PC9\": 0.4477780972299608, \"PC10\": 0.15971014945813777, \"PC11\": 0.23266744358323735, \"PC12\": 0.4183576417973682, \"PC13\": -0.44510336312763343, \"target\": 0}, {\"PC1\": -0.35829053520353943, \"PC2\": 0.21524259853669903, \"PC3\": -0.4662274743162499, \"PC4\": -0.17637207935106575, \"PC5\": -1.295989318575879, \"PC6\": 0.05791667639649054, \"PC7\": 1.1353031075734221, \"PC8\": 0.11601918159363706, \"PC9\": 1.4065268693578856, \"PC10\": -0.4734705108670452, \"PC11\": -0.11050805596336365, \"PC12\": -0.4936479561725548, \"PC13\": 0.5273127144432227, \"target\": 1}, {\"PC1\": -1.1308289792400958, \"PC2\": 0.07242428325914754, \"PC3\": 0.6800649362457347, \"PC4\": 2.0442720942732255, \"PC5\": 0.07059668795127444, \"PC6\": -0.540634196849077, \"PC7\": 0.4202992509552194, \"PC8\": 0.9197624885700525, \"PC9\": 0.2353654635587543, \"PC10\": -0.5738716194513932, \"PC11\": 0.3521162612692332, \"PC12\": 0.593450794388129, \"PC13\": 0.02341173420870428, \"target\": 1}, {\"PC1\": -0.6128684818538503, \"PC2\": -0.438220805247319, \"PC3\": -1.1392290909089997, \"PC4\": -0.5765982425067305, \"PC5\": -1.570200623391737, \"PC6\": -0.572392630995475, \"PC7\": 0.5374658164717555, \"PC8\": -1.2046585958098226, \"PC9\": 0.24044836060255792, \"PC10\": -0.3692448704197333, \"PC11\": 0.06732502828329313, \"PC12\": 0.20466254769943865, \"PC13\": -0.8700900702484721, \"target\": 1}, {\"PC1\": -0.19181226162285958, \"PC2\": -1.7096917899494635, \"PC3\": 0.18402225299859223, \"PC4\": -1.227047006738837, \"PC5\": 0.5272081462552065, \"PC6\": 1.682723628438534, \"PC7\": -1.836164207810062, \"PC8\": 1.0143167795692796, \"PC9\": 0.10039071150417984, \"PC10\": -0.4849698523681072, \"PC11\": 1.2192709864986888, \"PC12\": 0.31453725161755136, \"PC13\": -0.18388912700921156, \"target\": 1}, {\"PC1\": 2.616593526394928, \"PC2\": 1.3151378046752333, \"PC3\": 0.4244071208098758, \"PC4\": -0.5370893120961316, \"PC5\": -0.5707878230016903, \"PC6\": 0.6265942271821321, \"PC7\": 0.34889863623004136, \"PC8\": 0.019029835777222334, \"PC9\": 0.5724938463866776, \"PC10\": -0.11951687403097003, \"PC11\": 0.3386297688526565, \"PC12\": -0.5083752925659683, \"PC13\": -0.4920139043610227, \"target\": 0}, {\"PC1\": -2.1487833363210287, \"PC2\": -0.853020352296891, \"PC3\": 1.161186282910486, \"PC4\": -0.14412186461926452, \"PC5\": -0.3657535231981394, \"PC6\": 0.7257421143906819, \"PC7\": 0.878568901759995, \"PC8\": 0.5444380088129348, \"PC9\": 0.5824878591230158, \"PC10\": -0.639792260509745, \"PC11\": 0.7125403730709494, \"PC12\": 0.4261914351911947, \"PC13\": -0.20406170886944536, \"target\": 1}, {\"PC1\": 1.1919829655935754, \"PC2\": 1.664028549619055, \"PC3\": 0.5353719859382938, \"PC4\": -0.13150416386799793, \"PC5\": 0.9835443851554194, \"PC6\": 2.0520784595700627, \"PC7\": 0.5525997627566378, \"PC8\": -0.36422131069469604, \"PC9\": 0.6688144281915381, \"PC10\": -0.09520304968395055, \"PC11\": 0.47515331681703643, \"PC12\": -0.6431418898195775, \"PC13\": 0.6274375831087768, \"target\": 0}, {\"PC1\": -0.6474678551624115, \"PC2\": -1.8265856447488087, \"PC3\": -1.1149168812430756, \"PC4\": -2.153512368870687, \"PC5\": -1.8303786300368199, \"PC6\": -1.0207116990565963, \"PC7\": -0.4766672116911445, \"PC8\": -2.1351297410840147, \"PC9\": -1.4308748289659956, \"PC10\": 0.05213186823773395, \"PC11\": -0.5015406171514459, \"PC12\": -0.3173961276938089, \"PC13\": 0.5815278479998727, \"target\": 0}, {\"PC1\": 2.7799195993701513, \"PC2\": 0.8249560721310248, \"PC3\": 0.4863877025996592, \"PC4\": -0.13186899439532043, \"PC5\": -0.01864211494859182, \"PC6\": 1.0769400565183895, \"PC7\": 0.8551039386983441, \"PC8\": 0.6389576394745561, \"PC9\": -0.5841793000533675, \"PC10\": 1.0722389887626005, \"PC11\": 0.5000887683849259, \"PC12\": -0.09370814600879894, \"PC13\": -0.8030470186822104, \"target\": 0}, {\"PC1\": -1.2714704844721232, \"PC2\": 0.73822323766508, \"PC3\": 0.687564786018382, \"PC4\": -1.2923142184795715, \"PC5\": -0.21384253803645495, \"PC6\": -1.0978069609151686, \"PC7\": 0.18134017319826418, \"PC8\": 0.5992286405526857, \"PC9\": 1.510825601862618, \"PC10\": 0.384876864107531, \"PC11\": -0.6657938267850861, \"PC12\": -0.06911796198674362, \"PC13\": -0.07016829355503468, \"target\": 1}, {\"PC1\": -1.2160421505656636, \"PC2\": -1.2600250699302105, \"PC3\": 1.8922896478204034, \"PC4\": -0.03988173625732765, \"PC5\": -0.3907116473032583, \"PC6\": -0.9394006848943418, \"PC7\": -0.4681242333061714, \"PC8\": 0.5756569012710355, \"PC9\": -0.12650818996211746, \"PC10\": 0.6427870450053368, \"PC11\": -0.32179680471186667, \"PC12\": 0.2810623042394164, \"PC13\": -0.6816660802282254, \"target\": 1}, {\"PC1\": -1.4573424377246484, \"PC2\": 0.1489790529564473, \"PC3\": 0.2828131911238396, \"PC4\": -0.30952696451088296, \"PC5\": 0.4315484485247465, \"PC6\": -0.40456433869872377, \"PC7\": -0.0726065607481456, \"PC8\": -0.5784459397282279, \"PC9\": 0.523838830084971, \"PC10\": 0.8902064430631754, \"PC11\": -0.7329072399312417, \"PC12\": -0.07466569601566979, \"PC13\": -0.057571113161762215, \"target\": 1}, {\"PC1\": 1.9083943771475507, \"PC2\": 0.7545978387703214, \"PC3\": 1.133235443030604, \"PC4\": -1.0662528169584682, \"PC5\": -0.5201379068590428, \"PC6\": -0.8907362304295702, \"PC7\": -0.8168594757107982, \"PC8\": 0.5127146456554964, \"PC9\": 0.613366489540949, \"PC10\": 1.1929858348254123, \"PC11\": -0.09076244137611555, \"PC12\": -0.5618548110535562, \"PC13\": 0.5152218436583734, \"target\": 0}, {\"PC1\": 2.3538436972913774, \"PC2\": -0.7406916211336131, \"PC3\": 2.010683683385574, \"PC4\": 1.9219392771247825, \"PC5\": -0.16315298084923202, \"PC6\": -1.9509798581349984, \"PC7\": -2.7692450035651017, \"PC8\": -0.7776342879753853, \"PC9\": -0.9675845310205288, \"PC10\": 1.5282171339209374, \"PC11\": -0.14529437546082474, \"PC12\": -0.6509712292340574, \"PC13\": -0.9679217572565821, \"target\": 0}, {\"PC1\": -0.36914130864502065, \"PC2\": -1.003077784193142, \"PC3\": 0.8579572951114616, \"PC4\": 0.9686151349737568, \"PC5\": -0.9774909214926906, \"PC6\": 0.5874471104195637, \"PC7\": 0.4496974612917845, \"PC8\": 0.04877853644550545, \"PC9\": -0.538555673110183, \"PC10\": -0.8180090321621079, \"PC11\": -0.22711751919728032, \"PC12\": 0.27719486165650475, \"PC13\": 0.06664453293480434, \"target\": 1}, {\"PC1\": 1.4181644068052928, \"PC2\": 1.5488504014169309, \"PC3\": 1.3135386618642984, \"PC4\": 1.207717561757589, \"PC5\": 1.1524643186537589, \"PC6\": -2.0452873720749962, \"PC7\": -1.6182644053216857, \"PC8\": 0.27229058890159397, \"PC9\": -0.2302770488660031, \"PC10\": -0.8024897331559454, \"PC11\": 0.6637905193367974, \"PC12\": 0.22344049008024253, \"PC13\": 0.09090444303117493, \"target\": 0}, {\"PC1\": 4.0089572150570705, \"PC2\": 1.9531467508917868, \"PC3\": -0.24547134174197155, \"PC4\": 2.379965093399726, \"PC5\": -1.2468041562494625, \"PC6\": -0.9494504430227481, \"PC7\": -0.5587831607947374, \"PC8\": 0.03147600274533318, \"PC9\": -0.06695565609693781, \"PC10\": 0.19321039240329402, \"PC11\": -0.4269531136577419, \"PC12\": 0.4634812417722068, \"PC13\": -1.1840367023195777, \"target\": 0}, {\"PC1\": 1.919048724562154, \"PC2\": 0.021669966582403208, \"PC3\": 0.08105617415450522, \"PC4\": -1.3294997701494553, \"PC5\": -1.2723043495125013, \"PC6\": 0.2118651563439718, \"PC7\": -0.6286266720462672, \"PC8\": -1.074877359523068, \"PC9\": -0.3412643999012199, \"PC10\": 0.15977487324142609, \"PC11\": 0.1101137091550536, \"PC12\": -0.5145920306924587, \"PC13\": 0.8069481980425398, \"target\": 0}, {\"PC1\": 0.49356007484377395, \"PC2\": -1.1650776062612045, \"PC3\": -1.418154911802975, \"PC4\": 0.45567437748739537, \"PC5\": 0.7995095850897999, \"PC6\": 2.6086389728485426, \"PC7\": -0.8463782532524992, \"PC8\": 0.824656727684024, \"PC9\": 0.5418438476683592, \"PC10\": 1.3199764819857494, \"PC11\": 0.8920863167225174, \"PC12\": 0.08605084758946684, \"PC13\": 0.4651436235160463, \"target\": 0}, {\"PC1\": -0.43311909447085767, \"PC2\": 0.31156823011891355, \"PC3\": -1.550825404440707, \"PC4\": 0.8313300427884555, \"PC5\": -1.520878742236261, \"PC6\": -0.32599161877915944, \"PC7\": 1.535183824983183, \"PC8\": -0.020128890890781462, \"PC9\": 1.0914524015328209, \"PC10\": -0.7753116224268823, \"PC11\": 0.5309863760368727, \"PC12\": 0.6042770899134378, \"PC13\": -0.004608918430133683, \"target\": 1}, {\"PC1\": 2.3323600005602083, \"PC2\": -1.089465753669413, \"PC3\": 2.2133872561429113, \"PC4\": -1.664872064823592, \"PC5\": -1.474356800712225, \"PC6\": -0.2630529348020318, \"PC7\": -0.15788494485443613, \"PC8\": 1.490293655432368, \"PC9\": -0.6285368975755671, \"PC10\": 0.19581560361088382, \"PC11\": 0.8246208872511647, \"PC12\": -0.15894598931854267, \"PC13\": 0.2879400063976605, \"target\": 0}, {\"PC1\": 3.2362808053350647, \"PC2\": 0.2272274459351931, \"PC3\": -0.6869315581073432, \"PC4\": 0.16542370431340034, \"PC5\": -0.6293228666916867, \"PC6\": 1.606622006817016, \"PC7\": -1.4414806745476292, \"PC8\": 1.1307161834154718, \"PC9\": 1.732413020105196, \"PC10\": -0.5594780572004312, \"PC11\": -0.6983345865862004, \"PC12\": -0.8772021185642467, \"PC13\": 0.32558562101502264, \"target\": 0}, {\"PC1\": 1.8941430628708886, \"PC2\": 0.9553598787842312, \"PC3\": 0.15196862478616305, \"PC4\": 1.290331679641529, \"PC5\": 1.0824850171566118, \"PC6\": 2.3830271808098646, \"PC7\": 0.5128844390343431, \"PC8\": -1.0550562601885243, \"PC9\": -0.5926516123848224, \"PC10\": 0.8466125557232339, \"PC11\": 0.31516867940796567, \"PC12\": -0.11280438419240303, \"PC13\": -0.4846147545136803, \"target\": 0}, {\"PC1\": -1.716006051129393, \"PC2\": 0.4953373234948361, \"PC3\": -0.03063102222167052, \"PC4\": -0.11216161183905439, \"PC5\": 0.23559788280544533, \"PC6\": -0.5026646201047141, \"PC7\": 0.1427542626079792, \"PC8\": -0.17746237658714067, \"PC9\": 0.15296495333202947, \"PC10\": 0.7065721672918381, \"PC11\": -0.7002906388525648, \"PC12\": 1.0735814638023113, \"PC13\": -0.15089517445276993, \"target\": 1}, {\"PC1\": -1.0548849665824194, \"PC2\": 0.27339600647976164, \"PC3\": -0.45971610615796904, \"PC4\": -1.247677106672252, \"PC5\": -0.6869816804014868, \"PC6\": 0.05962019831137691, \"PC7\": 0.6214126909159939, \"PC8\": -0.9862421584162447, \"PC9\": 0.7054564443223513, \"PC10\": -0.8758464179321626, \"PC11\": -0.42017600333078864, \"PC12\": 0.23082128087997483, \"PC13\": -0.036950811780879424, \"target\": 1}, {\"PC1\": -0.5980130451274277, \"PC2\": 0.619006677325887, \"PC3\": -0.10064470713854301, \"PC4\": 1.317283573208048, \"PC5\": -0.2913721980179413, \"PC6\": -0.13747730228248342, \"PC7\": 0.2798924118739123, \"PC8\": 0.5132440898073909, \"PC9\": 0.3798505702181668, \"PC10\": 0.47401361542694276, \"PC11\": -1.2341434442925512, \"PC12\": 0.1502805065545463, \"PC13\": 2.2454227583991258, \"target\": 1}, {\"PC1\": -0.07265340407744457, \"PC2\": -1.4602195418443857, \"PC3\": 1.2217869045636707, \"PC4\": 0.7170475255970511, \"PC5\": -1.1347839835885964, \"PC6\": 0.4899947431853923, \"PC7\": 0.3631620079692315, \"PC8\": 0.09968635663649811, \"PC9\": -0.3155768920563025, \"PC10\": -0.3987637804993835, \"PC11\": -0.34082160258546473, \"PC12\": -0.1349310111574136, \"PC13\": 0.028333408873487568, \"target\": 1}, {\"PC1\": 4.64543391572009, \"PC2\": -2.550268022871047, \"PC3\": -1.06558441433375, \"PC4\": 0.5628017055957742, \"PC5\": -1.3934710658988634, \"PC6\": -0.106730850759766, \"PC7\": -2.363913846538049, \"PC8\": 0.26001621972861083, \"PC9\": -2.004583619571078, \"PC10\": -1.0367122357086322, \"PC11\": 0.16004791763876441, \"PC12\": -0.6871797116896741, \"PC13\": -0.2765021953875333, \"target\": 0}, {\"PC1\": 1.5022040235475296, \"PC2\": -0.06500973043828301, \"PC3\": -0.9976614365937359, \"PC4\": -0.5470701480319008, \"PC5\": 0.5122458979073566, \"PC6\": 2.1184008071118243, \"PC7\": -1.2034597169314543, \"PC8\": 1.0195027172265818, \"PC9\": 0.2503940571524217, \"PC10\": 0.10548031667278815, \"PC11\": -0.1678184151564235, \"PC12\": 0.4844035576003398, \"PC13\": 0.18332732151796932, \"target\": 0}, {\"PC1\": -0.02305740520667355, \"PC2\": -0.01749439742097559, \"PC3\": -0.9573710533395021, \"PC4\": -0.32587294933029964, \"PC5\": -0.7169128574374541, \"PC6\": -0.20208189476277166, \"PC7\": 1.4023098474384037, \"PC8\": -0.17835355573558548, \"PC9\": 0.7608726748144544, \"PC10\": -0.6851926681995606, \"PC11\": 0.16110137694440646, \"PC12\": -0.39061702283989713, \"PC13\": 0.7954517473669527, \"target\": 0}, {\"PC1\": -0.37135642096034854, \"PC2\": -0.30115617527484956, \"PC3\": 2.8410693286312845, \"PC4\": -0.8090417075816654, \"PC5\": -0.011388963279449675, \"PC6\": -0.0854945480934371, \"PC7\": -1.4155956221029775, \"PC8\": 0.6071343342300827, \"PC9\": 0.18631507539878675, \"PC10\": 0.9074229785297607, \"PC11\": 0.41445075983317164, \"PC12\": 0.884467126395181, \"PC13\": -0.06958092424579632, \"target\": 1}, {\"PC1\": -0.6488674600154545, \"PC2\": 0.38288234988753567, \"PC3\": 0.07679104884936046, \"PC4\": 1.493980962058133, \"PC5\": 1.137547707090458, \"PC6\": 0.7089834808707954, \"PC7\": -0.1058945087427844, \"PC8\": -1.1348264550165554, \"PC9\": -0.6200533047638066, \"PC10\": 0.9044988517359346, \"PC11\": -1.5710610864368997, \"PC12\": 0.07434318348092049, \"PC13\": 0.7119512879592012, \"target\": 1}, {\"PC1\": 1.1466718739961934, \"PC2\": 0.5195294948206284, \"PC3\": 1.7080199831740874, \"PC4\": 0.34384589816147354, \"PC5\": 0.18037225624209988, \"PC6\": -0.5197801605106941, \"PC7\": -1.5502145697289338, \"PC8\": -0.721648198152781, \"PC9\": 0.599833966820878, \"PC10\": -1.1438861248524441, \"PC11\": 0.4380449648459227, \"PC12\": -0.5283012844081387, \"PC13\": 0.7021600573177081, \"target\": 0}, {\"PC1\": -0.8569498604051161, \"PC2\": -0.873505514597613, \"PC3\": -0.6242798860844242, \"PC4\": -0.9846281450480456, \"PC5\": -0.02366641577903104, \"PC6\": 0.42601707343119466, \"PC7\": 0.595977528186336, \"PC8\": -1.547621067214537, \"PC9\": -0.657360836418542, \"PC10\": 0.22997416586024097, \"PC11\": -0.32883225843725644, \"PC12\": -0.10006819830791165, \"PC13\": 0.15035220011127132, \"target\": 0}, {\"PC1\": -1.4245208404418999, \"PC2\": -0.060044046845167245, \"PC3\": -1.3003958366273387, \"PC4\": 0.9123934410115846, \"PC5\": 0.09296772402248238, \"PC6\": -0.9706030811541423, \"PC7\": -0.03319238415868035, \"PC8\": -1.5616292699810148, \"PC9\": -0.3629987923728232, \"PC10\": 0.4075508872307848, \"PC11\": -0.11065028299457108, \"PC12\": 0.9666515495077412, \"PC13\": -0.5599453148110072, \"target\": 1}, {\"PC1\": -0.32856214507549325, \"PC2\": 1.5303854952015203, \"PC3\": 0.16818734653724518, \"PC4\": -1.2125978895655285, \"PC5\": 0.1759072295700375, \"PC6\": -0.5636981164563195, \"PC7\": -1.325090488789964, \"PC8\": -1.2490260305848961, \"PC9\": 0.4408343570258814, \"PC10\": -0.21831799592540957, \"PC11\": 0.13374464029009497, \"PC12\": 1.0435537187526225, \"PC13\": 0.5093977906624815, \"target\": 1}, {\"PC1\": 2.809988352722357, \"PC2\": 0.8708413375948142, \"PC3\": 0.6030120817795647, \"PC4\": -0.16642243598552126, \"PC5\": 0.44340597147853633, \"PC6\": -0.731341619302491, \"PC7\": -0.8770516721301058, \"PC8\": -1.069764957103949, \"PC9\": 0.7775181703473569, \"PC10\": 0.4557261962460404, \"PC11\": 0.03374976279979296, \"PC12\": -1.6274896739492266, \"PC13\": -0.019662869037376938, \"target\": 0}, {\"PC1\": 1.6560315213786216, \"PC2\": -0.2794487149313687, \"PC3\": 0.7722150979947235, \"PC4\": 0.22211954889379548, \"PC5\": 0.5791864853166687, \"PC6\": 2.1812394103233186, \"PC7\": -0.06938080388939358, \"PC8\": -1.2389142241390263, \"PC9\": -0.4489023561928377, \"PC10\": 1.663978202689888, \"PC11\": 0.04994180484630032, \"PC12\": -0.8997395612469543, \"PC13\": 0.43511052292853014, \"target\": 0}, {\"PC1\": 2.4679113327782582, \"PC2\": -1.7505936827630193, \"PC3\": -1.8138099212222494, \"PC4\": -1.6924163163258332, \"PC5\": 0.5783508904948504, \"PC6\": 0.06738075536322255, \"PC7\": -0.3774417494983925, \"PC8\": 0.5647042523318719, \"PC9\": -0.6350563570408329, \"PC10\": -0.619286941833373, \"PC11\": -1.0434321662126025, \"PC12\": -1.6942039483220988, \"PC13\": 0.08735074661461276, \"target\": 0}, {\"PC1\": -0.8066694906421423, \"PC2\": -1.2294754108753512, \"PC3\": 1.811671832681242, \"PC4\": -1.1797796734218104, \"PC5\": 0.1545852883653923, \"PC6\": 0.6448197985407396, \"PC7\": 0.4862702889729422, \"PC8\": 0.14773329785072012, \"PC9\": -0.6130879141010868, \"PC10\": -0.5143271494224344, \"PC11\": -0.33448684670987566, \"PC12\": 0.01681901362305838, \"PC13\": -0.09615616484531214, \"target\": 1}, {\"PC1\": -0.8600567724174799, \"PC2\": -1.0685155591698605, \"PC3\": 0.690074288996237, \"PC4\": 0.2304534121042182, \"PC5\": -0.2241159989724564, \"PC6\": 0.5969929134149751, \"PC7\": 0.7440781757710795, \"PC8\": 0.16377019200448517, \"PC9\": -0.8017774975448407, \"PC10\": -1.0585027670592557, \"PC11\": 0.0802398233993454, \"PC12\": 0.31320761399690117, \"PC13\": 1.1783847948939254, \"target\": 0}, {\"PC1\": 1.7627553627413868, \"PC2\": 2.336816206174202, \"PC3\": -0.4547525816223197, \"PC4\": 0.536806672181105, \"PC5\": 1.182607422875528, \"PC6\": -0.35927766471353667, \"PC7\": -0.44242716980676683, \"PC8\": -1.1814393897270505, \"PC9\": 0.3529808500929222, \"PC10\": -0.9661853490830494, \"PC11\": 0.37682400468530913, \"PC12\": -0.07554131930275562, \"PC13\": 0.34956710867616914, \"target\": 0}, {\"PC1\": -0.7265124441138024, \"PC2\": 0.6061635155081079, \"PC3\": 0.22935594148472738, \"PC4\": -0.7547159827864586, \"PC5\": 0.1599723205717063, \"PC6\": -1.1717552893586392, \"PC7\": 0.09282083291908545, \"PC8\": -0.4213945569115172, \"PC9\": 1.3567897706580743, \"PC10\": -0.006012306986669652, \"PC11\": -0.6525257392956142, \"PC12\": -0.2648679058688444, \"PC13\": -0.3514987894706368, \"target\": 0}, {\"PC1\": -1.1704421412921349, \"PC2\": -0.4803803949590773, \"PC3\": -3.230222901233419, \"PC4\": -0.3458275628348558, \"PC5\": 1.2093825009068806, \"PC6\": -0.9837974588595902, \"PC7\": -1.3210746619064369, \"PC8\": -0.5746431200187947, \"PC9\": 0.2972667043161343, \"PC10\": -1.3962542662546134, \"PC11\": -0.04004868610695877, \"PC12\": 0.48529627033334294, \"PC13\": -0.004349484217669857, \"target\": 1}, {\"PC1\": 0.6256071263857603, \"PC2\": 1.7557735111466286, \"PC3\": 0.813943142596448, \"PC4\": 1.6370001324568395, \"PC5\": 1.4038296802452663, \"PC6\": 1.4451242149455936, \"PC7\": -0.29884808505498583, \"PC8\": -0.24562294611878174, \"PC9\": 0.2680655028237888, \"PC10\": 1.3678489098809994, \"PC11\": -0.15013709209912565, \"PC12\": 0.7330311070345509, \"PC13\": 0.10537650076580819, \"target\": 1}, {\"PC1\": 2.1570645926095406, \"PC2\": 1.386067494296653, \"PC3\": 1.0207819270180498, \"PC4\": -0.5616316017446862, \"PC5\": -0.6492800965242426, \"PC6\": -0.9794226706355368, \"PC7\": -0.20575204246830217, \"PC8\": 1.4409690520331613, \"PC9\": 0.5419480716581496, \"PC10\": 1.1149641257432403, \"PC11\": -0.042617065597623224, \"PC12\": 0.7702565920884265, \"PC13\": -0.26937933073399917, \"target\": 0}, {\"PC1\": -0.15790734054096944, \"PC2\": 0.1363730811161653, \"PC3\": 1.3297027470813012, \"PC4\": 1.5508607841641229, \"PC5\": 1.0109785205543111, \"PC6\": -0.10280987838639434, \"PC7\": -0.2405639021323155, \"PC8\": -0.42677467310630574, \"PC9\": -0.08961285509734038, \"PC10\": -1.113722232789297, \"PC11\": -0.8493988261393908, \"PC12\": -0.22413830573356988, \"PC13\": 0.2729992265871986, \"target\": 1}, {\"PC1\": 2.2417597021299227, \"PC2\": -2.279010507574976, \"PC3\": -0.6388129972020683, \"PC4\": 0.9641917139448334, \"PC5\": 0.9492498847470486, \"PC6\": 1.9680422080081372, \"PC7\": -1.7678734651955434, \"PC8\": 0.11329512139478069, \"PC9\": -2.3613102469908713, \"PC10\": -0.03586742672160761, \"PC11\": 0.5004643804227609, \"PC12\": 0.548751466401948, \"PC13\": -0.5455729045562986, \"target\": 0}, {\"PC1\": -0.816632677425385, \"PC2\": 1.4883883656513277, \"PC3\": 0.3882330085632701, \"PC4\": -1.3865804952410432, \"PC5\": 1.0347296090432636, \"PC6\": -0.9259481168057407, \"PC7\": 0.6349612377280072, \"PC8\": 0.4401247058937793, \"PC9\": 0.7778565589002708, \"PC10\": -0.4881849640279368, \"PC11\": -0.8281263552912508, \"PC12\": 0.5380476810449096, \"PC13\": 0.10552350278623387, \"target\": 0}, {\"PC1\": 1.6091627895546103, \"PC2\": 0.400770852572138, \"PC3\": 0.6139576376417292, \"PC4\": -1.432449248697781, \"PC5\": -0.4902751499184666, \"PC6\": 0.5644839930600256, \"PC7\": -0.6157159385097057, \"PC8\": -1.851661671030582, \"PC9\": 1.0030734647419741, \"PC10\": -0.05792243643377539, \"PC11\": 0.17226345823397254, \"PC12\": -0.663157863466517, \"PC13\": -0.8142794799611293, \"target\": 0}, {\"PC1\": 2.1692774167528897, \"PC2\": 0.5314474138117655, \"PC3\": 0.567999614061759, \"PC4\": 2.1596561996926504, \"PC5\": 1.5478231655665247, \"PC6\": -1.5394089581103658, \"PC7\": 1.0433696849875838, \"PC8\": 2.619292303533713, \"PC9\": -1.7599044349251454, \"PC10\": 2.9028868402101664, \"PC11\": -1.3820535230421556, \"PC12\": 0.3832210410712305, \"PC13\": 0.10208023876590804, \"target\": 0}, {\"PC1\": -1.139049992035189, \"PC2\": -3.315050332262968, \"PC3\": -0.9219171538773846, \"PC4\": 0.20304310852760257, \"PC5\": -0.42791754541882576, \"PC6\": 0.6002262834626646, \"PC7\": -0.944035093852082, \"PC8\": 0.5140634836674975, \"PC9\": 0.6754472378580831, \"PC10\": -0.5058304721386306, \"PC11\": 0.6341771475805109, \"PC12\": 0.12670398127707494, \"PC13\": -1.0287497411266002, \"target\": 1}, {\"PC1\": 1.8643112141063867, \"PC2\": 0.7878640650006918, \"PC3\": -0.22132607827235287, \"PC4\": 0.5288270275870316, \"PC5\": 0.5484965008282549, \"PC6\": -1.269853360827852, \"PC7\": 0.27678959835088296, \"PC8\": -0.8182314166827782, \"PC9\": 0.21021651157652999, \"PC10\": -0.4304533688180627, \"PC11\": -1.1898043405298953, \"PC12\": -1.1013029240168415, \"PC13\": -0.5042638193041804, \"target\": 0}, {\"PC1\": -1.3623054928128384, \"PC2\": -1.5123440514637403, \"PC3\": -2.1446695930647612, \"PC4\": -0.4658693654614842, \"PC5\": 0.34803491067189096, \"PC6\": 1.2851658297705455, \"PC7\": -0.6557954768368925, \"PC8\": -0.2359813964038613, \"PC9\": 0.900531998227774, \"PC10\": -0.33596362124851076, \"PC11\": -0.363775160636303, \"PC12\": 0.3867159615821648, \"PC13\": -0.333318896060204, \"target\": 1}, {\"PC1\": 2.9561365035363463, \"PC2\": 0.9574985511158624, \"PC3\": -0.037124413703532776, \"PC4\": -0.7597753843622085, \"PC5\": -0.4783469535752214, \"PC6\": 0.13630252403145302, \"PC7\": 0.6936639050440443, \"PC8\": 0.23569381274462764, \"PC9\": -0.3399261526890336, \"PC10\": -0.037769794649833696, \"PC11\": 0.5269937871720987, \"PC12\": 0.35061650919442106, \"PC13\": -0.38646011283634457, \"target\": 0}, {\"PC1\": 2.8184310062998548, \"PC2\": 1.1287202454158576, \"PC3\": -0.4866001553288542, \"PC4\": -1.0289460679372249, \"PC5\": 0.3728736102422962, \"PC6\": 0.1570470305567342, \"PC7\": 0.9829975123017094, \"PC8\": 0.054145505337673955, \"PC9\": -0.7987807507682632, \"PC10\": -0.4901776898423245, \"PC11\": 0.9172246031142027, \"PC12\": 0.15170741679641878, \"PC13\": 0.21079803842310327, \"target\": 0}, {\"PC1\": 0.28737058791636555, \"PC2\": -0.2501228423049053, \"PC3\": -1.518503153520253, \"PC4\": -0.812471285645446, \"PC5\": -0.7978897192178769, \"PC6\": -1.0621507756330641, \"PC7\": 1.7675820980023882, \"PC8\": 0.058369932607466715, \"PC9\": -0.6602569631332581, \"PC10\": -0.29297946457130347, \"PC11\": 0.6369922030893844, \"PC12\": 1.1383109255258719, \"PC13\": -1.2408138199219791, \"target\": 0}, {\"PC1\": -2.052896347259232, \"PC2\": -1.443043754804893, \"PC3\": 1.773610077815372, \"PC4\": -0.1556183660113197, \"PC5\": -0.13156184663085232, \"PC6\": -0.898194150605955, \"PC7\": -0.09857642270643806, \"PC8\": 0.7675138244747812, \"PC9\": 0.7183786354580814, \"PC10\": 0.6213823287367208, \"PC11\": 0.26389139201344974, \"PC12\": 0.3594557431562641, \"PC13\": 0.09046910438242364, \"target\": 1}, {\"PC1\": 0.8951624729344942, \"PC2\": 0.5292134084795047, \"PC3\": -0.9645518999190658, \"PC4\": -0.9604339025388611, \"PC5\": 1.6772545446256977, \"PC6\": -1.753080032565497, \"PC7\": 1.5462205818207964, \"PC8\": 0.6990040496839925, \"PC9\": -0.7621383658571297, \"PC10\": -0.33497896755022727, \"PC11\": 0.2972606364988475, \"PC12\": -0.753527537238946, \"PC13\": 1.3250768914769797, \"target\": 1}, {\"PC1\": 0.29709938794248825, \"PC2\": 1.0844328831052477, \"PC3\": -0.19003139200540373, \"PC4\": -0.33076834996974597, \"PC5\": -1.1038027737963274, \"PC6\": 0.6169872381821151, \"PC7\": 0.5653774772884114, \"PC8\": 0.21771779858080414, \"PC9\": 1.7908771458208907, \"PC10\": -0.26200239741584164, \"PC11\": 1.220892765148254, \"PC12\": 0.7887321768552964, \"PC13\": 0.9008746265700653, \"target\": 1}, {\"PC1\": -0.31596904348639526, \"PC2\": -2.836723628866301, \"PC3\": 0.02250936345312453, \"PC4\": -1.4563518653830108, \"PC5\": 1.0270218031331175, \"PC6\": 0.889167122594355, \"PC7\": -0.5220098635238427, \"PC8\": 1.4361401021739797, \"PC9\": -0.20690980364855438, \"PC10\": -0.5779054080956002, \"PC11\": 0.06483369604265106, \"PC12\": -0.45199494023069964, \"PC13\": -0.3645320725200083, \"target\": 0}, {\"PC1\": 0.33283484989452167, \"PC2\": 0.37467022167261776, \"PC3\": -1.0565478824454304, \"PC4\": 0.11491788689884627, \"PC5\": -1.1833263342706322, \"PC6\": -0.44175155345796185, \"PC7\": 1.8680654437365343, \"PC8\": 0.7864433668090214, \"PC9\": 0.4585834219052699, \"PC10\": -0.5208247996873565, \"PC11\": 0.15316358877475628, \"PC12\": 0.9196096639127939, \"PC13\": -0.10870091590674577, \"target\": 0}, {\"PC1\": 0.012648577139173379, \"PC2\": -0.1681052184068259, \"PC3\": 0.10792684389161887, \"PC4\": 0.2886567583801619, \"PC5\": -1.106309884161322, \"PC6\": 0.6946769387583468, \"PC7\": 1.1690742629367328, \"PC8\": 0.3984428578597901, \"PC9\": 0.3514258724958414, \"PC10\": 0.6289037237338685, \"PC11\": -0.9122282820758189, \"PC12\": 0.6267776924957787, \"PC13\": 0.009713567306236305, \"target\": 0}, {\"PC1\": -0.20276644514509898, \"PC2\": -0.17073968241226126, \"PC3\": 0.1733578211300319, \"PC4\": -2.769403916259667, \"PC5\": -0.1559910000843358, \"PC6\": -0.2886876231655453, \"PC7\": 1.1073087806635424, \"PC8\": 0.20675267999831307, \"PC9\": -0.2987574015393754, \"PC10\": -0.2235059919538047, \"PC11\": -0.6059149226335524, \"PC12\": 0.1663283474043551, \"PC13\": 0.39677942271589933, \"target\": 0}, {\"PC1\": 0.19467767203981085, \"PC2\": 0.15583950315715286, \"PC3\": 1.9352457990669405, \"PC4\": 0.8518793634638563, \"PC5\": 0.3087862213763597, \"PC6\": 1.3605205987218638, \"PC7\": 1.1158666703851952, \"PC8\": 0.7800083949379089, \"PC9\": 0.6553558788731627, \"PC10\": -1.2361516816640319, \"PC11\": -0.6572971583696716, \"PC12\": -0.07889804144082734, \"PC13\": -0.24735195430804946, \"target\": 1}, {\"PC1\": -1.1962362543484817, \"PC2\": -0.517978486479462, \"PC3\": 0.29182291347634703, \"PC4\": -1.3717235612912093, \"PC5\": -0.5477705946173375, \"PC6\": 0.7536332345403853, \"PC7\": 0.2926210934957927, \"PC8\": -0.9688068477767459, \"PC9\": -0.29560234955965664, \"PC10\": 0.36427512979167737, \"PC11\": -1.2763145835389729, \"PC12\": 0.835447234281797, \"PC13\": 0.25650144348939097, \"target\": 1}, {\"PC1\": 0.7913703815957749, \"PC2\": -0.8827971663212142, \"PC3\": 1.4811188780805171, \"PC4\": 0.7494446530952211, \"PC5\": 0.13684767980270782, \"PC6\": -0.15675755969812366, \"PC7\": -2.1726435851116976, \"PC8\": -1.8419191400064958, \"PC9\": -0.7231934591297712, \"PC10\": -0.05598616161387475, \"PC11\": 0.1685346872421896, \"PC12\": -0.34567093779036917, \"PC13\": 1.137552186902254, \"target\": 0}, {\"PC1\": 2.2143324897880183, \"PC2\": -1.576537692311301, \"PC3\": -1.8093720441251198, \"PC4\": 1.9770240384914195, \"PC5\": -3.17681333714862, \"PC6\": -1.2621417462204596, \"PC7\": 0.8223997132430308, \"PC8\": -0.8244064554580448, \"PC9\": 0.05202225100616229, \"PC10\": 0.30011008494126096, \"PC11\": -0.17041202998501295, \"PC12\": -0.33835207483125374, \"PC13\": -0.2950479102371101, \"target\": 1}, {\"PC1\": -1.2438682743280698, \"PC2\": -0.47095639382981225, \"PC3\": -1.3565103823903897, \"PC4\": 0.15652356895965644, \"PC5\": 1.1470690529538303, \"PC6\": -1.2713697787954361, \"PC7\": 1.13168175228363, \"PC8\": -0.4691979373537914, \"PC9\": -0.10625568910608048, \"PC10\": 0.8186721895411965, \"PC11\": 1.0268829375547812, \"PC12\": 0.2609493603280935, \"PC13\": 0.026830632590660323, \"target\": 0}, {\"PC1\": -0.14925208526661618, \"PC2\": -1.8097570688503133, \"PC3\": -1.1704968029315543, \"PC4\": -0.19582322134944827, \"PC5\": -2.1342175066382727, \"PC6\": -0.8078810497672282, \"PC7\": 0.4161428560619338, \"PC8\": -1.4242535776072918, \"PC9\": 0.8903495939626943, \"PC10\": 0.16509965024337522, \"PC11\": 0.1280863029136991, \"PC12\": -0.8703147514736244, \"PC13\": 0.959124153606506, \"target\": 0}, {\"PC1\": -0.7219849830669569, \"PC2\": -1.7540558137097855, \"PC3\": -0.5934541532116727, \"PC4\": -0.05937912248239319, \"PC5\": -0.465822357104983, \"PC6\": 0.262524283017759, \"PC7\": 0.7526736964219904, \"PC8\": -1.920425678673346, \"PC9\": 1.220703448957121, \"PC10\": 0.8750097462776815, \"PC11\": 0.45026510388159907, \"PC12\": -1.297567005353873, \"PC13\": -0.48940171213287714, \"target\": 0}, {\"PC1\": 0.18069033751090915, \"PC2\": -0.9725562114103785, \"PC3\": -1.8364103601734127, \"PC4\": 1.9628397408223053, \"PC5\": 1.7698738748882163, \"PC6\": 0.7296418039898551, \"PC7\": -0.265515394018471, \"PC8\": 1.2458953723337962, \"PC9\": 0.39016064385633303, \"PC10\": 1.1679426396669965, \"PC11\": -0.5646404415328051, \"PC12\": 0.2040758262729746, \"PC13\": -0.6082305842762341, \"target\": 0}, {\"PC1\": -0.7003501635056804, \"PC2\": 0.5387106510553005, \"PC3\": 0.09187340130438904, \"PC4\": -0.3514146941464269, \"PC5\": 0.5123323274297946, \"PC6\": -0.036415719923001924, \"PC7\": -1.1240854650656698, \"PC8\": -1.5129323806295298, \"PC9\": 0.34721821332663977, \"PC10\": 0.9671791902005653, \"PC11\": 0.5551063333347254, \"PC12\": 0.9144475099369029, \"PC13\": 0.4817815868175168, \"target\": 1}, {\"PC1\": 0.13367268259262308, \"PC2\": 1.3801366570342275, \"PC3\": -0.2789279910973874, \"PC4\": -1.2807163672762019, \"PC5\": 0.8545300516812913, \"PC6\": -0.7599067067287507, \"PC7\": -1.0418683309602113, \"PC8\": -1.5781096082718904, \"PC9\": -0.10316773705757755, \"PC10\": -0.44989232651789746, \"PC11\": 0.4357523493428957, \"PC12\": 0.8500202912114445, \"PC13\": 0.6329873208672608, \"target\": 0}, {\"PC1\": 1.6184828609734858, \"PC2\": 1.4742704045953778, \"PC3\": 0.29329394710122775, \"PC4\": -0.9345740148267342, \"PC5\": -0.33433161139092793, \"PC6\": 0.7261189608663533, \"PC7\": 0.5202602928645952, \"PC8\": 0.19711561011869597, \"PC9\": 0.6459437454049765, \"PC10\": -0.49592617192829924, \"PC11\": 0.3354524240094971, \"PC12\": 0.6814032519861702, \"PC13\": 0.5832498821865175, \"target\": 0}, {\"PC1\": -0.010948458111347587, \"PC2\": 0.7395335493427961, \"PC3\": -0.021737166959016264, \"PC4\": -0.14568731255606268, \"PC5\": -0.29227698148435954, \"PC6\": -1.1014548312377717, \"PC7\": -0.23000029579132114, \"PC8\": -0.5099319112742081, \"PC9\": 0.38680141084342035, \"PC10\": -0.4274016657083186, \"PC11\": -1.5492220526502705, \"PC12\": 0.25802568303969603, \"PC13\": 0.9186111633688182, \"target\": 1}, {\"PC1\": 1.8955540889138986, \"PC2\": -1.4678666711037711, \"PC3\": -1.847883948736356, \"PC4\": 0.9201226664329797, \"PC5\": 2.496137719807405, \"PC6\": 2.3012263167252325, \"PC7\": -0.20068405730723038, \"PC8\": -0.8524352437240098, \"PC9\": -0.7685470535042569, \"PC10\": -0.051989137301160976, \"PC11\": -1.218032498071825, \"PC12\": -1.6819371571178214, \"PC13\": -0.532686242696224, \"target\": 0}, {\"PC1\": -0.7386948697878142, \"PC2\": -1.294336196941941, \"PC3\": -2.1698897199045635, \"PC4\": 0.5597863405317111, \"PC5\": 0.7853502902861212, \"PC6\": -0.296082379933168, \"PC7\": -1.3868095289069429, \"PC8\": -0.19229242046986741, \"PC9\": 0.625862485956413, \"PC10\": 0.36980552740212635, \"PC11\": -0.6096655895812785, \"PC12\": 0.5481644217682282, \"PC13\": -1.1192166138894517, \"target\": 1}, {\"PC1\": 3.628597045272035, \"PC2\": -0.36332410262208026, \"PC3\": 0.1446684803272466, \"PC4\": 0.3265400625248355, \"PC5\": -2.792125957962457, \"PC6\": -0.09463235554089852, \"PC7\": -0.7210812787146234, \"PC8\": -0.6932000995242013, \"PC9\": -0.27719004889272725, \"PC10\": 0.6648938341719778, \"PC11\": -0.6584782443523689, \"PC12\": 0.0053653089882475125, \"PC13\": 0.3412079388305832, \"target\": 0}, {\"PC1\": -1.8177835912310225, \"PC2\": -1.8235063743688031, \"PC3\": 0.23173461660689212, \"PC4\": 1.0830215729085375, \"PC5\": -0.1064117807534218, \"PC6\": -1.3460607032907206, \"PC7\": -0.2229156601048286, \"PC8\": -0.8404746881204985, \"PC9\": 0.08003184006675257, \"PC10\": 0.02794749122030096, \"PC11\": 0.899780946490778, \"PC12\": 0.5359363797967858, \"PC13\": -0.30539208742820906, \"target\": 1}, {\"PC1\": 1.0649503712046504, \"PC2\": 0.6226496799597531, \"PC3\": -1.236975178394155, \"PC4\": -1.7684447316376437, \"PC5\": 1.616246790919526, \"PC6\": -0.31686902244683146, \"PC7\": -1.5911533479914786, \"PC8\": 1.2477172543502584, \"PC9\": 0.32890871847649444, \"PC10\": -0.30428301004065533, \"PC11\": 0.2684704195504848, \"PC12\": 1.3469883217504497, \"PC13\": -0.35554354133118754, \"target\": 0}, {\"PC1\": 1.0781696428604224, \"PC2\": -0.45027568091739334, \"PC3\": -0.26299670813823683, \"PC4\": -1.5579387606926085, \"PC5\": -0.8525912662516758, \"PC6\": -0.5232006337645196, \"PC7\": 1.089020773851493, \"PC8\": 0.20684666714894193, \"PC9\": -0.8080638887253652, \"PC10\": -0.20986295566070384, \"PC11\": -0.9658597620908035, \"PC12\": 0.19958150235055275, \"PC13\": 0.853748423789568, \"target\": 0}, {\"PC1\": -1.7363424713300406, \"PC2\": -0.9785354171500634, \"PC3\": 1.7337726231995296, \"PC4\": -0.26207902091080276, \"PC5\": 0.8617746726714652, \"PC6\": -0.8123638149402561, \"PC7\": 0.6977760287168147, \"PC8\": 1.3423922413549563, \"PC9\": 0.8161090700141856, \"PC10\": 0.3520695250496946, \"PC11\": 0.6528255086339664, \"PC12\": 0.3619242163482073, \"PC13\": 0.09992064125474369, \"target\": 1}, {\"PC1\": 1.070351639002045, \"PC2\": 1.174641417630131, \"PC3\": 0.43816060638002435, \"PC4\": -1.2612559800892653, \"PC5\": 0.47759292337784154, \"PC6\": -0.9355669585185689, \"PC7\": -0.6833773884405396, \"PC8\": -0.6007590649182725, \"PC9\": 0.3756146681004531, \"PC10\": 0.3449606425849115, \"PC11\": 0.304151009371664, \"PC12\": 0.7206526849921298, \"PC13\": -0.36095600567705277, \"target\": 0}, {\"PC1\": 1.652178089499755, \"PC2\": -1.158632096154369, \"PC3\": 0.49403323350785233, \"PC4\": -0.2652182786521622, \"PC5\": -0.753423733453736, \"PC6\": -0.8096469119618536, \"PC7\": 0.7770698673066395, \"PC8\": 0.1439658077592318, \"PC9\": -1.6105382359587523, \"PC10\": -1.5382039949110144, \"PC11\": -0.310599581464555, \"PC12\": 0.265295382148216, \"PC13\": -0.18300177302146428, \"target\": 0}, {\"PC1\": -0.7597394930302263, \"PC2\": -1.025259269461594, \"PC3\": -0.3111407260624853, \"PC4\": 1.3339678502091337, \"PC5\": 2.6691278328604997, \"PC6\": 0.505412109916308, \"PC7\": -0.9940014503477375, \"PC8\": 0.28424103917414784, \"PC9\": 2.0541689390374303, \"PC10\": -1.467158372272776, \"PC11\": 0.28217802434807027, \"PC12\": -0.8984043812147638, \"PC13\": -1.2562274678814502, \"target\": 1}, {\"PC1\": 2.965217594457112, \"PC2\": 0.23056300085490866, \"PC3\": -0.09703045899471341, \"PC4\": -1.0479515987975352, \"PC5\": -0.8619418593512438, \"PC6\": -0.146931700693197, \"PC7\": 0.3252742376097901, \"PC8\": -0.19260563652366663, \"PC9\": -0.6830201779374049, \"PC10\": 0.24503333226662835, \"PC11\": 0.37090612610981627, \"PC12\": 0.39938401177705596, \"PC13\": -0.05789787685762325, \"target\": 0}, {\"PC1\": 2.672589786511548, \"PC2\": 1.1573534668953431, \"PC3\": -0.414098800238509, \"PC4\": -0.5950138365870827, \"PC5\": -0.0028281664138420587, \"PC6\": 0.27222849393225, \"PC7\": 0.6882216561202349, \"PC8\": -0.3586187830755682, \"PC9\": -0.3656825878706839, \"PC10\": -0.5954259458623966, \"PC11\": 0.6052278579414079, \"PC12\": 0.5070748937863293, \"PC13\": 0.009389554331375307, \"target\": 0}, {\"PC1\": 2.451244162050849, \"PC2\": 0.9957749761442524, \"PC3\": 0.13339289223268364, \"PC4\": -0.5851428437489454, \"PC5\": -0.9108965711102162, \"PC6\": 0.2902995357254553, \"PC7\": 0.4020040121165812, \"PC8\": 0.05407343649040126, \"PC9\": 0.13792663659097665, \"PC10\": -0.10228000347358046, \"PC11\": 0.20541832931358056, \"PC12\": 0.896565171523991, \"PC13\": -0.24434568165216283, \"target\": 0}, {\"PC1\": 0.3264483980720127, \"PC2\": -0.2782047703925281, \"PC3\": -1.3105183108995084, \"PC4\": 1.6244078420798636, \"PC5\": -0.9881966770284093, \"PC6\": 0.3244258584599804, \"PC7\": 1.2807986641839955, \"PC8\": -0.8376564112425766, \"PC9\": -0.0792060462289104, \"PC10\": 0.027626073087019854, \"PC11\": -0.24007461376760955, \"PC12\": 0.9291682372911387, \"PC13\": -0.6122420811978689, \"target\": 0}, {\"PC1\": 0.4720639269116654, \"PC2\": -0.5542066524955563, \"PC3\": -1.2730022511637118, \"PC4\": 1.4008006223855611, \"PC5\": 0.4792780779229827, \"PC6\": -1.4304117465627149, \"PC7\": 1.4926292345346381, \"PC8\": 0.3063543990125449, \"PC9\": -0.06588676376675155, \"PC10\": 1.1612036435693416, \"PC11\": 0.6588840497541345, \"PC12\": 0.13480228893262025, \"PC13\": -0.07847494375237227, \"target\": 0}, {\"PC1\": 2.502447610315707, \"PC2\": 1.5222271266407235, \"PC3\": 0.31840034019394825, \"PC4\": 0.13295560597761769, \"PC5\": -0.24461275355088438, \"PC6\": -1.0588838341235873, \"PC7\": -0.15385953572094002, \"PC8\": 0.5261598464737339, \"PC9\": 0.21374588715733656, \"PC10\": 0.48434382500329515, \"PC11\": 0.012932420524054059, \"PC12\": 1.2272749398196365, \"PC13\": -0.5265354795082193, \"target\": 0}, {\"PC1\": 1.639291449736985, \"PC2\": 0.8258684841903235, \"PC3\": -0.20639594756170768, \"PC4\": -1.2631436719744407, \"PC5\": -0.08456983642424913, \"PC6\": 0.2694132920207487, \"PC7\": 0.02642273836493857, \"PC8\": -1.4456155120401415, \"PC9\": 0.004307719253151736, \"PC10\": -0.5304947727747333, \"PC11\": 0.532757286457031, \"PC12\": 0.7891198255893802, \"PC13\": -0.812769571184831, \"target\": 0}, {\"PC1\": -0.4060598530817194, \"PC2\": 0.3495945683154264, \"PC3\": -0.4088841541493153, \"PC4\": -1.19413340936247, \"PC5\": 0.7632700528929057, \"PC6\": -1.409410044943697, \"PC7\": -0.20563113964624824, \"PC8\": -1.4870927887665824, \"PC9\": -0.2107564461312024, \"PC10\": -0.5971629171174507, \"PC11\": -0.9910034855054404, \"PC12\": 0.2240199397938015, \"PC13\": 0.34759198650979, \"target\": 0}, {\"PC1\": 0.9355595750181405, \"PC2\": -0.92160975305765, \"PC3\": -1.5598715148799271, \"PC4\": 0.9006840445434905, \"PC5\": 0.5989687886101575, \"PC6\": 0.4027452527458708, \"PC7\": -2.2065104370126276, \"PC8\": -0.06665359094881536, \"PC9\": 1.3264128991145578, \"PC10\": 0.9109650309767302, \"PC11\": 0.3692241423766874, \"PC12\": 0.142640330951506, \"PC13\": 0.32334813234236537, \"target\": 1}, {\"PC1\": 1.6015122506444, \"PC2\": -0.7127050246075564, \"PC3\": 1.8062661370815825, \"PC4\": -0.5636836728198404, \"PC5\": -1.394044207477242, \"PC6\": 0.2698674462439777, \"PC7\": -0.8776050319205477, \"PC8\": -0.44563252539394704, \"PC9\": 0.25497763437383353, \"PC10\": -0.9056235231067948, \"PC11\": 0.3576421690566796, \"PC12\": 0.25805650035302, \"PC13\": 0.5311876271960867, \"target\": 0}, {\"PC1\": -1.0356036685989718, \"PC2\": -1.5907387736153813, \"PC3\": 2.1532899303482615, \"PC4\": -1.124723590736126, \"PC5\": -0.4662285286915651, \"PC6\": 0.6385448902715097, \"PC7\": 0.14615709993066744, \"PC8\": -0.03338013733854218, \"PC9\": -0.09241349119139522, \"PC10\": -0.276287387096494, \"PC11\": -0.7654977124939922, \"PC12\": 0.5425418720913446, \"PC13\": -0.03211039853895548, \"target\": 0}, {\"PC1\": 2.631581093333983, \"PC2\": 1.0359118481719314, \"PC3\": -0.4935856272951155, \"PC4\": 1.0306460428083402, \"PC5\": 0.14866727633842688, \"PC6\": 1.1288440994360078, \"PC7\": 0.5064741131750401, \"PC8\": -1.102800857204572, \"PC9\": -0.7200343100340689, \"PC10\": -0.007677172999324833, \"PC11\": 0.2767543530961201, \"PC12\": 1.0196450324228592, \"PC13\": -0.8675034640602501, \"target\": 0}, {\"PC1\": 4.0201113959403045, \"PC2\": -0.6467385962611655, \"PC3\": -0.9019355938946183, \"PC4\": 1.9600346161062983, \"PC5\": -0.7950253132591075, \"PC6\": -1.2891525322276864, \"PC7\": 1.5499770752419033, \"PC8\": 0.271523422518461, \"PC9\": -3.059222244442734, \"PC10\": -2.1271265044088823, \"PC11\": -0.19444124918963598, \"PC12\": 0.9511773320918441, \"PC13\": -0.9909873158746454, \"target\": 0}, {\"PC1\": 1.0474668614937142, \"PC2\": 0.007428576723037611, \"PC3\": -1.2083282388157657, \"PC4\": -0.05739298884003579, \"PC5\": 0.7752553694785916, \"PC6\": -2.1085268472611634, \"PC7\": 1.5452331723234585, \"PC8\": 0.5293754057519274, \"PC9\": -0.16001070196412343, \"PC10\": 0.0454630989179702, \"PC11\": 0.45866955512448043, \"PC12\": -0.11102464825368798, \"PC13\": 0.5479789054627054, \"target\": 1}, {\"PC1\": 2.200591599610815, \"PC2\": -1.2832771250687978, \"PC3\": 0.678591580570418, \"PC4\": 1.3493466438902693, \"PC5\": -0.7568088606741439, \"PC6\": 0.018316583892133306, \"PC7\": 1.2707221137007387, \"PC8\": 1.0521485841126896, \"PC9\": -2.058673573309481, \"PC10\": -0.609419644970188, \"PC11\": -0.6891479881573124, \"PC12\": 0.7740394753058434, \"PC13\": 0.3785442180305699, \"target\": 0}, {\"PC1\": 2.220804782487989, \"PC2\": -1.9518750393431934, \"PC3\": 0.19772565669707667, \"PC4\": 0.3187555566042055, \"PC5\": 2.46873115790974, \"PC6\": -0.32940203157972786, \"PC7\": -0.5932272160687018, \"PC8\": 1.9226421005393464, \"PC9\": -0.5789319389434987, \"PC10\": -0.39735672496506735, \"PC11\": -0.6539728199248797, \"PC12\": -1.0880491063007314, \"PC13\": -0.5854598807176179, \"target\": 0}, {\"PC1\": 0.5195600810437201, \"PC2\": -2.1630423644990224, \"PC3\": 2.4004787757447272, \"PC4\": -0.3000586506375753, \"PC5\": -1.4266340203788033, \"PC6\": 0.3839262728815325, \"PC7\": 0.17934623294045474, \"PC8\": 0.6076051375523815, \"PC9\": -0.15322258553866716, \"PC10\": 0.38338031101161557, \"PC11\": -1.2253783574188852, \"PC12\": 0.04412386583457903, \"PC13\": 0.23649210042277888, \"target\": 1}, {\"PC1\": 1.0647362760826253, \"PC2\": -0.705765553276853, \"PC3\": 0.992322808144886, \"PC4\": 1.147241178459018, \"PC5\": 0.6558524821115143, \"PC6\": -1.5874105723268892, \"PC7\": 0.6630559592334009, \"PC8\": 0.22226887025528755, \"PC9\": 1.3774770033356085, \"PC10\": -0.9924699182205349, \"PC11\": 0.5057403943089163, \"PC12\": -1.396121489150292, \"PC13\": -0.2542272574817107, \"target\": 0}, {\"PC1\": -1.4724571114341543, \"PC2\": -0.19183444676058714, \"PC3\": 1.4912826145621985, \"PC4\": 0.22344519160388576, \"PC5\": 1.215235760410541, \"PC6\": -0.3076079631220203, \"PC7\": -0.32916679574098656, \"PC8\": -0.5765550143133268, \"PC9\": -0.12001564011856579, \"PC10\": -0.9543940289295076, \"PC11\": -0.6778977143088711, \"PC12\": 0.9565364368465006, \"PC13\": 0.05717418092653791, \"target\": 1}, {\"PC1\": 0.9383651955152149, \"PC2\": -0.35567831502993263, \"PC3\": 1.54286113168136, \"PC4\": 1.0503325635217806, \"PC5\": 0.0691299569434077, \"PC6\": -0.20671518443148088, \"PC7\": -1.5501992542035476, \"PC8\": -0.8474234669772827, \"PC9\": -0.5934939218381636, \"PC10\": -0.05805618394227314, \"PC11\": 0.18641217717507755, \"PC12\": 0.9126695067772591, \"PC13\": 0.5809075448373263, \"target\": 0}, {\"PC1\": -0.6346879831069742, \"PC2\": -0.9964225817401883, \"PC3\": -1.4676277985683568, \"PC4\": -0.548687616569774, \"PC5\": 1.142842611420374, \"PC6\": 1.6776149910011897, \"PC7\": -0.4242840423740254, \"PC8\": -0.16872744933025755, \"PC9\": 1.3646068720244782, \"PC10\": -0.6142653239898855, \"PC11\": -0.9167537649700963, \"PC12\": 0.2451893848372152, \"PC13\": -0.6188667717437146, \"target\": 1}, {\"PC1\": 2.9157651633978627, \"PC2\": 1.394388278553106, \"PC3\": 0.6592277711314741, \"PC4\": -0.413636304251572, \"PC5\": 1.1411550367600238, \"PC6\": -0.7845494495103065, \"PC7\": 0.20146838294958394, \"PC8\": 0.24607587346505078, \"PC9\": 0.8303283782884812, \"PC10\": 0.35587781208677977, \"PC11\": 0.35531474827933085, \"PC12\": -0.501172688775382, \"PC13\": 0.03210224356770585, \"target\": 0}, {\"PC1\": 1.668709590427427, \"PC2\": 0.0860889849705882, \"PC3\": 0.17401494572950704, \"PC4\": -0.31218174702342305, \"PC5\": -0.17656055848486055, \"PC6\": -0.006428951637125678, \"PC7\": 1.7250553470600782, \"PC8\": 0.14764734342651628, \"PC9\": 1.506764974560434, \"PC10\": -0.3562353632245293, \"PC11\": -0.519625458328575, \"PC12\": -1.0179171194501626, \"PC13\": -0.30823925072349634, \"target\": 0}, {\"PC1\": 0.41431427468958804, \"PC2\": 0.5794822957701855, \"PC3\": 1.74335308976674, \"PC4\": 1.0772534811424086, \"PC5\": 1.230210296869408, \"PC6\": 0.44139783650282655, \"PC7\": -1.043055322142888, \"PC8\": -0.6757801219124525, \"PC9\": 0.4037534596769528, \"PC10\": -0.7746520611602312, \"PC11\": 0.4090272483813232, \"PC12\": 0.6333021162206899, \"PC13\": 1.070822172750819, \"target\": 0}, {\"PC1\": 0.9954783189073638, \"PC2\": 0.2570268488858758, \"PC3\": 1.7377518700106769, \"PC4\": 0.17715370268883834, \"PC5\": 0.9540238999462403, \"PC6\": -0.3357898893155543, \"PC7\": -0.11737271954989807, \"PC8\": 1.4007779052715683, \"PC9\": -0.913169998990613, \"PC10\": 0.13561659182448185, \"PC11\": 0.8268796193890006, \"PC12\": 1.7359007813089666, \"PC13\": 0.850857149903151, \"target\": 0}, {\"PC1\": 2.5818552150955383, \"PC2\": 0.8591859993497001, \"PC3\": -0.7645086364742522, \"PC4\": -0.9134394188623668, \"PC5\": -0.0054537812224276895, \"PC6\": -0.2366545089770889, \"PC7\": 0.6034174300723465, \"PC8\": -1.007016820534077, \"PC9\": -0.9682883776700288, \"PC10\": -0.4810950594088629, \"PC11\": 0.7983545340932242, \"PC12\": 1.61528767335088, \"PC13\": -1.6470307208346875, \"target\": 0}, {\"PC1\": 0.6241107293582799, \"PC2\": -2.321270276250732, \"PC3\": -2.4746725475518483, \"PC4\": 2.6762394917686265, \"PC5\": -0.37525328274172587, \"PC6\": 1.713566613967499, \"PC7\": 0.12035163022978566, \"PC8\": 0.7365567530982947, \"PC9\": 0.6389400963349027, \"PC10\": 0.932650876891873, \"PC11\": -0.5581146082915208, \"PC12\": 0.4040748465694174, \"PC13\": 0.4202209695275821, \"target\": 1}, {\"PC1\": 2.698046555401374, \"PC2\": -0.941076513688957, \"PC3\": -0.7630574304870362, \"PC4\": -2.912258650612788, \"PC5\": 0.9456099253899845, \"PC6\": 0.48625896556732096, \"PC7\": -0.609628451408979, \"PC8\": 1.393385874269469, \"PC9\": 0.31784058008067906, \"PC10\": 0.22130789606426834, \"PC11\": 0.47114712940369297, \"PC12\": 0.21522843489651128, \"PC13\": -0.8834323547155795, \"target\": 0}, {\"PC1\": -1.6783855507437164, \"PC2\": -1.8432302043000972, \"PC3\": 0.7873970488129884, \"PC4\": -0.07048995161613829, \"PC5\": -0.32889682528222314, \"PC6\": 0.3255653913505832, \"PC7\": 0.5796186249637899, \"PC8\": -0.7107086164125661, \"PC9\": 0.292379061018095, \"PC10\": -0.6829007214329325, \"PC11\": 0.4985974848061007, \"PC12\": 0.7578259223768036, \"PC13\": 0.0788504289760057, \"target\": 1}, {\"PC1\": 1.2122774559560607, \"PC2\": 0.11989871243452639, \"PC3\": -0.10287765234078099, \"PC4\": -0.7560692601251012, \"PC5\": -0.5468010098114996, \"PC6\": -0.11350354259444301, \"PC7\": 1.1811257076706818, \"PC8\": -0.18611478274361726, \"PC9\": 0.21115541216151193, \"PC10\": -0.6758263679031143, \"PC11\": -1.1542709229875052, \"PC12\": 0.2566605221334787, \"PC13\": 0.3303945130603735, \"target\": 0}, {\"PC1\": -1.3241053968746368, \"PC2\": -1.0658601388651623, \"PC3\": 0.38823391867900225, \"PC4\": -0.15726978925916063, \"PC5\": 1.6321043897551164, \"PC6\": -1.0865322433467353, \"PC7\": 0.20419716287691755, \"PC8\": -0.5946419708540192, \"PC9\": -1.3110088396801138, \"PC10\": -0.7745783899560692, \"PC11\": 0.4128098508853877, \"PC12\": 0.875931231281744, \"PC13\": 0.6315106779210994, \"target\": 1}, {\"PC1\": 2.9232510823427034, \"PC2\": -2.3615194261820016, \"PC3\": 1.4071750654579283, \"PC4\": -1.1639502888298068, \"PC5\": -1.4072140393202401, \"PC6\": -1.5215864321269046, \"PC7\": 1.1893950659437171, \"PC8\": 1.5972092109003082, \"PC9\": -1.7509538300270555, \"PC10\": 0.04718888484052533, \"PC11\": -0.3940864517158608, \"PC12\": 0.10619018772459037, \"PC13\": -0.7750609005905276, \"target\": 0}, {\"PC1\": 1.3408644085269696, \"PC2\": -0.6752456698236529, \"PC3\": -0.3222485604521435, \"PC4\": 0.7815248527789322, \"PC5\": 1.1805974545474966, \"PC6\": 1.2814872900760503, \"PC7\": 1.596940694562398, \"PC8\": -0.8799147066564911, \"PC9\": -1.4548048692686284, \"PC10\": 0.7905605798268569, \"PC11\": -0.9749395324612994, \"PC12\": 0.11613728641350746, \"PC13\": -0.05038354009916774, \"target\": 0}, {\"PC1\": -1.1959951790041812, \"PC2\": -1.3173940553680454, \"PC3\": 0.4678908895849452, \"PC4\": -0.5463318021248196, \"PC5\": -0.02334531882732191, \"PC6\": -0.9857405904106353, \"PC7\": 0.08555830651081496, \"PC8\": -0.5882949749085687, \"PC9\": 1.2094095668002178, \"PC10\": 1.7765761620814242, \"PC11\": -0.49011708961824607, \"PC12\": 0.04800343372395117, \"PC13\": 0.17158710678385533, \"target\": 0}, {\"PC1\": 2.103853610707228, \"PC2\": 1.1324262723916774, \"PC3\": 0.8459063343272127, \"PC4\": -0.5587274017775492, \"PC5\": 0.9822955084709935, \"PC6\": -0.5053532500280187, \"PC7\": -0.4105431563022107, \"PC8\": -0.5947985723275445, \"PC9\": 1.4426113964776954, \"PC10\": 0.16632981785616857, \"PC11\": 0.02527838408290645, \"PC12\": -0.6518968346264604, \"PC13\": 0.8603176841565519, \"target\": 1}, {\"PC1\": 1.496531498906452, \"PC2\": -0.9697704897916829, \"PC3\": 1.7967858575351527, \"PC4\": 0.6576803318796878, \"PC5\": 1.2360582586954438, \"PC6\": -0.9168005053624732, \"PC7\": 0.6440921191581683, \"PC8\": 0.8468931703402208, \"PC9\": -0.610819293663079, \"PC10\": 0.08117019796872221, \"PC11\": -0.5897245603180277, \"PC12\": -0.35192815613878453, \"PC13\": -0.18274349250349572, \"target\": 1}, {\"PC1\": 0.10330794107476848, \"PC2\": -1.572362116449603, \"PC3\": -1.6097796834389662, \"PC4\": 0.34241835036920854, \"PC5\": -1.6174475772433925, \"PC6\": -0.7926962893632731, \"PC7\": 0.6543746076029124, \"PC8\": -1.9667054941960496, \"PC9\": 0.9023001988397392, \"PC10\": -0.3948085644648179, \"PC11\": 0.1793569660723325, \"PC12\": -0.34022959568874633, \"PC13\": 0.8006958289389101, \"target\": 1}, {\"PC1\": -0.5501814306917613, \"PC2\": -1.55192726718482, \"PC3\": 1.4365692150232177, \"PC4\": -0.23066280948919032, \"PC5\": -0.011135129114008241, \"PC6\": -1.788906705613472, \"PC7\": -0.20259777400254828, \"PC8\": -0.43580009499959405, \"PC9\": 1.5477467262713591, \"PC10\": -0.46810435937677625, \"PC11\": 0.2786001020744104, \"PC12\": -0.5758298984345975, \"PC13\": -0.38282385743168557, \"target\": 1}, {\"PC1\": 1.4816605092393056, \"PC2\": 0.38224282031010687, \"PC3\": 0.3980240911259198, \"PC4\": 0.2532963345203538, \"PC5\": -0.7266406408267511, \"PC6\": -1.1370808967402826, \"PC7\": -0.26953140344186344, \"PC8\": 0.10553920764403936, \"PC9\": 2.0520867286360036, \"PC10\": 1.0674657665809943, \"PC11\": 0.744381944993838, \"PC12\": 0.3461793436239156, \"PC13\": 0.221277863938771, \"target\": 0}, {\"PC1\": 0.38239684011417996, \"PC2\": -1.9083890254989926, \"PC3\": 2.1059926235990583, \"PC4\": -0.6515135751746071, \"PC5\": 0.01735168853327974, \"PC6\": -0.6051630422218445, \"PC7\": -2.374025460242017, \"PC8\": -2.000287495044737, \"PC9\": -0.5407515567881626, \"PC10\": 0.7923164880227657, \"PC11\": 0.16788796810835027, \"PC12\": 0.10806716642791145, \"PC13\": 0.3374106790878592, \"target\": 1}, {\"PC1\": 3.3666047541348765, \"PC2\": 0.9027279275060074, \"PC3\": 0.5915949467318904, \"PC4\": 1.113423414275113, \"PC5\": 0.2602959328275806, \"PC6\": 1.5719608269262606, \"PC7\": 0.9281306920415869, \"PC8\": 0.009431219731264028, \"PC9\": 0.7112570718736154, \"PC10\": 0.4142910996423485, \"PC11\": -0.08688314237668142, \"PC12\": -0.21810312783524088, \"PC13\": 0.5497707467086019, \"target\": 0}, {\"PC1\": 0.47857954167080263, \"PC2\": 0.3661008797524611, \"PC3\": -0.6015237770956331, \"PC4\": 1.1889037230613606, \"PC5\": -0.508250069919338, \"PC6\": 1.0611210747914792, \"PC7\": 1.1065800622380384, \"PC8\": -0.2079668130782091, \"PC9\": 1.6523262072035942, \"PC10\": 0.5996027252031141, \"PC11\": 1.6744647334492688, \"PC12\": 1.291614619409856, \"PC13\": 0.2368853956548285, \"target\": 1}, {\"PC1\": 2.2052070123783465, \"PC2\": 0.03640427672033583, \"PC3\": -0.13519616681239033, \"PC4\": -0.1990431003685547, \"PC5\": -0.552670801977343, \"PC6\": -0.29265390941544145, \"PC7\": 1.3605421088730563, \"PC8\": -0.3072073768444358, \"PC9\": 0.2379492853302468, \"PC10\": -0.5515123379072854, \"PC11\": -1.1935630036177403, \"PC12\": 0.18279596764096961, \"PC13\": -0.6430037422089778, \"target\": 0}, {\"PC1\": -0.3609098324405275, \"PC2\": 1.2360729922411542, \"PC3\": 0.04075291431294339, \"PC4\": -0.46385752364012717, \"PC5\": 1.1444276337060817, \"PC6\": -0.895610290874405, \"PC7\": 0.25144977940938107, \"PC8\": -1.1576959818711139, \"PC9\": 1.1763147699431895, \"PC10\": -0.992184700630532, \"PC11\": -1.161812300856862, \"PC12\": 0.6734261667930511, \"PC13\": -0.25661666908412567, \"target\": 1}, {\"PC1\": -0.5081613309401677, \"PC2\": -0.3280113284579492, \"PC3\": 0.45266616431000567, \"PC4\": -0.912649282467151, \"PC5\": 1.7041488583735522, \"PC6\": 1.516923943778868, \"PC7\": 1.9112952490556292, \"PC8\": 0.04552541779832415, \"PC9\": -0.7000050278470945, \"PC10\": 0.9816661609526285, \"PC11\": -0.68216811151696, \"PC12\": 1.0636930553949908, \"PC13\": -0.022102023507251167, \"target\": 0}, {\"PC1\": 2.222206070233972, \"PC2\": -1.168042077877136, \"PC3\": 0.5559091858496505, \"PC4\": -0.4830602282564622, \"PC5\": 1.000304069788385, \"PC6\": -0.5297170738015424, \"PC7\": 1.2975825501521518, \"PC8\": -0.519132690898697, \"PC9\": -0.9535498293742214, \"PC10\": -2.0402998244408956, \"PC11\": 0.05415581110406263, \"PC12\": -1.0736708846182739, \"PC13\": 0.32786767495518093, \"target\": 0}, {\"PC1\": -0.144718583161481, \"PC2\": -4.117991721577422, \"PC3\": 0.5435389477140478, \"PC4\": -1.331870951791239, \"PC5\": -0.21344714561131714, \"PC6\": 0.39760141401270777, \"PC7\": -0.5846506981364246, \"PC8\": 1.7590285501200733, \"PC9\": 0.8716172087380665, \"PC10\": 0.5718442701422931, \"PC11\": 0.003977872303220751, \"PC12\": -0.01887002578577276, \"PC13\": -0.73549346403626, \"target\": 1}, {\"PC1\": -0.42939086198096055, \"PC2\": -3.2116857133039636, \"PC3\": 1.4374587618094596, \"PC4\": -0.36524065823736973, \"PC5\": -1.073855194027593, \"PC6\": -0.1838339695689824, \"PC7\": 0.22198029230674754, \"PC8\": -0.8404347736647918, \"PC9\": 0.37749137426684, \"PC10\": 0.4976054553909619, \"PC11\": 0.16812717608470082, \"PC12\": -0.19821281093470816, \"PC13\": -0.5828445884316547, \"target\": 1}, {\"PC1\": -0.01833513848552197, \"PC2\": -2.5456365237331564, \"PC3\": -2.3309870132773365, \"PC4\": 0.12851125725272952, \"PC5\": -0.3955219666158908, \"PC6\": 0.5479343621263728, \"PC7\": 0.21285648754419076, \"PC8\": 1.1555289997281146, \"PC9\": 0.8347493513219448, \"PC10\": 0.5722309037535807, \"PC11\": -0.05247727281732259, \"PC12\": 0.7841477492057602, \"PC13\": 0.384808217155455, \"target\": 0}, {\"PC1\": -0.8769842596347509, \"PC2\": -2.0145628117485535, \"PC3\": 0.9691141021867228, \"PC4\": 0.7632452001892538, \"PC5\": 0.3350129658280022, \"PC6\": -1.2026772822407499, \"PC7\": -0.33893538061365935, \"PC8\": -1.1539486978019953, \"PC9\": 0.32853811008037265, \"PC10\": 0.11655231549261139, \"PC11\": 0.2001792398400988, \"PC12\": 0.11387002570661962, \"PC13\": -0.4752358223792159, \"target\": 1}, {\"PC1\": 0.45071878847483693, \"PC2\": -1.1540387057360921, \"PC3\": 0.05949331768040974, \"PC4\": 0.564512781868293, \"PC5\": 0.38684024320713134, \"PC6\": 1.2439104692345915, \"PC7\": 0.5977130361578074, \"PC8\": -2.179544139678515, \"PC9\": -0.7838076876660681, \"PC10\": 1.0598845017265073, \"PC11\": -1.413963236366814, \"PC12\": 0.7097533693422563, \"PC13\": -1.4261187431150928, \"target\": 1}, {\"PC1\": 0.25431597520630117, \"PC2\": -0.3972056425523744, \"PC3\": 0.8748115508941681, \"PC4\": -0.4500766540614759, \"PC5\": -0.358390725816237, \"PC6\": 0.9857975684989879, \"PC7\": 1.043862764693234, \"PC8\": -0.03889100240888856, \"PC9\": 0.8268689804531685, \"PC10\": 0.48023402489669936, \"PC11\": -1.619681197255232, \"PC12\": 0.4896026324268706, \"PC13\": 0.7789972833685225, \"target\": 1}, {\"PC1\": 1.6674904802560344, \"PC2\": -0.8280256634591658, \"PC3\": -0.02170664105117584, \"PC4\": 0.3239904909742811, \"PC5\": 2.4231556980629914, \"PC6\": 0.2432178491923461, \"PC7\": 0.01172811077817734, \"PC8\": -1.3592857964400094, \"PC9\": -0.9090021962107967, \"PC10\": 2.0972144560975843, \"PC11\": 0.9095554193237663, \"PC12\": -0.7457208020584932, \"PC13\": 1.51438657643871, \"target\": 0}, {\"PC1\": -0.15066060237307613, \"PC2\": -2.381529566284469, \"PC3\": 0.7339881841343348, \"PC4\": 0.40842421451881494, \"PC5\": -0.19829704451073632, \"PC6\": 0.14933004647373604, \"PC7\": 0.9287015116744368, \"PC8\": -0.43001658975899104, \"PC9\": 0.07821921885350255, \"PC10\": -0.4779608953120443, \"PC11\": 0.40181747799168016, \"PC12\": -0.2083742028642732, \"PC13\": 1.072678740318313, \"target\": 1}, {\"PC1\": 0.6242050353295493, \"PC2\": 0.8783298249072915, \"PC3\": 0.6282587947829683, \"PC4\": -1.165543010898446, \"PC5\": 1.3717354005192615, \"PC6\": 1.6038479533482461, \"PC7\": 0.6187466819208659, \"PC8\": -0.9948242353629203, \"PC9\": 0.7839463708114152, \"PC10\": 0.08111789612756465, \"PC11\": 0.508142035084469, \"PC12\": 0.9171472221346022, \"PC13\": 0.10016085975961306, \"target\": 0}, {\"PC1\": 1.2466056708726874, \"PC2\": -1.5656322000248153, \"PC3\": 0.17631626702756567, \"PC4\": 3.708478473222701, \"PC5\": -0.18063004966294477, \"PC6\": -1.142203751806442, \"PC7\": 0.5358988753941046, \"PC8\": -0.3393373581824042, \"PC9\": 0.7812775209051982, \"PC10\": -0.2123771235649962, \"PC11\": 0.34615954777249974, \"PC12\": -0.5037032779350807, \"PC13\": 0.2235934821371773, \"target\": 1}, {\"PC1\": 2.0952701154909277, \"PC2\": -1.9270801389507677, \"PC3\": -0.8245822163464294, \"PC4\": -0.48983567253901306, \"PC5\": 0.8999850217193859, \"PC6\": -1.0047079372496626, \"PC7\": -2.9214829513504905, \"PC8\": -0.2456003350892225, \"PC9\": -1.121615967328118, \"PC10\": -1.3591941168263928, \"PC11\": 0.29820455361925824, \"PC12\": 0.6376183254150554, \"PC13\": 1.0342157173449833, \"target\": 0}, {\"PC1\": 0.4141578594431596, \"PC2\": -0.836052632545087, \"PC3\": -1.1252860511118565, \"PC4\": 0.22903361942029224, \"PC5\": -1.0438018847282282, \"PC6\": -0.43547291991411885, \"PC7\": 0.9174099302018853, \"PC8\": -1.5941970166813793, \"PC9\": 1.043239683561588, \"PC10\": -0.7644413020482663, \"PC11\": -0.34195736347553407, \"PC12\": 0.18042663364365172, \"PC13\": 0.6608702612262395, \"target\": 0}, {\"PC1\": 0.7361846430405558, \"PC2\": -3.1997439776569423, \"PC3\": 3.126987238620023, \"PC4\": -1.4613529217731462, \"PC5\": -3.0288363488765127, \"PC6\": -1.0571125975631117, \"PC7\": 0.9692714316489965, \"PC8\": 2.770743931944923, \"PC9\": 2.079612910318742, \"PC10\": 1.3919179991723007, \"PC11\": -0.3536190790725391, \"PC12\": 0.0020892508256510197, \"PC13\": 0.15098856804269467, \"target\": 1}, {\"PC1\": 1.5725384578822794, \"PC2\": 0.7361149331891857, \"PC3\": 1.039316697394858, \"PC4\": 1.298926378366116, \"PC5\": 1.8286804619152937, \"PC6\": 0.1682830613062104, \"PC7\": 0.7879267556672628, \"PC8\": -0.7477722165174965, \"PC9\": 1.9288719637100842, \"PC10\": 0.32046621545756987, \"PC11\": -1.5745788077393486, \"PC12\": -1.1780149164838216, \"PC13\": -0.4758338944272142, \"target\": 0}, {\"PC1\": 2.03223384078813, \"PC2\": 0.5673013004029229, \"PC3\": 1.1365193445044262, \"PC4\": -0.9960695215878693, \"PC5\": 0.9476846957814578, \"PC6\": 1.382027850573824, \"PC7\": 1.3176678341645478, \"PC8\": 0.7790657596051321, \"PC9\": 0.755246825386285, \"PC10\": 0.8739148240536837, \"PC11\": 0.36925889709479776, \"PC12\": 0.5346039017993484, \"PC13\": 0.7745424549401777, \"target\": 0}, {\"PC1\": 0.8039733903275352, \"PC2\": -0.6068598295814915, \"PC3\": -1.364256945053862, \"PC4\": -1.245623153042295, \"PC5\": 1.5083924262625534, \"PC6\": -0.7740204089808893, \"PC7\": -0.6747877029605196, \"PC8\": 1.4311528598928522, \"PC9\": 0.5547878954770389, \"PC10\": -0.6807510989724046, \"PC11\": -1.4958614980988922, \"PC12\": 0.5669760498359394, \"PC13\": 1.1999252413631603, \"target\": 0}, {\"PC1\": -0.4300921601440557, \"PC2\": -0.16334994881852632, \"PC3\": 1.6202222296521276, \"PC4\": -0.2931482627770105, \"PC5\": 2.5763523711459637, \"PC6\": -0.5118667506512193, \"PC7\": 0.9067333935904636, \"PC8\": 0.418220060056299, \"PC9\": -0.17964948025798286, \"PC10\": -0.8334401425043655, \"PC11\": -0.1117013255003125, \"PC12\": 0.7180513518205079, \"PC13\": -0.009041362530454792, \"target\": 1}, {\"PC1\": 2.9893355449439536, \"PC2\": 0.9512702944999818, \"PC3\": -0.04204953419995005, \"PC4\": -0.6960596864543666, \"PC5\": 0.19866409972778257, \"PC6\": 0.2156516568815183, \"PC7\": 1.0618607384916094, \"PC8\": -0.04136413199549577, \"PC9\": 0.20397606630883913, \"PC10\": -0.413913724139475, \"PC11\": 0.4865937777604214, \"PC12\": 0.9753182826152016, \"PC13\": -0.012643501860999736, \"target\": 0}, {\"PC1\": -1.2801260355828346, \"PC2\": -2.2954429587041822, \"PC3\": 0.8180955413334686, \"PC4\": -0.038013639348018685, \"PC5\": 0.6456024903227219, \"PC6\": -1.4043914061935545, \"PC7\": -0.0939169808319804, \"PC8\": -0.7800782027048417, \"PC9\": -0.209126870536131, \"PC10\": 0.1672315724149862, \"PC11\": 0.430396116227015, \"PC12\": 0.5115185018809932, \"PC13\": 0.469860106660871, \"target\": 1}, {\"PC1\": 3.4275062653336534, \"PC2\": -0.8499639943090799, \"PC3\": 0.21624174932378715, \"PC4\": -0.8478625435482389, \"PC5\": 0.9204650870619383, \"PC6\": 0.6169004194950027, \"PC7\": 0.6543141993772317, \"PC8\": -1.1073066820972524, \"PC9\": -0.8043370182027755, \"PC10\": 1.0639590781789103, \"PC11\": 0.48378737419898304, \"PC12\": -0.7250955713376572, \"PC13\": 0.4449073769492194, \"target\": 0}, {\"PC1\": 2.150525448132218, \"PC2\": -2.313915535933812, \"PC3\": -2.113676464262379, \"PC4\": -0.3616097598947468, \"PC5\": -1.284404396451863, \"PC6\": 0.2143336649891566, \"PC7\": -1.9669871198872808, \"PC8\": -1.0191157633746422, \"PC9\": 1.1704517380060393, \"PC10\": 0.009783329948200643, \"PC11\": 0.31258519780758026, \"PC12\": 0.4214509985049957, \"PC13\": 0.2395284983142325, \"target\": 0}, {\"PC1\": 0.4428318220085778, \"PC2\": -1.062618082178068, \"PC3\": 0.822468991198798, \"PC4\": 1.8564120588826158, \"PC5\": 0.33562957053140097, \"PC6\": 0.677163596730012, \"PC7\": 1.5156340353532853, \"PC8\": -0.3236495638862339, \"PC9\": 1.258300258715161, \"PC10\": -1.1693289670998874, \"PC11\": 0.3492301912725533, \"PC12\": 0.13356663891059187, \"PC13\": -0.3682247104840884, \"target\": 1}, {\"PC1\": -0.2996396965924523, \"PC2\": -0.23234880286805085, \"PC3\": -0.12266389495966334, \"PC4\": -0.8190604113040234, \"PC5\": 0.47348349485896946, \"PC6\": -1.819994409498278, \"PC7\": 1.0265539015561445, \"PC8\": 0.05909769374176076, \"PC9\": 1.545725649907013, \"PC10\": 0.3771506941472549, \"PC11\": 0.009300842366401326, \"PC12\": 0.6667877574500695, \"PC13\": -0.21354978426176344, \"target\": 1}, {\"PC1\": 2.459005454111447, \"PC2\": -0.4782619109093904, \"PC3\": -2.2082163221631, \"PC4\": 0.2593764430148434, \"PC5\": 1.3346898026594496, \"PC6\": -1.2125802165435042, \"PC7\": -0.5437922764688584, \"PC8\": 0.710110937565316, \"PC9\": -0.2521099902403105, \"PC10\": -0.9108682982269524, \"PC11\": -1.4634096833403902, \"PC12\": 0.9184474681342575, \"PC13\": -0.750686245044748, \"target\": 0}, {\"PC1\": -0.3877989959105926, \"PC2\": -2.045096824834968, \"PC3\": 0.12678002528284962, \"PC4\": 0.82803249720159, \"PC5\": 1.253186252197555, \"PC6\": -1.7518815282080138, \"PC7\": 1.0279385826611844, \"PC8\": -0.2356258123013364, \"PC9\": -0.15432047016683487, \"PC10\": 0.0896647480723931, \"PC11\": 1.3969239164167144, \"PC12\": 0.677423921749262, \"PC13\": -0.584308824214691, \"target\": 1}, {\"PC1\": 0.5550509594621131, \"PC2\": -2.8494190181400407, \"PC3\": -2.502590735357158, \"PC4\": 0.44663815197907414, \"PC5\": 0.6894223765316071, \"PC6\": 0.7812428774692305, \"PC7\": 0.003409674813146689, \"PC8\": -0.5391779172927907, \"PC9\": 1.3804382316593045, \"PC10\": 0.01253351110436309, \"PC11\": -0.01584405154248224, \"PC12\": -0.6558356052692148, \"PC13\": 0.5909591998484671, \"target\": 1}, {\"PC1\": 1.7629513070710487, \"PC2\": -1.1301280185025977, \"PC3\": -1.2597794081018712, \"PC4\": -0.6636355452130325, \"PC5\": -0.030421867570634913, \"PC6\": -1.115823034280081, \"PC7\": 2.281463253060011, \"PC8\": -0.004750080778772914, \"PC9\": -0.1123608715757571, \"PC10\": -0.20151222178861303, \"PC11\": 0.4445105175678173, \"PC12\": 0.14670834565300492, \"PC13\": 0.44868916002619247, \"target\": 0}, {\"PC1\": -0.24113954317926836, \"PC2\": -1.4337176269580276, \"PC3\": -0.08508309864138883, \"PC4\": -0.6075603278345183, \"PC5\": 0.18525496228495641, \"PC6\": 0.484742818994748, \"PC7\": 0.6288461109729151, \"PC8\": -2.284501952873065, \"PC9\": 0.7022104924274979, \"PC10\": 0.2756726839718275, \"PC11\": -0.8258225484596486, \"PC12\": 0.1940902705976474, \"PC13\": -0.03244208452226743, \"target\": 1}, {\"PC1\": 3.142682069981032, \"PC2\": 1.2761024714085558, \"PC3\": -0.29826148713105216, \"PC4\": 1.6804009592064089, \"PC5\": -0.07582483942631506, \"PC6\": -0.7598010359843963, \"PC7\": -0.5969797287310165, \"PC8\": -1.2921195988205891, \"PC9\": 0.7088335257753388, \"PC10\": -0.4949208482548818, \"PC11\": -0.5677533047764382, \"PC12\": 0.9399794302036961, \"PC13\": 0.9131424698987661, \"target\": 0}, {\"PC1\": 2.835341108403999, \"PC2\": -1.0109903758127294, \"PC3\": 0.5183732357032098, \"PC4\": -0.6417338704641674, \"PC5\": 0.9867094609667216, \"PC6\": 0.1798520358379629, \"PC7\": 2.306660408720273, \"PC8\": 0.4806454282644761, \"PC9\": -0.2938326527009818, \"PC10\": 0.9444861919855647, \"PC11\": -0.8550049229869102, \"PC12\": -0.4467622268364078, \"PC13\": -0.31503785034475734, \"target\": 0}, {\"PC1\": 2.978438497626981, \"PC2\": -0.45858127561132744, \"PC3\": -0.4154924573055758, \"PC4\": 0.691598419985031, \"PC5\": -0.19478415623584452, \"PC6\": -1.7390048331470231, \"PC7\": -0.2264001021624932, \"PC8\": -1.2283847310922607, \"PC9\": 1.0950300220115663, \"PC10\": 0.9312969828957743, \"PC11\": 0.9105523037966031, \"PC12\": 0.008334442023040883, \"PC13\": -0.30569348578405814, \"target\": 0}, {\"PC1\": -0.13964491905677673, \"PC2\": -2.6025569548593306, \"PC3\": 1.1612745359592718, \"PC4\": -0.6103158011500545, \"PC5\": 1.180230275861628, \"PC6\": -1.5900300830683038, \"PC7\": 0.03388226094746218, \"PC8\": -0.7765201669306248, \"PC9\": -0.862483227366369, \"PC10\": 0.33182137816277435, \"PC11\": 0.009328012395162162, \"PC12\": 0.3490093102392223, \"PC13\": 0.35199459088554785, \"target\": 1}, {\"PC1\": -0.3945603239735321, \"PC2\": -2.5093338280852886, \"PC3\": 0.020099946668819896, \"PC4\": -0.3833047495748802, \"PC5\": 1.806995288557262, \"PC6\": 1.188058991857722, \"PC7\": 0.3203559192671881, \"PC8\": 1.2093970019432247, \"PC9\": 1.8709772051856544, \"PC10\": -1.1295722315248162, \"PC11\": 0.38956970757417214, \"PC12\": 0.37290096865083183, \"PC13\": -0.5775520284582543, \"target\": 1}, {\"PC1\": 0.4659290538144691, \"PC2\": 0.4081707194284482, \"PC3\": 1.2421724760434956, \"PC4\": 2.1463625971493414, \"PC5\": 1.810324774078227, \"PC6\": -0.12009787950846638, \"PC7\": 0.5920733327613142, \"PC8\": -0.40823443927361347, \"PC9\": 0.567253604882451, \"PC10\": -1.582552451219758, \"PC11\": -0.8886020833154623, \"PC12\": 1.1326254007399463, \"PC13\": -0.09339489062600456, \"target\": 1}, {\"PC1\": 0.8895421486863113, \"PC2\": -1.1403350064010516, \"PC3\": 1.980117429478552, \"PC4\": -0.6068233838941814, \"PC5\": 1.2887146268467733, \"PC6\": 1.0309496380380787, \"PC7\": 0.5280670053778636, \"PC8\": -0.7158235901910328, \"PC9\": 1.2001796212155469, \"PC10\": -0.3524753731386894, \"PC11\": 1.4441834765543082, \"PC12\": 0.746023842853862, \"PC13\": -0.06861553780284606, \"target\": 1}, {\"PC1\": 0.2487710482541715, \"PC2\": -1.0028369012392195, \"PC3\": 0.9332221640634024, \"PC4\": 2.8499749095466287, \"PC5\": 2.0503702339871928, \"PC6\": -2.099571873646584, \"PC7\": -0.20912419021945913, \"PC8\": -1.0157515003396351, \"PC9\": 1.361064706038653, \"PC10\": -0.24498635743160332, \"PC11\": -0.17871802918143306, \"PC12\": 0.27022902574184726, \"PC13\": 0.3267186325378924, \"target\": 1}, {\"PC1\": 1.3033429448115614, \"PC2\": -0.8789371017019322, \"PC3\": 0.7584142907208796, \"PC4\": -2.69668998758603, \"PC5\": 1.4860050396350057, \"PC6\": 0.6279542827380884, \"PC7\": 1.0739154908832766, \"PC8\": -0.4128669469938464, \"PC9\": -0.16230193112291005, \"PC10\": 1.0943364689744208, \"PC11\": 0.6364396738701965, \"PC12\": 1.5467516632880725, \"PC13\": 1.0970406002429434, \"target\": 0}]}}, {\"mode\": \"vega-lite\"});\n",
       "</script>"
      ],
      "text/plain": [
       "alt.Chart(...)"
      ]
     },
     "execution_count": 139,
     "metadata": {},
     "output_type": "execute_result"
    }
   ],
   "source": [
    "# relationships between PCs\n",
    "\n",
    "P = pd.DataFrame(u @ np.diag(s))\n",
    "P = P.rename(columns={0: \"PC1\", 1: \"PC2\", 2: \"PC3\", 3: \"PC4\", 4: \"PC5\", 5: \"PC6\", 6: \"PC7\",\n",
    "                     7: \"PC8\", 8: \"PC9\", 9: \"PC10\", 10: \"PC11\", 11: \"PC12\", 12: \"PC13\", 13: \"PC14\"})\n",
    "P['target'] = kaggle_df['target']\n",
    "\n",
    "alt.Chart(P).mark_circle().encode(\n",
    "    x = \"PC1\",\n",
    "    y = \"PC2\",\n",
    "    color = alt.Color('target:N', scale=alt.Scale(scheme='set1'))\n",
    ")"
   ]
  },
  {
   "cell_type": "code",
   "execution_count": 140,
   "metadata": {},
   "outputs": [
    {
     "data": {
      "text/html": [
       "\n",
       "<div id=\"altair-viz-f56dde8041044190bb67bb66abb5dc40\"></div>\n",
       "<script type=\"text/javascript\">\n",
       "  (function(spec, embedOpt){\n",
       "    let outputDiv = document.currentScript.previousElementSibling;\n",
       "    if (outputDiv.id !== \"altair-viz-f56dde8041044190bb67bb66abb5dc40\") {\n",
       "      outputDiv = document.getElementById(\"altair-viz-f56dde8041044190bb67bb66abb5dc40\");\n",
       "    }\n",
       "    const paths = {\n",
       "      \"vega\": \"https://cdn.jsdelivr.net/npm//vega@5?noext\",\n",
       "      \"vega-lib\": \"https://cdn.jsdelivr.net/npm//vega-lib?noext\",\n",
       "      \"vega-lite\": \"https://cdn.jsdelivr.net/npm//vega-lite@4.8.1?noext\",\n",
       "      \"vega-embed\": \"https://cdn.jsdelivr.net/npm//vega-embed@6?noext\",\n",
       "    };\n",
       "\n",
       "    function loadScript(lib) {\n",
       "      return new Promise(function(resolve, reject) {\n",
       "        var s = document.createElement('script');\n",
       "        s.src = paths[lib];\n",
       "        s.async = true;\n",
       "        s.onload = () => resolve(paths[lib]);\n",
       "        s.onerror = () => reject(`Error loading script: ${paths[lib]}`);\n",
       "        document.getElementsByTagName(\"head\")[0].appendChild(s);\n",
       "      });\n",
       "    }\n",
       "\n",
       "    function showError(err) {\n",
       "      outputDiv.innerHTML = `<div class=\"error\" style=\"color:red;\">${err}</div>`;\n",
       "      throw err;\n",
       "    }\n",
       "\n",
       "    function displayChart(vegaEmbed) {\n",
       "      vegaEmbed(outputDiv, spec, embedOpt)\n",
       "        .catch(err => showError(`Javascript Error: ${err.message}<br>This usually means there's a typo in your chart specification. See the javascript console for the full traceback.`));\n",
       "    }\n",
       "\n",
       "    if(typeof define === \"function\" && define.amd) {\n",
       "      requirejs.config({paths});\n",
       "      require([\"vega-embed\"], displayChart, err => showError(`Error loading script: ${err.message}`));\n",
       "    } else if (typeof vegaEmbed === \"function\") {\n",
       "      displayChart(vegaEmbed);\n",
       "    } else {\n",
       "      loadScript(\"vega\")\n",
       "        .then(() => loadScript(\"vega-lite\"))\n",
       "        .then(() => loadScript(\"vega-embed\"))\n",
       "        .catch(showError)\n",
       "        .then(() => displayChart(vegaEmbed));\n",
       "    }\n",
       "  })({\"config\": {\"view\": {\"continuousWidth\": 400, \"continuousHeight\": 300}, \"axis\": {\"labelFontSize\": 12, \"titleFontSize\": 14}, \"axisX\": {\"labelAngle\": 0}}, \"data\": {\"name\": \"data-f020b35b08e85dde1b35760eda2d3c22\"}, \"mark\": \"bar\", \"encoding\": {\"opacity\": {\"value\": 0.7}, \"x\": {\"type\": \"nominal\", \"field\": \"Column names\"}, \"y\": {\"type\": \"quantitative\", \"field\": \"v\"}}, \"width\": 700, \"$schema\": \"https://vega.github.io/schema/vega-lite/v4.8.1.json\", \"datasets\": {\"data-f020b35b08e85dde1b35760eda2d3c22\": [{\"v\": 0.314202523971302, \"Column names\": \"age\"}, {\"v\": 0.09083783387587019, \"Column names\": \"sex\"}, {\"v\": -0.274607493158778, \"Column names\": \"cp\"}, {\"v\": 0.18392019199254594, \"Column names\": \"trestbps\"}, {\"v\": 0.11737503494807158, \"Column names\": \"chol\"}, {\"v\": 0.07363999094947762, \"Column names\": \"fbs\"}, {\"v\": -0.12772791565913902, \"Column names\": \"restecg\"}, {\"v\": -0.41649811168184614, \"Column names\": \"thalach\"}, {\"v\": 0.3612674523476854, \"Column names\": \"exang\"}, {\"v\": 0.4196389879526704, \"Column names\": \"oldpeak\"}, {\"v\": -0.3797722201798779, \"Column names\": \"slope\"}, {\"v\": 0.2732617197729499, \"Column names\": \"ca\"}, {\"v\": 0.22202375081656023, \"Column names\": \"thal\"}]}}, {\"mode\": \"vega-lite\"});\n",
       "</script>"
      ],
      "text/plain": [
       "alt.Chart(...)"
      ]
     },
     "execution_count": 140,
     "metadata": {},
     "output_type": "execute_result"
    }
   ],
   "source": [
    "# contributions of each feature kaggle_df on our PCs\n",
    "\n",
    "def plot_pc(col_names, vt, k):\n",
    "    \"\"\" \n",
    "    Plot how much each column of our data contributes \n",
    "    to each principal component and labels the rows of V^T.\n",
    "    \"\"\"\n",
    "    df = pd.DataFrame({'v':vt[k, :], 'Column names':col_names})\n",
    "    chart = alt.Chart(df).mark_bar().encode(\n",
    "        x='Column names',\n",
    "        y='v',\n",
    "        opacity=alt.value(0.7)\n",
    "    ).configure_axis(\n",
    "        labelFontSize=12,\n",
    "        titleFontSize=14\n",
    "    ).configure_axisX(\n",
    "        labelAngle = 0\n",
    "    ).properties(width = 700)\n",
    "    return chart\n",
    "\n",
    "# contribution of each feature for PC1\n",
    "plot_pc(list(kaggle_df.drop('target', axis = 1).columns), vt, 0)"
   ]
  },
  {
   "cell_type": "code",
   "execution_count": 153,
   "metadata": {},
   "outputs": [
    {
     "data": {
      "text/html": [
       "\n",
       "<div id=\"altair-viz-74c10d47c75f425c91e15c2e5fa20b8a\"></div>\n",
       "<script type=\"text/javascript\">\n",
       "  (function(spec, embedOpt){\n",
       "    let outputDiv = document.currentScript.previousElementSibling;\n",
       "    if (outputDiv.id !== \"altair-viz-74c10d47c75f425c91e15c2e5fa20b8a\") {\n",
       "      outputDiv = document.getElementById(\"altair-viz-74c10d47c75f425c91e15c2e5fa20b8a\");\n",
       "    }\n",
       "    const paths = {\n",
       "      \"vega\": \"https://cdn.jsdelivr.net/npm//vega@5?noext\",\n",
       "      \"vega-lib\": \"https://cdn.jsdelivr.net/npm//vega-lib?noext\",\n",
       "      \"vega-lite\": \"https://cdn.jsdelivr.net/npm//vega-lite@4.8.1?noext\",\n",
       "      \"vega-embed\": \"https://cdn.jsdelivr.net/npm//vega-embed@6?noext\",\n",
       "    };\n",
       "\n",
       "    function loadScript(lib) {\n",
       "      return new Promise(function(resolve, reject) {\n",
       "        var s = document.createElement('script');\n",
       "        s.src = paths[lib];\n",
       "        s.async = true;\n",
       "        s.onload = () => resolve(paths[lib]);\n",
       "        s.onerror = () => reject(`Error loading script: ${paths[lib]}`);\n",
       "        document.getElementsByTagName(\"head\")[0].appendChild(s);\n",
       "      });\n",
       "    }\n",
       "\n",
       "    function showError(err) {\n",
       "      outputDiv.innerHTML = `<div class=\"error\" style=\"color:red;\">${err}</div>`;\n",
       "      throw err;\n",
       "    }\n",
       "\n",
       "    function displayChart(vegaEmbed) {\n",
       "      vegaEmbed(outputDiv, spec, embedOpt)\n",
       "        .catch(err => showError(`Javascript Error: ${err.message}<br>This usually means there's a typo in your chart specification. See the javascript console for the full traceback.`));\n",
       "    }\n",
       "\n",
       "    if(typeof define === \"function\" && define.amd) {\n",
       "      requirejs.config({paths});\n",
       "      require([\"vega-embed\"], displayChart, err => showError(`Error loading script: ${err.message}`));\n",
       "    } else if (typeof vegaEmbed === \"function\") {\n",
       "      displayChart(vegaEmbed);\n",
       "    } else {\n",
       "      loadScript(\"vega\")\n",
       "        .then(() => loadScript(\"vega-lite\"))\n",
       "        .then(() => loadScript(\"vega-embed\"))\n",
       "        .catch(showError)\n",
       "        .then(() => displayChart(vegaEmbed));\n",
       "    }\n",
       "  })({\"config\": {\"view\": {\"continuousWidth\": 400, \"continuousHeight\": 300}, \"axis\": {\"labelFontSize\": 12, \"titleFontSize\": 14}, \"axisX\": {\"labelAngle\": 0}}, \"data\": {\"name\": \"data-7ae2b478307110c44b01650cbcfba89c\"}, \"mark\": \"bar\", \"encoding\": {\"opacity\": {\"value\": 0.7}, \"x\": {\"type\": \"nominal\", \"field\": \"Column names\"}, \"y\": {\"type\": \"quantitative\", \"field\": \"v\"}}, \"width\": 700, \"$schema\": \"https://vega.github.io/schema/vega-lite/v4.8.1.json\", \"datasets\": {\"data-7ae2b478307110c44b01650cbcfba89c\": [{\"v\": -0.4061487165658275, \"Column names\": \"age\"}, {\"v\": 0.377791710183616, \"Column names\": \"sex\"}, {\"v\": -0.29726609048643876, \"Column names\": \"cp\"}, {\"v\": -0.4381867518655228, \"Column names\": \"trestbps\"}, {\"v\": -0.3645140221994382, \"Column names\": \"chol\"}, {\"v\": -0.3174332815004233, \"Column names\": \"fbs\"}, {\"v\": 0.22088181173014876, \"Column names\": \"restecg\"}, {\"v\": -0.07787618277856012, \"Column names\": \"thalach\"}, {\"v\": 0.26311789717487455, \"Column names\": \"exang\"}, {\"v\": 0.05225497441558727, \"Column names\": \"oldpeak\"}, {\"v\": -0.04837415112673216, \"Column names\": \"slope\"}, {\"v\": -0.0941472077870582, \"Column names\": \"ca\"}, {\"v\": 0.20072041527257492, \"Column names\": \"thal\"}]}}, {\"mode\": \"vega-lite\"});\n",
       "</script>"
      ],
      "text/plain": [
       "alt.Chart(...)"
      ]
     },
     "execution_count": 153,
     "metadata": {},
     "output_type": "execute_result"
    }
   ],
   "source": [
    "# contribution of each feature for PC2\n",
    "plot_pc(list(kaggle_df.columns[:13]), vt, 1)"
   ]
  },
  {
   "cell_type": "code",
   "execution_count": 154,
   "metadata": {},
   "outputs": [
    {
     "data": {
      "text/html": [
       "\n",
       "<div id=\"altair-viz-cf0b26e90db64444bebadb9b727b9048\"></div>\n",
       "<script type=\"text/javascript\">\n",
       "  (function(spec, embedOpt){\n",
       "    let outputDiv = document.currentScript.previousElementSibling;\n",
       "    if (outputDiv.id !== \"altair-viz-cf0b26e90db64444bebadb9b727b9048\") {\n",
       "      outputDiv = document.getElementById(\"altair-viz-cf0b26e90db64444bebadb9b727b9048\");\n",
       "    }\n",
       "    const paths = {\n",
       "      \"vega\": \"https://cdn.jsdelivr.net/npm//vega@5?noext\",\n",
       "      \"vega-lib\": \"https://cdn.jsdelivr.net/npm//vega-lib?noext\",\n",
       "      \"vega-lite\": \"https://cdn.jsdelivr.net/npm//vega-lite@4.8.1?noext\",\n",
       "      \"vega-embed\": \"https://cdn.jsdelivr.net/npm//vega-embed@6?noext\",\n",
       "    };\n",
       "\n",
       "    function loadScript(lib) {\n",
       "      return new Promise(function(resolve, reject) {\n",
       "        var s = document.createElement('script');\n",
       "        s.src = paths[lib];\n",
       "        s.async = true;\n",
       "        s.onload = () => resolve(paths[lib]);\n",
       "        s.onerror = () => reject(`Error loading script: ${paths[lib]}`);\n",
       "        document.getElementsByTagName(\"head\")[0].appendChild(s);\n",
       "      });\n",
       "    }\n",
       "\n",
       "    function showError(err) {\n",
       "      outputDiv.innerHTML = `<div class=\"error\" style=\"color:red;\">${err}</div>`;\n",
       "      throw err;\n",
       "    }\n",
       "\n",
       "    function displayChart(vegaEmbed) {\n",
       "      vegaEmbed(outputDiv, spec, embedOpt)\n",
       "        .catch(err => showError(`Javascript Error: ${err.message}<br>This usually means there's a typo in your chart specification. See the javascript console for the full traceback.`));\n",
       "    }\n",
       "\n",
       "    if(typeof define === \"function\" && define.amd) {\n",
       "      requirejs.config({paths});\n",
       "      require([\"vega-embed\"], displayChart, err => showError(`Error loading script: ${err.message}`));\n",
       "    } else if (typeof vegaEmbed === \"function\") {\n",
       "      displayChart(vegaEmbed);\n",
       "    } else {\n",
       "      loadScript(\"vega\")\n",
       "        .then(() => loadScript(\"vega-lite\"))\n",
       "        .then(() => loadScript(\"vega-embed\"))\n",
       "        .catch(showError)\n",
       "        .then(() => displayChart(vegaEmbed));\n",
       "    }\n",
       "  })({\"config\": {\"view\": {\"continuousWidth\": 400, \"continuousHeight\": 300}, \"axis\": {\"labelFontSize\": 12, \"titleFontSize\": 14}, \"axisX\": {\"labelAngle\": 0}}, \"data\": {\"name\": \"data-2111293f7698859ef2412be34a5c0010\"}, \"mark\": \"bar\", \"encoding\": {\"opacity\": {\"value\": 0.7}, \"x\": {\"type\": \"nominal\", \"field\": \"Column names\"}, \"y\": {\"type\": \"quantitative\", \"field\": \"v\"}}, \"width\": 700, \"$schema\": \"https://vega.github.io/schema/vega-lite/v4.8.1.json\", \"datasets\": {\"data-2111293f7698859ef2412be34a5c0010\": [{\"v\": 0.09407661119488774, \"Column names\": \"age\"}, {\"v\": -0.5548491468416008, \"Column names\": \"sex\"}, {\"v\": -0.3569743128981533, \"Column names\": \"cp\"}, {\"v\": -0.20384930219029188, \"Column names\": \"trestbps\"}, {\"v\": 0.40782497898410763, \"Column names\": \"chol\"}, {\"v\": -0.4817362372054217, \"Column names\": \"fbs\"}, {\"v\": 0.08919083267073358, \"Column names\": \"restecg\"}, {\"v\": -0.15825529308472908, \"Column names\": \"thalach\"}, {\"v\": 0.12635609990249194, \"Column names\": \"exang\"}, {\"v\": -0.11034290092867013, \"Column names\": \"oldpeak\"}, {\"v\": 0.0738183863044634, \"Column names\": \"slope\"}, {\"v\": -0.18356934040365128, \"Column names\": \"ca\"}, {\"v\": -0.12501112990388913, \"Column names\": \"thal\"}]}}, {\"mode\": \"vega-lite\"});\n",
       "</script>"
      ],
      "text/plain": [
       "alt.Chart(...)"
      ]
     },
     "execution_count": 154,
     "metadata": {},
     "output_type": "execute_result"
    }
   ],
   "source": [
    "# contribution of each feature for PC3\n",
    "plot_pc(list(kaggle_df.columns[:13]), vt, 2)"
   ]
  },
  {
   "cell_type": "code",
   "execution_count": 155,
   "metadata": {},
   "outputs": [
    {
     "data": {
      "text/html": [
       "\n",
       "<div id=\"altair-viz-c4cdd1a355804e4f916f6e39cfd331f4\"></div>\n",
       "<script type=\"text/javascript\">\n",
       "  (function(spec, embedOpt){\n",
       "    let outputDiv = document.currentScript.previousElementSibling;\n",
       "    if (outputDiv.id !== \"altair-viz-c4cdd1a355804e4f916f6e39cfd331f4\") {\n",
       "      outputDiv = document.getElementById(\"altair-viz-c4cdd1a355804e4f916f6e39cfd331f4\");\n",
       "    }\n",
       "    const paths = {\n",
       "      \"vega\": \"https://cdn.jsdelivr.net/npm//vega@5?noext\",\n",
       "      \"vega-lib\": \"https://cdn.jsdelivr.net/npm//vega-lib?noext\",\n",
       "      \"vega-lite\": \"https://cdn.jsdelivr.net/npm//vega-lite@4.8.1?noext\",\n",
       "      \"vega-embed\": \"https://cdn.jsdelivr.net/npm//vega-embed@6?noext\",\n",
       "    };\n",
       "\n",
       "    function loadScript(lib) {\n",
       "      return new Promise(function(resolve, reject) {\n",
       "        var s = document.createElement('script');\n",
       "        s.src = paths[lib];\n",
       "        s.async = true;\n",
       "        s.onload = () => resolve(paths[lib]);\n",
       "        s.onerror = () => reject(`Error loading script: ${paths[lib]}`);\n",
       "        document.getElementsByTagName(\"head\")[0].appendChild(s);\n",
       "      });\n",
       "    }\n",
       "\n",
       "    function showError(err) {\n",
       "      outputDiv.innerHTML = `<div class=\"error\" style=\"color:red;\">${err}</div>`;\n",
       "      throw err;\n",
       "    }\n",
       "\n",
       "    function displayChart(vegaEmbed) {\n",
       "      vegaEmbed(outputDiv, spec, embedOpt)\n",
       "        .catch(err => showError(`Javascript Error: ${err.message}<br>This usually means there's a typo in your chart specification. See the javascript console for the full traceback.`));\n",
       "    }\n",
       "\n",
       "    if(typeof define === \"function\" && define.amd) {\n",
       "      requirejs.config({paths});\n",
       "      require([\"vega-embed\"], displayChart, err => showError(`Error loading script: ${err.message}`));\n",
       "    } else if (typeof vegaEmbed === \"function\") {\n",
       "      displayChart(vegaEmbed);\n",
       "    } else {\n",
       "      loadScript(\"vega\")\n",
       "        .then(() => loadScript(\"vega-lite\"))\n",
       "        .then(() => loadScript(\"vega-embed\"))\n",
       "        .catch(showError)\n",
       "        .then(() => displayChart(vegaEmbed));\n",
       "    }\n",
       "  })({\"config\": {\"view\": {\"continuousWidth\": 400, \"continuousHeight\": 300}, \"axis\": {\"labelFontSize\": 12, \"titleFontSize\": 14}, \"axisX\": {\"labelAngle\": 0}}, \"data\": {\"name\": \"data-2614c53c04719c29121b67f8456c97ec\"}, \"mark\": \"bar\", \"encoding\": {\"opacity\": {\"value\": 0.7}, \"x\": {\"type\": \"nominal\", \"field\": \"Column names\"}, \"y\": {\"type\": \"quantitative\", \"field\": \"v\"}}, \"width\": 700, \"$schema\": \"https://vega.github.io/schema/vega-lite/v4.8.1.json\", \"datasets\": {\"data-2614c53c04719c29121b67f8456c97ec\": [{\"v\": -0.02066180248669728, \"Column names\": \"age\"}, {\"v\": -0.2553087337548003, \"Column names\": \"sex\"}, {\"v\": 0.287900410401015, \"Column names\": \"cp\"}, {\"v\": 0.022601029793236416, \"Column names\": \"trestbps\"}, {\"v\": -0.3434098194986946, \"Column names\": \"chol\"}, {\"v\": -0.06860532392826194, \"Column names\": \"fbs\"}, {\"v\": 0.2660955451520975, \"Column names\": \"restecg\"}, {\"v\": -0.1841253886483224, \"Column names\": \"thalach\"}, {\"v\": -0.11505620626118918, \"Column names\": \"exang\"}, {\"v\": 0.32629596914291653, \"Column names\": \"oldpeak\"}, {\"v\": -0.4948489379634641, \"Column names\": \"slope\"}, {\"v\": -0.3280163197041631, \"Column names\": \"ca\"}, {\"v\": -0.38919137652529423, \"Column names\": \"thal\"}]}}, {\"mode\": \"vega-lite\"});\n",
       "</script>"
      ],
      "text/plain": [
       "alt.Chart(...)"
      ]
     },
     "execution_count": 155,
     "metadata": {},
     "output_type": "execute_result"
    }
   ],
   "source": [
    "# contribution of each feature for PC4\n",
    "plot_pc(list(kaggle_df.columns[:13]), vt, 3)"
   ]
  },
  {
   "cell_type": "markdown",
   "metadata": {},
   "source": [
    "# Logistic Regression"
   ]
  },
  {
   "cell_type": "code",
   "execution_count": null,
   "metadata": {},
   "outputs": [],
   "source": [
    "# from sklearn.linear_model import LogisticRegression\n",
    "# logreg = LogisticRegression()"
   ]
  },
  {
   "cell_type": "code",
   "execution_count": 152,
   "metadata": {},
   "outputs": [
    {
     "data": {
      "text/plain": [
       "0      1\n",
       "1      1\n",
       "2      1\n",
       "3      0\n",
       "4      1\n",
       "      ..\n",
       "298    1\n",
       "299    1\n",
       "300    1\n",
       "301    1\n",
       "302    0\n",
       "Name: target, Length: 303, dtype: int64"
      ]
     },
     "execution_count": 152,
     "metadata": {},
     "output_type": "execute_result"
    }
   ],
   "source": [
    "# X = pd.DataFrame(kaggle_centered)\n",
    "# X.columns = kaggle_df.columns[:13]\n",
    "# y = kaggle_df['target']\n",
    "# y"
   ]
  }
 ],
 "metadata": {
  "hide_code_all_hidden": true,
  "kernelspec": {
   "display_name": "Python 3",
   "language": "python",
   "name": "python3"
  },
  "language_info": {
   "codemirror_mode": {
    "name": "ipython",
    "version": 3
   },
   "file_extension": ".py",
   "mimetype": "text/x-python",
   "name": "python",
   "nbconvert_exporter": "python",
   "pygments_lexer": "ipython3",
   "version": "3.7.4"
  },
  "toc": {
   "base_numbering": 1,
   "nav_menu": {},
   "number_sections": true,
   "sideBar": true,
   "skip_h1_title": false,
   "title_cell": "Table of Contents",
   "title_sidebar": "Contents",
   "toc_cell": false,
   "toc_position": {},
   "toc_section_display": true,
   "toc_window_display": false
  }
 },
 "nbformat": 4,
 "nbformat_minor": 4
}
